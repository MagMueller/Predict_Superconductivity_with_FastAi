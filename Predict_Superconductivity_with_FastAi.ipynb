{
  "nbformat": 4,
  "nbformat_minor": 0,
  "metadata": {
    "colab": {
      "name": "Predict Superconductivity with FastAi.ipynb",
      "provenance": [],
      "collapsed_sections": [],
      "include_colab_link": true
    },
    "kernelspec": {
      "name": "python3",
      "display_name": "Python 3"
    },
    "language_info": {
      "name": "python"
    },
    "accelerator": "GPU"
  },
  "cells": [
    {
      "cell_type": "markdown",
      "metadata": {
        "id": "view-in-github",
        "colab_type": "text"
      },
      "source": [
        "<a href=\"https://colab.research.google.com/github/MagMueller/Predict_Superconductivity_with_FastAi/blob/main/Predict_Superconductivity_with_FastAi.ipynb\" target=\"_parent\"><img src=\"https://colab.research.google.com/assets/colab-badge.svg\" alt=\"Open In Colab\"/></a>"
      ]
    },
    {
      "cell_type": "markdown",
      "source": [
        "## Introduction\n",
        "\n",
        "Superconductivity is a quantum phenomenon that leads to zero resistance in conductors. So far, we only know matrials that have to be under high pressure or at very low temperatures. Thus, to reach the full potential for our power grid or new quantum devices, we need to find a superconductor at room temperature. \n",
        "In this notebook, we will first predict the superconducting temperature of different materials and then find new elements and observe their superconducting temperature with the first model to investigate new matrial combinations. "
      ],
      "metadata": {
        "id": "jQQjymQ4iP_g"
      }
    },
    {
      "cell_type": "markdown",
      "source": [
        "## Setup\n"
      ],
      "metadata": {
        "id": "AJ4JzbVRwfhO"
      }
    },
    {
      "cell_type": "code",
      "source": [
        "#!pip install fastai --upgrade"
      ],
      "metadata": {
        "id": "D1RfEDds6VGg"
      },
      "execution_count": 1,
      "outputs": []
    },
    {
      "cell_type": "code",
      "source": [
        "!curl -s https://course.fast.ai/setup/colab | bash"
      ],
      "metadata": {
        "colab": {
          "base_uri": "https://localhost:8080/"
        },
        "id": "y2yQoMzV7MFK",
        "outputId": "7bf60a77-5ad2-4bce-ee14-68270ff4a6eb"
      },
      "execution_count": 1,
      "outputs": [
        {
          "output_type": "stream",
          "name": "stdout",
          "text": [
            "bash: line 1: syntax error near unexpected token `newline'\n",
            "bash: line 1: `<!DOCTYPE html>'\n"
          ]
        }
      ]
    },
    {
      "cell_type": "code",
      "source": [
        "import pandas as pd\n",
        "import matplotlib.pyplot as plt\n",
        "import numpy as np\n",
        "#from fastai.tabular import *\n",
        "from fastai.tabular.all import *\n",
        "from fastai import *\n",
        "from sklearn.model_selection import train_test_split\n",
        "from sklearn.metrics import mean_squared_error\n",
        "from scipy.stats import pearsonr"
      ],
      "metadata": {
        "id": "YThbbGSWvOJE"
      },
      "execution_count": 2,
      "outputs": []
    },
    {
      "cell_type": "markdown",
      "source": [
        "## Load and inspect Data"
      ],
      "metadata": {
        "id": "mr8FRq-OKuvy"
      }
    },
    {
      "cell_type": "code",
      "execution_count": 3,
      "metadata": {
        "colab": {
          "base_uri": "https://localhost:8080/"
        },
        "id": "0V7cWkm_vELM",
        "outputId": "9142e593-9248-416a-af9e-c41367148776"
      },
      "outputs": [
        {
          "output_type": "stream",
          "name": "stdout",
          "text": [
            "Mounted at /content/drive\n"
          ]
        }
      ],
      "source": [
        "from google.colab import drive\n",
        "drive.mount('/content/drive')"
      ]
    },
    {
      "cell_type": "markdown",
      "source": [
        "The 2 Dataset can be downloaded here: https://archive.ics.uci.edu/ml/datasets/superconductivty+data \n",
        "\n",
        "You can upload it directly to colab or go like us over google drive."
      ],
      "metadata": {
        "id": "sFYrPY4Lk9vr"
      }
    },
    {
      "cell_type": "code",
      "source": [
        "df = pd.read_csv(\"drive/MyDrive/developer/superconduct/train.csv\")\n",
        "df_atoms = pd.read_csv(\"drive/MyDrive/developer/superconduct/unique_m.csv\")"
      ],
      "metadata": {
        "id": "_-pn3LFbv4H5"
      },
      "execution_count": 4,
      "outputs": []
    },
    {
      "cell_type": "code",
      "source": [
        "df['critical_temp'].describe()"
      ],
      "metadata": {
        "colab": {
          "base_uri": "https://localhost:8080/"
        },
        "id": "wsDkASySwJGG",
        "outputId": "1d6d23e0-53f7-4f78-b4a0-38082b4e2035"
      },
      "execution_count": 5,
      "outputs": [
        {
          "output_type": "execute_result",
          "data": {
            "text/plain": [
              "count    21263.000000\n",
              "mean        34.421219\n",
              "std         34.254362\n",
              "min          0.000210\n",
              "25%          5.365000\n",
              "50%         20.000000\n",
              "75%         63.000000\n",
              "max        185.000000\n",
              "Name: critical_temp, dtype: float64"
            ]
          },
          "metadata": {},
          "execution_count": 5
        }
      ]
    },
    {
      "cell_type": "code",
      "source": [
        "# plot all critical tempretures to see to distribution. Y axis is in celvin:\n",
        "critical_temp = df['critical_temp'].to_numpy()\n",
        "critical_temp.sort()\n",
        "\n",
        "plt.plot(critical_temp)\n",
        "plt.ylabel('critical temp. (K)')"
      ],
      "metadata": {
        "colab": {
          "base_uri": "https://localhost:8080/",
          "height": 282
        },
        "id": "K8yEPX4PydOy",
        "outputId": "856000e3-4347-4a99-af40-e864a819ac6a"
      },
      "execution_count": 6,
      "outputs": [
        {
          "output_type": "execute_result",
          "data": {
            "text/plain": [
              "Text(0, 0.5, 'critical temp. (K)')"
            ]
          },
          "metadata": {},
          "execution_count": 6
        },
        {
          "output_type": "display_data",
          "data": {
            "text/plain": [
              "<Figure size 432x288 with 1 Axes>"
            ],
            "image/png": "[encoded data removed]"
          },
          "metadata": {
            "needs_background": "light"
          }
        }
      ]
    },
    {
      "cell_type": "markdown",
      "source": [
        "# I. Use Dataset with properties as mass, radius, entropy ect."
      ],
      "metadata": {
        "id": "1jx4SMFUwrot"
      }
    },
    {
      "cell_type": "markdown",
      "source": [
        "## Preprocessing "
      ],
      "metadata": {
        "id": "8aeLUvVDxIA3"
      }
    },
    {
      "cell_type": "code",
      "source": [
        "# create dataset for fastai\n",
        "train, test = train_test_split(df, test_size=0.06)\n",
        "\n",
        "cont_names = train.columns[:-1].tolist()\n",
        "procs = [Categorify, FillMissing, Normalize]\n",
        "splits = RandomSplitter(valid_pct=0.1)(range_of(train))\n",
        "\n",
        "dls = TabularDataLoaders.from_df(train, procs=procs, path='.', cat_names=[], cont_names=cont_names, y_names=\"critical_temp\", splits=splits, bs=64)"
      ],
      "metadata": {
        "id": "ojhTRdhW2O12"
      },
      "execution_count": 8,
      "outputs": []
    },
    {
      "cell_type": "code",
      "source": [
        "dls.show_batch()"
      ],
      "metadata": {
        "colab": {
          "base_uri": "https://localhost:8080/",
          "height": 382
        },
        "id": "FuMuYrfx7OoC",
        "outputId": "160e51a5-c107-4336-a367-b7bbfdbe6d62"
      },
      "execution_count": 9,
      "outputs": [
        {
          "output_type": "display_data",
          "data": {
            "text/plain": [
              "<IPython.core.display.HTML object>"
            ],
            "text/html": [
              "<table border=\"1\" class=\"dataframe\">\n",
              "  <thead>\n",
              "    <tr style=\"text-align: right;\">\n",
              "      <th></th>\n",
              "      <th>number_of_elements</th>\n",
              "      <th>mean_atomic_mass</th>\n",
              "      <th>wtd_mean_atomic_mass</th>\n",
              "      <th>gmean_atomic_mass</th>\n",
              "      <th>wtd_gmean_atomic_mass</th>\n",
              "      <th>entropy_atomic_mass</th>\n",
              "      <th>wtd_entropy_atomic_mass</th>\n",
              "      <th>range_atomic_mass</th>\n",
              "      <th>wtd_range_atomic_mass</th>\n",
              "      <th>std_atomic_mass</th>\n",
              "      <th>wtd_std_atomic_mass</th>\n",
              "      <th>mean_fie</th>\n",
              "      <th>wtd_mean_fie</th>\n",
              "      <th>gmean_fie</th>\n",
              "      <th>wtd_gmean_fie</th>\n",
              "      <th>entropy_fie</th>\n",
              "      <th>wtd_entropy_fie</th>\n",
              "      <th>range_fie</th>\n",
              "      <th>wtd_range_fie</th>\n",
              "      <th>std_fie</th>\n",
              "      <th>wtd_std_fie</th>\n",
              "      <th>mean_atomic_radius</th>\n",
              "      <th>wtd_mean_atomic_radius</th>\n",
              "      <th>gmean_atomic_radius</th>\n",
              "      <th>wtd_gmean_atomic_radius</th>\n",
              "      <th>entropy_atomic_radius</th>\n",
              "      <th>wtd_entropy_atomic_radius</th>\n",
              "      <th>range_atomic_radius</th>\n",
              "      <th>wtd_range_atomic_radius</th>\n",
              "      <th>std_atomic_radius</th>\n",
              "      <th>wtd_std_atomic_radius</th>\n",
              "      <th>mean_Density</th>\n",
              "      <th>wtd_mean_Density</th>\n",
              "      <th>gmean_Density</th>\n",
              "      <th>wtd_gmean_Density</th>\n",
              "      <th>entropy_Density</th>\n",
              "      <th>wtd_entropy_Density</th>\n",
              "      <th>range_Density</th>\n",
              "      <th>wtd_range_Density</th>\n",
              "      <th>std_Density</th>\n",
              "      <th>wtd_std_Density</th>\n",
              "      <th>mean_ElectronAffinity</th>\n",
              "      <th>wtd_mean_ElectronAffinity</th>\n",
              "      <th>gmean_ElectronAffinity</th>\n",
              "      <th>wtd_gmean_ElectronAffinity</th>\n",
              "      <th>entropy_ElectronAffinity</th>\n",
              "      <th>wtd_entropy_ElectronAffinity</th>\n",
              "      <th>range_ElectronAffinity</th>\n",
              "      <th>wtd_range_ElectronAffinity</th>\n",
              "      <th>std_ElectronAffinity</th>\n",
              "      <th>wtd_std_ElectronAffinity</th>\n",
              "      <th>mean_FusionHeat</th>\n",
              "      <th>wtd_mean_FusionHeat</th>\n",
              "      <th>gmean_FusionHeat</th>\n",
              "      <th>wtd_gmean_FusionHeat</th>\n",
              "      <th>entropy_FusionHeat</th>\n",
              "      <th>wtd_entropy_FusionHeat</th>\n",
              "      <th>range_FusionHeat</th>\n",
              "      <th>wtd_range_FusionHeat</th>\n",
              "      <th>std_FusionHeat</th>\n",
              "      <th>wtd_std_FusionHeat</th>\n",
              "      <th>mean_ThermalConductivity</th>\n",
              "      <th>wtd_mean_ThermalConductivity</th>\n",
              "      <th>gmean_ThermalConductivity</th>\n",
              "      <th>wtd_gmean_ThermalConductivity</th>\n",
              "      <th>entropy_ThermalConductivity</th>\n",
              "      <th>wtd_entropy_ThermalConductivity</th>\n",
              "      <th>range_ThermalConductivity</th>\n",
              "      <th>wtd_range_ThermalConductivity</th>\n",
              "      <th>std_ThermalConductivity</th>\n",
              "      <th>wtd_std_ThermalConductivity</th>\n",
              "      <th>mean_Valence</th>\n",
              "      <th>wtd_mean_Valence</th>\n",
              "      <th>gmean_Valence</th>\n",
              "      <th>wtd_gmean_Valence</th>\n",
              "      <th>entropy_Valence</th>\n",
              "      <th>wtd_entropy_Valence</th>\n",
              "      <th>range_Valence</th>\n",
              "      <th>wtd_range_Valence</th>\n",
              "      <th>std_Valence</th>\n",
              "      <th>wtd_std_Valence</th>\n",
              "      <th>critical_temp</th>\n",
              "    </tr>\n",
              "  </thead>\n",
              "  <tbody>\n",
              "    <tr>\n",
              "      <th>0</th>\n",
              "      <td>5.0</td>\n",
              "      <td>92.940720</td>\n",
              "      <td>51.676555</td>\n",
              "      <td>72.279358</td>\n",
              "      <td>35.060368</td>\n",
              "      <td>1.431655</td>\n",
              "      <td>1.353242</td>\n",
              "      <td>142.925949</td>\n",
              "      <td>20.149229</td>\n",
              "      <td>51.233601</td>\n",
              "      <td>44.893024</td>\n",
              "      <td>749.000001</td>\n",
              "      <td>1003.337528</td>\n",
              "      <td>703.350770</td>\n",
              "      <td>937.106993</td>\n",
              "      <td>1.541260</td>\n",
              "      <td>0.902323</td>\n",
              "      <td>810.599978</td>\n",
              "      <td>703.552311</td>\n",
              "      <td>292.996948</td>\n",
              "      <td>342.738798</td>\n",
              "      <td>176.600006</td>\n",
              "      <td>114.618462</td>\n",
              "      <td>153.055740</td>\n",
              "      <td>89.718041</td>\n",
              "      <td>1.504038</td>\n",
              "      <td>1.381573</td>\n",
              "      <td>205.000001</td>\n",
              "      <td>37.538460</td>\n",
              "      <td>73.442764</td>\n",
              "      <td>79.340257</td>\n",
              "      <td>5032.485840</td>\n",
              "      <td>2975.520215</td>\n",
              "      <td>1105.588699</td>\n",
              "      <td>66.591166</td>\n",
              "      <td>1.315509</td>\n",
              "      <td>0.872394</td>\n",
              "      <td>8958.571284</td>\n",
              "      <td>2066.922857</td>\n",
              "      <td>3271.784916</td>\n",
              "      <td>3660.492674</td>\n",
              "      <td>72.089996</td>\n",
              "      <td>109.294769</td>\n",
              "      <td>53.116081</td>\n",
              "      <td>86.808396</td>\n",
              "      <td>1.357429</td>\n",
              "      <td>0.774963</td>\n",
              "      <td>127.050003</td>\n",
              "      <td>76.413849</td>\n",
              "      <td>50.111042</td>\n",
              "      <td>49.272938</td>\n",
              "      <td>8.704400</td>\n",
              "      <td>5.246615</td>\n",
              "      <td>4.913699</td>\n",
              "      <td>1.336475</td>\n",
              "      <td>1.396425</td>\n",
              "      <td>1.087199</td>\n",
              "      <td>12.878000</td>\n",
              "      <td>2.956615</td>\n",
              "      <td>4.548107</td>\n",
              "      <td>5.644730</td>\n",
              "      <td>89.205315</td>\n",
              "      <td>96.362008</td>\n",
              "      <td>8.142276</td>\n",
              "      <td>1.093363</td>\n",
              "      <td>0.443636</td>\n",
              "      <td>0.204316</td>\n",
              "      <td>399.973416</td>\n",
              "      <td>92.293381</td>\n",
              "      <td>155.528809</td>\n",
              "      <td>166.458664</td>\n",
              "      <td>2.400000</td>\n",
              "      <td>2.076923</td>\n",
              "      <td>2.352158</td>\n",
              "      <td>2.063362</td>\n",
              "      <td>1.589027</td>\n",
              "      <td>1.232797</td>\n",
              "      <td>1.0</td>\n",
              "      <td>1.058462</td>\n",
              "      <td>0.489898</td>\n",
              "      <td>0.266469</td>\n",
              "      <td>0.740000</td>\n",
              "    </tr>\n",
              "    <tr>\n",
              "      <th>1</th>\n",
              "      <td>4.0</td>\n",
              "      <td>96.451653</td>\n",
              "      <td>57.593666</td>\n",
              "      <td>69.689339</td>\n",
              "      <td>36.845229</td>\n",
              "      <td>1.158346</td>\n",
              "      <td>1.336725</td>\n",
              "      <td>152.934814</td>\n",
              "      <td>12.644372</td>\n",
              "      <td>60.166150</td>\n",
              "      <td>53.634944</td>\n",
              "      <td>787.400024</td>\n",
              "      <td>1000.147886</td>\n",
              "      <td>733.544312</td>\n",
              "      <td>932.929386</td>\n",
              "      <td>1.312123</td>\n",
              "      <td>0.889354</td>\n",
              "      <td>810.599978</td>\n",
              "      <td>658.725958</td>\n",
              "      <td>315.709044</td>\n",
              "      <td>344.906369</td>\n",
              "      <td>167.000000</td>\n",
              "      <td>115.619782</td>\n",
              "      <td>140.611450</td>\n",
              "      <td>90.266464</td>\n",
              "      <td>1.254609</td>\n",
              "      <td>1.343378</td>\n",
              "      <td>205.000001</td>\n",
              "      <td>21.947451</td>\n",
              "      <td>79.161225</td>\n",
              "      <td>80.274689</td>\n",
              "      <td>5447.857423</td>\n",
              "      <td>3340.797387</td>\n",
              "      <td>804.480972</td>\n",
              "      <td>71.476495</td>\n",
              "      <td>1.023422</td>\n",
              "      <td>0.923347</td>\n",
              "      <td>9318.571300</td>\n",
              "      <td>2076.513418</td>\n",
              "      <td>3897.034407</td>\n",
              "      <td>4008.540279</td>\n",
              "      <td>82.337501</td>\n",
              "      <td>110.591186</td>\n",
              "      <td>60.721493</td>\n",
              "      <td>89.771262</td>\n",
              "      <td>1.164013</td>\n",
              "      <td>0.804915</td>\n",
              "      <td>127.050003</td>\n",
              "      <td>74.037865</td>\n",
              "      <td>51.125721</td>\n",
              "      <td>47.276306</td>\n",
              "      <td>9.530500</td>\n",
              "      <td>5.690933</td>\n",
              "      <td>4.446373</td>\n",
              "      <td>1.389105</td>\n",
              "      <td>1.085789</td>\n",
              "      <td>1.084865</td>\n",
              "      <td>16.577999</td>\n",
              "      <td>2.918031</td>\n",
              "      <td>6.216461</td>\n",
              "      <td>6.255309</td>\n",
              "      <td>108.756645</td>\n",
              "      <td>96.845787</td>\n",
              "      <td>7.552385</td>\n",
              "      <td>1.115367</td>\n",
              "      <td>0.336262</td>\n",
              "      <td>0.203137</td>\n",
              "      <td>399.973416</td>\n",
              "      <td>92.721451</td>\n",
              "      <td>168.301038</td>\n",
              "      <td>166.696094</td>\n",
              "      <td>2.250000</td>\n",
              "      <td>2.077280</td>\n",
              "      <td>2.213364</td>\n",
              "      <td>2.063661</td>\n",
              "      <td>1.368922</td>\n",
              "      <td>1.204247</td>\n",
              "      <td>1.0</td>\n",
              "      <td>0.840804</td>\n",
              "      <td>0.433013</td>\n",
              "      <td>0.267035</td>\n",
              "      <td>74.300003</td>\n",
              "    </tr>\n",
              "    <tr>\n",
              "      <th>2</th>\n",
              "      <td>2.0</td>\n",
              "      <td>157.700192</td>\n",
              "      <td>174.793594</td>\n",
              "      <td>149.129790</td>\n",
              "      <td>166.882750</td>\n",
              "      <td>0.639304</td>\n",
              "      <td>0.504457</td>\n",
              "      <td>102.560402</td>\n",
              "      <td>103.846930</td>\n",
              "      <td>51.280201</td>\n",
              "      <td>48.347435</td>\n",
              "      <td>753.200012</td>\n",
              "      <td>736.433346</td>\n",
              "      <td>751.518554</td>\n",
              "      <td>734.949767</td>\n",
              "      <td>0.690916</td>\n",
              "      <td>0.655512</td>\n",
              "      <td>100.600003</td>\n",
              "      <td>200.766669</td>\n",
              "      <td>50.299993</td>\n",
              "      <td>47.423290</td>\n",
              "      <td>156.000000</td>\n",
              "      <td>151.666672</td>\n",
              "      <td>155.457382</td>\n",
              "      <td>151.188796</td>\n",
              "      <td>0.689671</td>\n",
              "      <td>0.659712</td>\n",
              "      <td>26.000000</td>\n",
              "      <td>39.000000</td>\n",
              "      <td>13.000001</td>\n",
              "      <td>12.256518</td>\n",
              "      <td>10901.499932</td>\n",
              "      <td>10527.666837</td>\n",
              "      <td>10843.659192</td>\n",
              "      <td>10476.836682</td>\n",
              "      <td>0.687846</td>\n",
              "      <td>0.664396</td>\n",
              "      <td>2243.000240</td>\n",
              "      <td>2512.333262</td>\n",
              "      <td>1121.499946</td>\n",
              "      <td>1057.360309</td>\n",
              "      <td>73.949997</td>\n",
              "      <td>80.199997</td>\n",
              "      <td>71.533485</td>\n",
              "      <td>77.988907</td>\n",
              "      <td>0.660650</td>\n",
              "      <td>0.538582</td>\n",
              "      <td>37.499999</td>\n",
              "      <td>43.400002</td>\n",
              "      <td>18.749999</td>\n",
              "      <td>17.677670</td>\n",
              "      <td>13.800000</td>\n",
              "      <td>12.833333</td>\n",
              "      <td>13.491849</td>\n",
              "      <td>12.565791</td>\n",
              "      <td>0.670901</td>\n",
              "      <td>0.684348</td>\n",
              "      <td>5.800001</td>\n",
              "      <td>1.700000</td>\n",
              "      <td>2.900000</td>\n",
              "      <td>2.734146</td>\n",
              "      <td>39.500002</td>\n",
              "      <td>28.999999</td>\n",
              "      <td>23.832750</td>\n",
              "      <td>16.563270</td>\n",
              "      <td>0.327855</td>\n",
              "      <td>0.477268</td>\n",
              "      <td>62.999996</td>\n",
              "      <td>18.333334</td>\n",
              "      <td>31.500002</td>\n",
              "      <td>29.698483</td>\n",
              "      <td>4.500000</td>\n",
              "      <td>4.666666</td>\n",
              "      <td>4.472136</td>\n",
              "      <td>4.641589</td>\n",
              "      <td>0.686962</td>\n",
              "      <td>0.598270</td>\n",
              "      <td>1.0</td>\n",
              "      <td>2.000000</td>\n",
              "      <td>0.500000</td>\n",
              "      <td>0.471405</td>\n",
              "      <td>32.000000</td>\n",
              "    </tr>\n",
              "    <tr>\n",
              "      <th>3</th>\n",
              "      <td>6.0</td>\n",
              "      <td>92.012566</td>\n",
              "      <td>61.279007</td>\n",
              "      <td>68.498917</td>\n",
              "      <td>39.322491</td>\n",
              "      <td>1.552539</td>\n",
              "      <td>1.597507</td>\n",
              "      <td>184.590608</td>\n",
              "      <td>16.465346</td>\n",
              "      <td>63.010334</td>\n",
              "      <td>57.378376</td>\n",
              "      <td>789.000000</td>\n",
              "      <td>1000.703552</td>\n",
              "      <td>743.743103</td>\n",
              "      <td>937.690367</td>\n",
              "      <td>1.730593</td>\n",
              "      <td>1.113365</td>\n",
              "      <td>781.599972</td>\n",
              "      <td>652.866268</td>\n",
              "      <td>285.029880</td>\n",
              "      <td>334.258698</td>\n",
              "      <td>163.833328</td>\n",
              "      <td>116.008331</td>\n",
              "      <td>147.781387</td>\n",
              "      <td>93.253471</td>\n",
              "      <td>1.716263</td>\n",
              "      <td>1.594028</td>\n",
              "      <td>171.000001</td>\n",
              "      <td>35.287498</td>\n",
              "      <td>57.088867</td>\n",
              "      <td>71.657631</td>\n",
              "      <td>5614.238278</td>\n",
              "      <td>3610.256048</td>\n",
              "      <td>1305.555378</td>\n",
              "      <td>92.660150</td>\n",
              "      <td>1.386470</td>\n",
              "      <td>1.286468</td>\n",
              "      <td>13532.571493</td>\n",
              "      <td>1492.618776</td>\n",
              "      <td>4704.470257</td>\n",
              "      <td>4534.989251</td>\n",
              "      <td>54.299999</td>\n",
              "      <td>96.440643</td>\n",
              "      <td>17.941527</td>\n",
              "      <td>51.226589</td>\n",
              "      <td>1.176964</td>\n",
              "      <td>0.742431</td>\n",
              "      <td>141.000001</td>\n",
              "      <td>71.225815</td>\n",
              "      <td>57.305378</td>\n",
              "      <td>58.823132</td>\n",
              "      <td>6.542000</td>\n",
              "      <td>4.419167</td>\n",
              "      <td>3.844835</td>\n",
              "      <td>1.292198</td>\n",
              "      <td>1.526597</td>\n",
              "      <td>1.250150</td>\n",
              "      <td>12.878000</td>\n",
              "      <td>2.129958</td>\n",
              "      <td>4.231989</td>\n",
              "      <td>4.954043</td>\n",
              "      <td>110.054428</td>\n",
              "      <td>75.765373</td>\n",
              "      <td>14.798124</td>\n",
              "      <td>1.227770</td>\n",
              "      <td>0.970740</td>\n",
              "      <td>0.492265</td>\n",
              "      <td>399.973416</td>\n",
              "      <td>66.653374</td>\n",
              "      <td>146.578200</td>\n",
              "      <td>146.316299</td>\n",
              "      <td>2.166667</td>\n",
              "      <td>2.077083</td>\n",
              "      <td>2.139826</td>\n",
              "      <td>2.063496</td>\n",
              "      <td>1.778233</td>\n",
              "      <td>1.416743</td>\n",
              "      <td>1.0</td>\n",
              "      <td>0.987500</td>\n",
              "      <td>0.372678</td>\n",
              "      <td>0.266724</td>\n",
              "      <td>11.100000</td>\n",
              "    </tr>\n",
              "    <tr>\n",
              "      <th>4</th>\n",
              "      <td>6.0</td>\n",
              "      <td>79.192833</td>\n",
              "      <td>97.040511</td>\n",
              "      <td>59.410213</td>\n",
              "      <td>73.668960</td>\n",
              "      <td>1.523721</td>\n",
              "      <td>1.203395</td>\n",
              "      <td>192.981004</td>\n",
              "      <td>52.171432</td>\n",
              "      <td>62.040962</td>\n",
              "      <td>68.280692</td>\n",
              "      <td>776.250000</td>\n",
              "      <td>737.053891</td>\n",
              "      <td>743.320496</td>\n",
              "      <td>709.175112</td>\n",
              "      <td>1.744636</td>\n",
              "      <td>1.575188</td>\n",
              "      <td>764.099976</td>\n",
              "      <td>184.371127</td>\n",
              "      <td>252.140701</td>\n",
              "      <td>230.982239</td>\n",
              "      <td>150.166672</td>\n",
              "      <td>157.008744</td>\n",
              "      <td>136.355438</td>\n",
              "      <td>144.691497</td>\n",
              "      <td>1.717010</td>\n",
              "      <td>1.463574</td>\n",
              "      <td>171.000001</td>\n",
              "      <td>54.560001</td>\n",
              "      <td>53.508308</td>\n",
              "      <td>51.981739</td>\n",
              "      <td>5303.571321</td>\n",
              "      <td>5536.353513</td>\n",
              "      <td>1286.943347</td>\n",
              "      <td>1814.752883</td>\n",
              "      <td>1.429499</td>\n",
              "      <td>1.110403</td>\n",
              "      <td>9778.571314</td>\n",
              "      <td>2444.821298</td>\n",
              "      <td>3993.581785</td>\n",
              "      <td>3919.118185</td>\n",
              "      <td>71.783333</td>\n",
              "      <td>73.010376</td>\n",
              "      <td>37.104869</td>\n",
              "      <td>36.104643</td>\n",
              "      <td>1.444192</td>\n",
              "      <td>1.199942</td>\n",
              "      <td>138.630006</td>\n",
              "      <td>29.743625</td>\n",
              "      <td>52.705353</td>\n",
              "      <td>54.313603</td>\n",
              "      <td>9.493667</td>\n",
              "      <td>9.099125</td>\n",
              "      <td>5.721619</td>\n",
              "      <td>6.299246</td>\n",
              "      <td>1.593847</td>\n",
              "      <td>1.344497</td>\n",
              "      <td>15.978000</td>\n",
              "      <td>3.238375</td>\n",
              "      <td>4.984353</td>\n",
              "      <td>3.879055</td>\n",
              "      <td>123.837761</td>\n",
              "      <td>135.378325</td>\n",
              "      <td>19.760616</td>\n",
              "      <td>22.503500</td>\n",
              "      <td>1.149632</td>\n",
              "      <td>0.784265</td>\n",
              "      <td>399.973416</td>\n",
              "      <td>99.496681</td>\n",
              "      <td>140.993059</td>\n",
              "      <td>163.729846</td>\n",
              "      <td>2.833333</td>\n",
              "      <td>2.752500</td>\n",
              "      <td>2.615321</td>\n",
              "      <td>2.517047</td>\n",
              "      <td>1.707475</td>\n",
              "      <td>1.424723</td>\n",
              "      <td>3.0</td>\n",
              "      <td>1.245000</td>\n",
              "      <td>1.213352</td>\n",
              "      <td>1.299517</td>\n",
              "      <td>4.550000</td>\n",
              "    </tr>\n",
              "    <tr>\n",
              "      <th>5</th>\n",
              "      <td>4.0</td>\n",
              "      <td>64.632218</td>\n",
              "      <td>56.495971</td>\n",
              "      <td>48.775792</td>\n",
              "      <td>35.492551</td>\n",
              "      <td>1.139875</td>\n",
              "      <td>0.904939</td>\n",
              "      <td>122.906067</td>\n",
              "      <td>37.130371</td>\n",
              "      <td>46.059082</td>\n",
              "      <td>52.834060</td>\n",
              "      <td>797.150024</td>\n",
              "      <td>1012.061401</td>\n",
              "      <td>747.369629</td>\n",
              "      <td>941.151183</td>\n",
              "      <td>1.318126</td>\n",
              "      <td>0.778640</td>\n",
              "      <td>771.999995</td>\n",
              "      <td>741.922840</td>\n",
              "      <td>307.264401</td>\n",
              "      <td>353.171717</td>\n",
              "      <td>145.500000</td>\n",
              "      <td>103.842857</td>\n",
              "      <td>127.382981</td>\n",
              "      <td>83.895730</td>\n",
              "      <td>1.284609</td>\n",
              "      <td>1.113421</td>\n",
              "      <td>147.000000</td>\n",
              "      <td>50.157143</td>\n",
              "      <td>59.810116</td>\n",
              "      <td>66.298813</td>\n",
              "      <td>4164.357441</td>\n",
              "      <td>2971.159514</td>\n",
              "      <td>590.970888</td>\n",
              "      <td>53.347502</td>\n",
              "      <td>0.923185</td>\n",
              "      <td>0.725627</td>\n",
              "      <td>8958.571284</td>\n",
              "      <td>1667.383372</td>\n",
              "      <td>3573.861084</td>\n",
              "      <td>3595.565433</td>\n",
              "      <td>78.942497</td>\n",
              "      <td>112.048142</td>\n",
              "      <td>42.534130</td>\n",
              "      <td>99.102737</td>\n",
              "      <td>1.071190</td>\n",
              "      <td>0.777175</td>\n",
              "      <td>138.630006</td>\n",
              "      <td>81.373283</td>\n",
              "      <td>55.271633</td>\n",
              "      <td>42.045006</td>\n",
              "      <td>7.040500</td>\n",
              "      <td>3.830286</td>\n",
              "      <td>3.536760</td>\n",
              "      <td>1.038408</td>\n",
              "      <td>1.091016</td>\n",
              "      <td>0.932616</td>\n",
              "      <td>12.878000</td>\n",
              "      <td>1.749429</td>\n",
              "      <td>4.636980</td>\n",
              "      <td>4.657002</td>\n",
              "      <td>153.256637</td>\n",
              "      <td>63.543758</td>\n",
              "      <td>12.894279</td>\n",
              "      <td>0.640761</td>\n",
              "      <td>0.726164</td>\n",
              "      <td>0.397472</td>\n",
              "      <td>399.973416</td>\n",
              "      <td>57.127670</td>\n",
              "      <td>162.955976</td>\n",
              "      <td>139.415327</td>\n",
              "      <td>2.250000</td>\n",
              "      <td>2.271429</td>\n",
              "      <td>2.213364</td>\n",
              "      <td>2.232678</td>\n",
              "      <td>1.368922</td>\n",
              "      <td>1.029175</td>\n",
              "      <td>1.0</td>\n",
              "      <td>1.114286</td>\n",
              "      <td>0.433013</td>\n",
              "      <td>0.444697</td>\n",
              "      <td>79.000000</td>\n",
              "    </tr>\n",
              "    <tr>\n",
              "      <th>6</th>\n",
              "      <td>4.0</td>\n",
              "      <td>93.530602</td>\n",
              "      <td>56.502907</td>\n",
              "      <td>68.451759</td>\n",
              "      <td>36.501847</td>\n",
              "      <td>1.168103</td>\n",
              "      <td>1.334656</td>\n",
              "      <td>141.250596</td>\n",
              "      <td>12.512168</td>\n",
              "      <td>56.763653</td>\n",
              "      <td>51.774360</td>\n",
              "      <td>788.700012</td>\n",
              "      <td>1001.992308</td>\n",
              "      <td>735.158020</td>\n",
              "      <td>935.034302</td>\n",
              "      <td>1.312718</td>\n",
              "      <td>0.886968</td>\n",
              "      <td>810.599978</td>\n",
              "      <td>661.346126</td>\n",
              "      <td>314.899077</td>\n",
              "      <td>344.286410</td>\n",
              "      <td>169.750000</td>\n",
              "      <td>116.153846</td>\n",
              "      <td>142.321793</td>\n",
              "      <td>90.339172</td>\n",
              "      <td>1.251868</td>\n",
              "      <td>1.347650</td>\n",
              "      <td>205.000001</td>\n",
              "      <td>21.000000</td>\n",
              "      <td>81.189208</td>\n",
              "      <td>81.390649</td>\n",
              "      <td>5093.107462</td>\n",
              "      <td>3216.230984</td>\n",
              "      <td>771.937833</td>\n",
              "      <td>69.311107</td>\n",
              "      <td>1.032271</td>\n",
              "      <td>0.900463</td>\n",
              "      <td>8958.571284</td>\n",
              "      <td>2066.922857</td>\n",
              "      <td>3580.102533</td>\n",
              "      <td>3857.430153</td>\n",
              "      <td>82.337501</td>\n",
              "      <td>110.738465</td>\n",
              "      <td>60.721493</td>\n",
              "      <td>89.962913</td>\n",
              "      <td>1.164013</td>\n",
              "      <td>0.802322</td>\n",
              "      <td>127.050003</td>\n",
              "      <td>74.353844</td>\n",
              "      <td>51.125721</td>\n",
              "      <td>47.216640</td>\n",
              "      <td>7.830500</td>\n",
              "      <td>5.142615</td>\n",
              "      <td>3.905517</td>\n",
              "      <td>1.323512</td>\n",
              "      <td>1.112781</td>\n",
              "      <td>1.026165</td>\n",
              "      <td>12.878000</td>\n",
              "      <td>2.903538</td>\n",
              "      <td>4.753745</td>\n",
              "      <td>5.542636</td>\n",
              "      <td>107.256645</td>\n",
              "      <td>95.937385</td>\n",
              "      <td>6.773608</td>\n",
              "      <td>1.060193</td>\n",
              "      <td>0.292895</td>\n",
              "      <td>0.182478</td>\n",
              "      <td>399.973416</td>\n",
              "      <td>92.293381</td>\n",
              "      <td>169.136814</td>\n",
              "      <td>166.668072</td>\n",
              "      <td>2.250000</td>\n",
              "      <td>2.076923</td>\n",
              "      <td>2.213364</td>\n",
              "      <td>2.063362</td>\n",
              "      <td>1.368922</td>\n",
              "      <td>1.201823</td>\n",
              "      <td>1.0</td>\n",
              "      <td>0.846154</td>\n",
              "      <td>0.433013</td>\n",
              "      <td>0.266469</td>\n",
              "      <td>2.400000</td>\n",
              "    </tr>\n",
              "    <tr>\n",
              "      <th>7</th>\n",
              "      <td>5.0</td>\n",
              "      <td>89.337181</td>\n",
              "      <td>51.783309</td>\n",
              "      <td>70.560646</td>\n",
              "      <td>35.165595</td>\n",
              "      <td>1.444537</td>\n",
              "      <td>1.355951</td>\n",
              "      <td>124.908249</td>\n",
              "      <td>20.120712</td>\n",
              "      <td>46.917668</td>\n",
              "      <td>44.794262</td>\n",
              "      <td>740.520020</td>\n",
              "      <td>1001.742494</td>\n",
              "      <td>692.541322</td>\n",
              "      <td>935.214475</td>\n",
              "      <td>1.536960</td>\n",
              "      <td>0.905561</td>\n",
              "      <td>810.599978</td>\n",
              "      <td>700.647463</td>\n",
              "      <td>298.643003</td>\n",
              "      <td>343.376829</td>\n",
              "      <td>181.000000</td>\n",
              "      <td>115.065635</td>\n",
              "      <td>155.938202</td>\n",
              "      <td>90.008049</td>\n",
              "      <td>1.499861</td>\n",
              "      <td>1.392404</td>\n",
              "      <td>205.000001</td>\n",
              "      <td>37.166023</td>\n",
              "      <td>76.793227</td>\n",
              "      <td>79.669684</td>\n",
              "      <td>4716.686048</td>\n",
              "      <td>2980.596935</td>\n",
              "      <td>1059.408373</td>\n",
              "      <td>67.538479</td>\n",
              "      <td>1.323930</td>\n",
              "      <td>0.869723</td>\n",
              "      <td>8958.571284</td>\n",
              "      <td>2074.908663</td>\n",
              "      <td>3015.110604</td>\n",
              "      <td>3653.375492</td>\n",
              "      <td>72.089996</td>\n",
              "      <td>109.198067</td>\n",
              "      <td>53.116081</td>\n",
              "      <td>86.709953</td>\n",
              "      <td>1.357429</td>\n",
              "      <td>0.779304</td>\n",
              "      <td>127.050003</td>\n",
              "      <td>76.079147</td>\n",
              "      <td>50.111042</td>\n",
              "      <td>49.281288</td>\n",
              "      <td>7.924400</td>\n",
              "      <td>5.234973</td>\n",
              "      <td>4.492558</td>\n",
              "      <td>1.341010</td>\n",
              "      <td>1.380830</td>\n",
              "      <td>1.075399</td>\n",
              "      <td>12.878000</td>\n",
              "      <td>2.981467</td>\n",
              "      <td>4.455305</td>\n",
              "      <td>5.626767</td>\n",
              "      <td>89.605316</td>\n",
              "      <td>96.740135</td>\n",
              "      <td>8.418912</td>\n",
              "      <td>1.109852</td>\n",
              "      <td>0.457810</td>\n",
              "      <td>0.205466</td>\n",
              "      <td>399.973416</td>\n",
              "      <td>92.649825</td>\n",
              "      <td>155.329606</td>\n",
              "      <td>166.668567</td>\n",
              "      <td>2.600000</td>\n",
              "      <td>2.084942</td>\n",
              "      <td>2.491462</td>\n",
              "      <td>2.068200</td>\n",
              "      <td>1.564957</td>\n",
              "      <td>1.251605</td>\n",
              "      <td>2.0</td>\n",
              "      <td>1.042471</td>\n",
              "      <td>0.800000</td>\n",
              "      <td>0.305239</td>\n",
              "      <td>1.300000</td>\n",
              "    </tr>\n",
              "    <tr>\n",
              "      <th>8</th>\n",
              "      <td>6.0</td>\n",
              "      <td>79.192833</td>\n",
              "      <td>97.000145</td>\n",
              "      <td>59.410213</td>\n",
              "      <td>73.620400</td>\n",
              "      <td>1.523721</td>\n",
              "      <td>1.224262</td>\n",
              "      <td>192.981004</td>\n",
              "      <td>51.655770</td>\n",
              "      <td>62.040962</td>\n",
              "      <td>68.301842</td>\n",
              "      <td>776.250000</td>\n",
              "      <td>737.168516</td>\n",
              "      <td>743.320496</td>\n",
              "      <td>709.283325</td>\n",
              "      <td>1.744636</td>\n",
              "      <td>1.610088</td>\n",
              "      <td>764.099976</td>\n",
              "      <td>171.218996</td>\n",
              "      <td>252.140701</td>\n",
              "      <td>230.989410</td>\n",
              "      <td>150.166672</td>\n",
              "      <td>157.070007</td>\n",
              "      <td>136.355438</td>\n",
              "      <td>144.751190</td>\n",
              "      <td>1.717010</td>\n",
              "      <td>1.496199</td>\n",
              "      <td>171.000001</td>\n",
              "      <td>53.230000</td>\n",
              "      <td>53.508308</td>\n",
              "      <td>51.971676</td>\n",
              "      <td>5303.571321</td>\n",
              "      <td>5535.828621</td>\n",
              "      <td>1286.943347</td>\n",
              "      <td>1814.646284</td>\n",
              "      <td>1.429499</td>\n",
              "      <td>1.165364</td>\n",
              "      <td>9778.571314</td>\n",
              "      <td>2444.821298</td>\n",
              "      <td>3993.581785</td>\n",
              "      <td>3918.663327</td>\n",
              "      <td>71.783333</td>\n",
              "      <td>72.531754</td>\n",
              "      <td>37.104869</td>\n",
              "      <td>35.912696</td>\n",
              "      <td>1.444192</td>\n",
              "      <td>1.237316</td>\n",
              "      <td>138.630006</td>\n",
              "      <td>28.292251</td>\n",
              "      <td>52.705353</td>\n",
              "      <td>54.139027</td>\n",
              "      <td>9.493667</td>\n",
              "      <td>9.126250</td>\n",
              "      <td>5.721619</td>\n",
              "      <td>6.310965</td>\n",
              "      <td>1.593847</td>\n",
              "      <td>1.400871</td>\n",
              "      <td>15.978000</td>\n",
              "      <td>3.116250</td>\n",
              "      <td>4.984353</td>\n",
              "      <td>3.917585</td>\n",
              "      <td>123.837761</td>\n",
              "      <td>132.753328</td>\n",
              "      <td>19.760616</td>\n",
              "      <td>22.232180</td>\n",
              "      <td>1.149632</td>\n",
              "      <td>0.828362</td>\n",
              "      <td>399.973416</td>\n",
              "      <td>95.996681</td>\n",
              "      <td>140.993059</td>\n",
              "      <td>161.860444</td>\n",
              "      <td>2.833333</td>\n",
              "      <td>2.770000</td>\n",
              "      <td>2.615321</td>\n",
              "      <td>2.532359</td>\n",
              "      <td>1.707475</td>\n",
              "      <td>1.467169</td>\n",
              "      <td>3.0</td>\n",
              "      <td>1.210000</td>\n",
              "      <td>1.213352</td>\n",
              "      <td>1.302728</td>\n",
              "      <td>4.550000</td>\n",
              "    </tr>\n",
              "    <tr>\n",
              "      <th>9</th>\n",
              "      <td>4.0</td>\n",
              "      <td>76.517715</td>\n",
              "      <td>56.808819</td>\n",
              "      <td>59.310097</td>\n",
              "      <td>35.773434</td>\n",
              "      <td>1.197273</td>\n",
              "      <td>0.981880</td>\n",
              "      <td>122.906067</td>\n",
              "      <td>34.833160</td>\n",
              "      <td>44.289459</td>\n",
              "      <td>52.533206</td>\n",
              "      <td>787.049987</td>\n",
              "      <td>1011.540707</td>\n",
              "      <td>734.219605</td>\n",
              "      <td>940.294372</td>\n",
              "      <td>1.313008</td>\n",
              "      <td>0.786865</td>\n",
              "      <td>771.999995</td>\n",
              "      <td>738.578561</td>\n",
              "      <td>314.505952</td>\n",
              "      <td>353.819824</td>\n",
              "      <td>151.750000</td>\n",
              "      <td>104.371429</td>\n",
              "      <td>131.302200</td>\n",
              "      <td>84.110833</td>\n",
              "      <td>1.275274</td>\n",
              "      <td>1.160060</td>\n",
              "      <td>171.000001</td>\n",
              "      <td>46.842857</td>\n",
              "      <td>65.579628</td>\n",
              "      <td>67.111457</td>\n",
              "      <td>4434.357499</td>\n",
              "      <td>2961.473709</td>\n",
              "      <td>674.484724</td>\n",
              "      <td>53.427096</td>\n",
              "      <td>0.995983</td>\n",
              "      <td>0.769628</td>\n",
              "      <td>8958.571284</td>\n",
              "      <td>1623.483347</td>\n",
              "      <td>3402.856201</td>\n",
              "      <td>3581.848881</td>\n",
              "      <td>79.607498</td>\n",
              "      <td>111.779212</td>\n",
              "      <td>48.477265</td>\n",
              "      <td>98.411965</td>\n",
              "      <td>1.096672</td>\n",
              "      <td>0.777657</td>\n",
              "      <td>135.970001</td>\n",
              "      <td>81.288643</td>\n",
              "      <td>54.373096</td>\n",
              "      <td>42.557892</td>\n",
              "      <td>6.905500</td>\n",
              "      <td>3.834714</td>\n",
              "      <td>3.479475</td>\n",
              "      <td>1.039211</td>\n",
              "      <td>1.088575</td>\n",
              "      <td>0.964031</td>\n",
              "      <td>12.878000</td>\n",
              "      <td>1.744572</td>\n",
              "      <td>4.599064</td>\n",
              "      <td>4.658301</td>\n",
              "      <td>112.006645</td>\n",
              "      <td>61.343762</td>\n",
              "      <td>8.339818</td>\n",
              "      <td>0.629440</td>\n",
              "      <td>0.403693</td>\n",
              "      <td>0.283412</td>\n",
              "      <td>399.973416</td>\n",
              "      <td>57.127670</td>\n",
              "      <td>166.742352</td>\n",
              "      <td>138.437715</td>\n",
              "      <td>2.250000</td>\n",
              "      <td>2.264286</td>\n",
              "      <td>2.213364</td>\n",
              "      <td>2.226222</td>\n",
              "      <td>1.368922</td>\n",
              "      <td>1.048834</td>\n",
              "      <td>1.0</td>\n",
              "      <td>1.100000</td>\n",
              "      <td>0.433013</td>\n",
              "      <td>0.440952</td>\n",
              "      <td>76.000000</td>\n",
              "    </tr>\n",
              "  </tbody>\n",
              "</table>"
            ]
          },
          "metadata": {}
        }
      ]
    },
    {
      "cell_type": "markdown",
      "source": [
        "## Training"
      ],
      "metadata": {
        "id": "UyMWfC73LaRR"
      }
    },
    {
      "cell_type": "code",
      "source": [
        "#Initializing the network\n",
        "learn = tabular_learner(dls, layers=[200, 100, 50], metrics= [rmse])\n",
        "learn.lr_find(start_lr = 1e-07,end_lr = 1e+06, num_it = 100)\n"
      ],
      "metadata": {
        "colab": {
          "base_uri": "https://localhost:8080/",
          "height": 301
        },
        "id": "7vzCwTwE1XSV",
        "outputId": "05dac454-6550-4be4-a3d3-a9aae1bd8d97"
      },
      "execution_count": null,
      "outputs": [
        {
          "output_type": "display_data",
          "data": {
            "text/html": [
              "\n",
              "<style>\n",
              "    /* Turns off some styling */\n",
              "    progress {\n",
              "        /* gets rid of default border in Firefox and Opera. */\n",
              "        border: none;\n",
              "        /* Needs to be in here for Safari polyfill so background images work as expected. */\n",
              "        background-size: auto;\n",
              "    }\n",
              "    .progress-bar-interrupted, .progress-bar-interrupted::-webkit-progress-bar {\n",
              "        background: #F44336;\n",
              "    }\n",
              "</style>\n"
            ],
            "text/plain": [
              "<IPython.core.display.HTML object>"
            ]
          },
          "metadata": {}
        },
        {
          "output_type": "display_data",
          "data": {
            "text/html": [
              ""
            ],
            "text/plain": [
              "<IPython.core.display.HTML object>"
            ]
          },
          "metadata": {}
        },
        {
          "output_type": "execute_result",
          "data": {
            "text/plain": [
              "SuggestedLRs(valley=0.028840314596891403)"
            ]
          },
          "metadata": {},
          "execution_count": 9
        },
        {
          "output_type": "display_data",
          "data": {
            "image/png": "[encoded data removed]",
            "text/plain": [
              "<Figure size 432x288 with 1 Axes>"
            ]
          },
          "metadata": {
            "needs_background": "light"
          }
        }
      ]
    },
    {
      "cell_type": "code",
      "source": [
        "#Fitting data and training the network\n",
        "learn.fit_one_cycle(10)"
      ],
      "metadata": {
        "colab": {
          "base_uri": "https://localhost:8080/",
          "height": 363
        },
        "id": "m4l72bRJ1YYo",
        "outputId": "b31435f9-aa1e-4d7e-ed9c-a9c11e901190"
      },
      "execution_count": null,
      "outputs": [
        {
          "output_type": "display_data",
          "data": {
            "text/html": [
              "\n",
              "<style>\n",
              "    /* Turns off some styling */\n",
              "    progress {\n",
              "        /* gets rid of default border in Firefox and Opera. */\n",
              "        border: none;\n",
              "        /* Needs to be in here for Safari polyfill so background images work as expected. */\n",
              "        background-size: auto;\n",
              "    }\n",
              "    .progress-bar-interrupted, .progress-bar-interrupted::-webkit-progress-bar {\n",
              "        background: #F44336;\n",
              "    }\n",
              "</style>\n"
            ],
            "text/plain": [
              "<IPython.core.display.HTML object>"
            ]
          },
          "metadata": {}
        },
        {
          "output_type": "display_data",
          "data": {
            "text/html": [
              "<table border=\"1\" class=\"dataframe\">\n",
              "  <thead>\n",
              "    <tr style=\"text-align: left;\">\n",
              "      <th>epoch</th>\n",
              "      <th>train_loss</th>\n",
              "      <th>valid_loss</th>\n",
              "      <th>_rmse</th>\n",
              "      <th>time</th>\n",
              "    </tr>\n",
              "  </thead>\n",
              "  <tbody>\n",
              "    <tr>\n",
              "      <td>0</td>\n",
              "      <td>2159.315430</td>\n",
              "      <td>2135.083496</td>\n",
              "      <td>46.206966</td>\n",
              "      <td>00:02</td>\n",
              "    </tr>\n",
              "    <tr>\n",
              "      <td>1</td>\n",
              "      <td>1630.145752</td>\n",
              "      <td>1579.771729</td>\n",
              "      <td>39.746346</td>\n",
              "      <td>00:02</td>\n",
              "    </tr>\n",
              "    <tr>\n",
              "      <td>2</td>\n",
              "      <td>1003.274597</td>\n",
              "      <td>922.079590</td>\n",
              "      <td>30.365757</td>\n",
              "      <td>00:02</td>\n",
              "    </tr>\n",
              "    <tr>\n",
              "      <td>3</td>\n",
              "      <td>535.324158</td>\n",
              "      <td>477.781036</td>\n",
              "      <td>21.858204</td>\n",
              "      <td>00:02</td>\n",
              "    </tr>\n",
              "    <tr>\n",
              "      <td>4</td>\n",
              "      <td>386.480743</td>\n",
              "      <td>392.382446</td>\n",
              "      <td>19.808645</td>\n",
              "      <td>00:02</td>\n",
              "    </tr>\n",
              "    <tr>\n",
              "      <td>5</td>\n",
              "      <td>355.874542</td>\n",
              "      <td>366.937775</td>\n",
              "      <td>19.155622</td>\n",
              "      <td>00:03</td>\n",
              "    </tr>\n",
              "    <tr>\n",
              "      <td>6</td>\n",
              "      <td>347.482422</td>\n",
              "      <td>364.473206</td>\n",
              "      <td>19.091181</td>\n",
              "      <td>00:04</td>\n",
              "    </tr>\n",
              "    <tr>\n",
              "      <td>7</td>\n",
              "      <td>348.057861</td>\n",
              "      <td>355.429565</td>\n",
              "      <td>18.852837</td>\n",
              "      <td>00:02</td>\n",
              "    </tr>\n",
              "    <tr>\n",
              "      <td>8</td>\n",
              "      <td>326.849701</td>\n",
              "      <td>350.520874</td>\n",
              "      <td>18.722204</td>\n",
              "      <td>00:02</td>\n",
              "    </tr>\n",
              "    <tr>\n",
              "      <td>9</td>\n",
              "      <td>310.917542</td>\n",
              "      <td>349.705597</td>\n",
              "      <td>18.700417</td>\n",
              "      <td>00:02</td>\n",
              "    </tr>\n",
              "  </tbody>\n",
              "</table>"
            ],
            "text/plain": [
              "<IPython.core.display.HTML object>"
            ]
          },
          "metadata": {}
        }
      ]
    },
    {
      "cell_type": "markdown",
      "source": [
        "## Evaluation "
      ],
      "metadata": {
        "id": "rESorGWgKj0q"
      }
    },
    {
      "cell_type": "code",
      "source": [
        "#Display Predictions On Training Data\n",
        "learn.show_results(ds_type=\"Train\")\n",
        "#Display Predictions On Validation Data\n",
        "learn.show_results(ds_type=\"Valid\")"
      ],
      "metadata": {
        "colab": {
          "base_uri": "https://localhost:8080/",
          "height": 666
        },
        "id": "xBQS4z1o1bKS",
        "outputId": "73266085-420f-4a32-e476-e7fa202af1d8"
      },
      "execution_count": null,
      "outputs": [
        {
          "output_type": "display_data",
          "data": {
            "text/html": [
              "\n",
              "<style>\n",
              "    /* Turns off some styling */\n",
              "    progress {\n",
              "        /* gets rid of default border in Firefox and Opera. */\n",
              "        border: none;\n",
              "        /* Needs to be in here for Safari polyfill so background images work as expected. */\n",
              "        background-size: auto;\n",
              "    }\n",
              "    .progress-bar-interrupted, .progress-bar-interrupted::-webkit-progress-bar {\n",
              "        background: #F44336;\n",
              "    }\n",
              "</style>\n"
            ],
            "text/plain": [
              "<IPython.core.display.HTML object>"
            ]
          },
          "metadata": {}
        },
        {
          "output_type": "display_data",
          "data": {
            "text/html": [
              ""
            ],
            "text/plain": [
              "<IPython.core.display.HTML object>"
            ]
          },
          "metadata": {}
        },
        {
          "output_type": "display_data",
          "data": {
            "text/html": [
              "<table border=\"1\" class=\"dataframe\">\n",
              "  <thead>\n",
              "    <tr style=\"text-align: right;\">\n",
              "      <th></th>\n",
              "      <th>number_of_elements</th>\n",
              "      <th>mean_atomic_mass</th>\n",
              "      <th>wtd_mean_atomic_mass</th>\n",
              "      <th>gmean_atomic_mass</th>\n",
              "      <th>wtd_gmean_atomic_mass</th>\n",
              "      <th>entropy_atomic_mass</th>\n",
              "      <th>wtd_entropy_atomic_mass</th>\n",
              "      <th>range_atomic_mass</th>\n",
              "      <th>wtd_range_atomic_mass</th>\n",
              "      <th>std_atomic_mass</th>\n",
              "      <th>wtd_std_atomic_mass</th>\n",
              "      <th>mean_fie</th>\n",
              "      <th>wtd_mean_fie</th>\n",
              "      <th>gmean_fie</th>\n",
              "      <th>wtd_gmean_fie</th>\n",
              "      <th>entropy_fie</th>\n",
              "      <th>wtd_entropy_fie</th>\n",
              "      <th>range_fie</th>\n",
              "      <th>wtd_range_fie</th>\n",
              "      <th>std_fie</th>\n",
              "      <th>wtd_std_fie</th>\n",
              "      <th>mean_atomic_radius</th>\n",
              "      <th>wtd_mean_atomic_radius</th>\n",
              "      <th>gmean_atomic_radius</th>\n",
              "      <th>wtd_gmean_atomic_radius</th>\n",
              "      <th>entropy_atomic_radius</th>\n",
              "      <th>wtd_entropy_atomic_radius</th>\n",
              "      <th>range_atomic_radius</th>\n",
              "      <th>wtd_range_atomic_radius</th>\n",
              "      <th>std_atomic_radius</th>\n",
              "      <th>wtd_std_atomic_radius</th>\n",
              "      <th>mean_Density</th>\n",
              "      <th>wtd_mean_Density</th>\n",
              "      <th>gmean_Density</th>\n",
              "      <th>wtd_gmean_Density</th>\n",
              "      <th>entropy_Density</th>\n",
              "      <th>wtd_entropy_Density</th>\n",
              "      <th>range_Density</th>\n",
              "      <th>wtd_range_Density</th>\n",
              "      <th>std_Density</th>\n",
              "      <th>wtd_std_Density</th>\n",
              "      <th>mean_ElectronAffinity</th>\n",
              "      <th>wtd_mean_ElectronAffinity</th>\n",
              "      <th>gmean_ElectronAffinity</th>\n",
              "      <th>wtd_gmean_ElectronAffinity</th>\n",
              "      <th>entropy_ElectronAffinity</th>\n",
              "      <th>wtd_entropy_ElectronAffinity</th>\n",
              "      <th>range_ElectronAffinity</th>\n",
              "      <th>wtd_range_ElectronAffinity</th>\n",
              "      <th>std_ElectronAffinity</th>\n",
              "      <th>wtd_std_ElectronAffinity</th>\n",
              "      <th>mean_FusionHeat</th>\n",
              "      <th>wtd_mean_FusionHeat</th>\n",
              "      <th>gmean_FusionHeat</th>\n",
              "      <th>wtd_gmean_FusionHeat</th>\n",
              "      <th>entropy_FusionHeat</th>\n",
              "      <th>wtd_entropy_FusionHeat</th>\n",
              "      <th>range_FusionHeat</th>\n",
              "      <th>wtd_range_FusionHeat</th>\n",
              "      <th>std_FusionHeat</th>\n",
              "      <th>wtd_std_FusionHeat</th>\n",
              "      <th>mean_ThermalConductivity</th>\n",
              "      <th>wtd_mean_ThermalConductivity</th>\n",
              "      <th>gmean_ThermalConductivity</th>\n",
              "      <th>wtd_gmean_ThermalConductivity</th>\n",
              "      <th>entropy_ThermalConductivity</th>\n",
              "      <th>wtd_entropy_ThermalConductivity</th>\n",
              "      <th>range_ThermalConductivity</th>\n",
              "      <th>wtd_range_ThermalConductivity</th>\n",
              "      <th>std_ThermalConductivity</th>\n",
              "      <th>wtd_std_ThermalConductivity</th>\n",
              "      <th>mean_Valence</th>\n",
              "      <th>wtd_mean_Valence</th>\n",
              "      <th>gmean_Valence</th>\n",
              "      <th>wtd_gmean_Valence</th>\n",
              "      <th>entropy_Valence</th>\n",
              "      <th>wtd_entropy_Valence</th>\n",
              "      <th>range_Valence</th>\n",
              "      <th>wtd_range_Valence</th>\n",
              "      <th>std_Valence</th>\n",
              "      <th>wtd_std_Valence</th>\n",
              "      <th>critical_temp</th>\n",
              "      <th>critical_temp_pred</th>\n",
              "    </tr>\n",
              "  </thead>\n",
              "  <tbody>\n",
              "    <tr>\n",
              "      <th>0</th>\n",
              "      <td>-0.080772</td>\n",
              "      <td>-0.374298</td>\n",
              "      <td>-0.610834</td>\n",
              "      <td>-0.384415</td>\n",
              "      <td>-0.616218</td>\n",
              "      <td>0.093544</td>\n",
              "      <td>0.551193</td>\n",
              "      <td>0.099385</td>\n",
              "      <td>-0.685301</td>\n",
              "      <td>-0.033967</td>\n",
              "      <td>0.144270</td>\n",
              "      <td>0.278630</td>\n",
              "      <td>0.846860</td>\n",
              "      <td>0.051734</td>\n",
              "      <td>0.774359</td>\n",
              "      <td>0.041221</td>\n",
              "      <td>-0.030632</td>\n",
              "      <td>0.769590</td>\n",
              "      <td>0.678374</td>\n",
              "      <td>0.875512</td>\n",
              "      <td>0.934406</td>\n",
              "      <td>0.327654</td>\n",
              "      <td>-0.611376</td>\n",
              "      <td>-0.244467</td>\n",
              "      <td>-0.813435</td>\n",
              "      <td>-0.029496</td>\n",
              "      <td>0.502774</td>\n",
              "      <td>0.974954</td>\n",
              "      <td>-0.794664</td>\n",
              "      <td>1.131945</td>\n",
              "      <td>1.079603</td>\n",
              "      <td>-0.661204</td>\n",
              "      <td>-0.685874</td>\n",
              "      <td>-0.755249</td>\n",
              "      <td>-0.767259</td>\n",
              "      <td>-0.164741</td>\n",
              "      <td>-0.137058</td>\n",
              "      <td>0.067424</td>\n",
              "      <td>-0.316608</td>\n",
              "      <td>-0.137736</td>\n",
              "      <td>0.206001</td>\n",
              "      <td>0.013527</td>\n",
              "      <td>0.474502</td>\n",
              "      <td>-0.027832</td>\n",
              "      <td>0.399319</td>\n",
              "      <td>0.100976</td>\n",
              "      <td>0.041636</td>\n",
              "      <td>0.110570</td>\n",
              "      <td>0.440343</td>\n",
              "      <td>0.274999</td>\n",
              "      <td>0.272455</td>\n",
              "      <td>-0.540355</td>\n",
              "      <td>-0.589907</td>\n",
              "      <td>-0.604352</td>\n",
              "      <td>-0.664775</td>\n",
              "      <td>0.048560</td>\n",
              "      <td>0.332326</td>\n",
              "      <td>-0.402929</td>\n",
              "      <td>-0.456635</td>\n",
              "      <td>-0.387488</td>\n",
              "      <td>-0.279468</td>\n",
              "      <td>0.494907</td>\n",
              "      <td>0.406561</td>\n",
              "      <td>-0.651121</td>\n",
              "      <td>-0.648122</td>\n",
              "      <td>-1.198018</td>\n",
              "      <td>-1.062604</td>\n",
              "      <td>0.937766</td>\n",
              "      <td>0.784496</td>\n",
              "      <td>1.152416</td>\n",
              "      <td>1.131396</td>\n",
              "      <td>-0.907929</td>\n",
              "      <td>-0.900099</td>\n",
              "      <td>-0.806255</td>\n",
              "      <td>-0.841679</td>\n",
              "      <td>0.185894</td>\n",
              "      <td>0.441707</td>\n",
              "      <td>-0.834039</td>\n",
              "      <td>-0.697249</td>\n",
              "      <td>-0.835037</td>\n",
              "      <td>-0.881663</td>\n",
              "      <td>7.700000</td>\n",
              "      <td>8.678688</td>\n",
              "    </tr>\n",
              "    <tr>\n",
              "      <th>1</th>\n",
              "      <td>0.612491</td>\n",
              "      <td>-0.143924</td>\n",
              "      <td>-0.424062</td>\n",
              "      <td>-0.379565</td>\n",
              "      <td>-0.620343</td>\n",
              "      <td>0.399985</td>\n",
              "      <td>0.769556</td>\n",
              "      <td>1.411814</td>\n",
              "      <td>-0.307827</td>\n",
              "      <td>1.136057</td>\n",
              "      <td>1.124646</td>\n",
              "      <td>0.116606</td>\n",
              "      <td>0.966027</td>\n",
              "      <td>0.035966</td>\n",
              "      <td>0.965120</td>\n",
              "      <td>0.663956</td>\n",
              "      <td>0.250867</td>\n",
              "      <td>0.619278</td>\n",
              "      <td>0.824074</td>\n",
              "      <td>0.550475</td>\n",
              "      <td>0.852990</td>\n",
              "      <td>-0.403896</td>\n",
              "      <td>-1.012786</td>\n",
              "      <td>-0.497937</td>\n",
              "      <td>-0.978632</td>\n",
              "      <td>0.669573</td>\n",
              "      <td>1.082747</td>\n",
              "      <td>0.469967</td>\n",
              "      <td>-1.006814</td>\n",
              "      <td>0.306062</td>\n",
              "      <td>0.549369</td>\n",
              "      <td>-0.537999</td>\n",
              "      <td>-0.729746</td>\n",
              "      <td>-0.699714</td>\n",
              "      <td>-0.770965</td>\n",
              "      <td>0.261768</td>\n",
              "      <td>0.759923</td>\n",
              "      <td>0.268061</td>\n",
              "      <td>-0.677904</td>\n",
              "      <td>0.346667</td>\n",
              "      <td>0.397357</td>\n",
              "      <td>-0.136026</td>\n",
              "      <td>0.410145</td>\n",
              "      <td>-0.730890</td>\n",
              "      <td>-0.104708</td>\n",
              "      <td>0.379590</td>\n",
              "      <td>0.176538</td>\n",
              "      <td>0.308764</td>\n",
              "      <td>0.604101</td>\n",
              "      <td>0.405118</td>\n",
              "      <td>0.400296</td>\n",
              "      <td>-0.542836</td>\n",
              "      <td>-0.627559</td>\n",
              "      <td>-0.544004</td>\n",
              "      <td>-0.674963</td>\n",
              "      <td>0.795957</td>\n",
              "      <td>1.302495</td>\n",
              "      <td>-0.402929</td>\n",
              "      <td>-0.582952</td>\n",
              "      <td>-0.455329</td>\n",
              "      <td>-0.336803</td>\n",
              "      <td>1.009805</td>\n",
              "      <td>-0.215717</td>\n",
              "      <td>-0.453889</td>\n",
              "      <td>-0.656361</td>\n",
              "      <td>0.446187</td>\n",
              "      <td>0.746745</td>\n",
              "      <td>0.937766</td>\n",
              "      <td>-0.212524</td>\n",
              "      <td>0.914649</td>\n",
              "      <td>0.638787</td>\n",
              "      <td>-0.573116</td>\n",
              "      <td>-0.634087</td>\n",
              "      <td>-0.625887</td>\n",
              "      <td>-0.678371</td>\n",
              "      <td>0.568248</td>\n",
              "      <td>0.809004</td>\n",
              "      <td>0.771485</td>\n",
              "      <td>-0.551094</td>\n",
              "      <td>0.743744</td>\n",
              "      <td>0.743532</td>\n",
              "      <td>75.985001</td>\n",
              "      <td>8.583373</td>\n",
              "    </tr>\n",
              "    <tr>\n",
              "      <th>2</th>\n",
              "      <td>0.612491</td>\n",
              "      <td>0.271567</td>\n",
              "      <td>-0.485988</td>\n",
              "      <td>0.068489</td>\n",
              "      <td>-0.597299</td>\n",
              "      <td>0.695576</td>\n",
              "      <td>1.046671</td>\n",
              "      <td>0.753773</td>\n",
              "      <td>-0.701399</td>\n",
              "      <td>0.528497</td>\n",
              "      <td>0.562215</td>\n",
              "      <td>-0.312092</td>\n",
              "      <td>0.902932</td>\n",
              "      <td>-0.539662</td>\n",
              "      <td>0.847253</td>\n",
              "      <td>0.625313</td>\n",
              "      <td>0.043982</td>\n",
              "      <td>0.769590</td>\n",
              "      <td>0.887613</td>\n",
              "      <td>0.738282</td>\n",
              "      <td>0.922823</td>\n",
              "      <td>0.969628</td>\n",
              "      <td>-0.677644</td>\n",
              "      <td>0.421118</td>\n",
              "      <td>-0.854662</td>\n",
              "      <td>0.627582</td>\n",
              "      <td>0.907028</td>\n",
              "      <td>0.974954</td>\n",
              "      <td>-0.690618</td>\n",
              "      <td>0.969108</td>\n",
              "      <td>1.045487</td>\n",
              "      <td>-0.626399</td>\n",
              "      <td>-0.665742</td>\n",
              "      <td>-0.678946</td>\n",
              "      <td>-0.768627</td>\n",
              "      <td>0.601623</td>\n",
              "      <td>0.252860</td>\n",
              "      <td>0.067424</td>\n",
              "      <td>-0.337868</td>\n",
              "      <td>-0.181028</td>\n",
              "      <td>0.265122</td>\n",
              "      <td>-0.350152</td>\n",
              "      <td>0.540747</td>\n",
              "      <td>-0.533385</td>\n",
              "      <td>0.466494</td>\n",
              "      <td>0.485426</td>\n",
              "      <td>0.131148</td>\n",
              "      <td>0.263238</td>\n",
              "      <td>0.576851</td>\n",
              "      <td>0.276746</td>\n",
              "      <td>0.175580</td>\n",
              "      <td>-0.608871</td>\n",
              "      <td>-0.618898</td>\n",
              "      <td>-0.580384</td>\n",
              "      <td>-0.672656</td>\n",
              "      <td>0.780180</td>\n",
              "      <td>0.535473</td>\n",
              "      <td>-0.402929</td>\n",
              "      <td>-0.463436</td>\n",
              "      <td>-0.483315</td>\n",
              "      <td>-0.312152</td>\n",
              "      <td>0.226382</td>\n",
              "      <td>0.404391</td>\n",
              "      <td>-0.517446</td>\n",
              "      <td>-0.648280</td>\n",
              "      <td>-0.146563</td>\n",
              "      <td>-0.744691</td>\n",
              "      <td>0.937766</td>\n",
              "      <td>0.732429</td>\n",
              "      <td>0.871728</td>\n",
              "      <td>1.095928</td>\n",
              "      <td>-0.955759</td>\n",
              "      <td>-0.901673</td>\n",
              "      <td>-0.848673</td>\n",
              "      <td>-0.843016</td>\n",
              "      <td>0.758292</td>\n",
              "      <td>0.608011</td>\n",
              "      <td>-0.834039</td>\n",
              "      <td>-0.491104</td>\n",
              "      <td>-0.902991</td>\n",
              "      <td>-0.888043</td>\n",
              "      <td>5.500000</td>\n",
              "      <td>7.914657</td>\n",
              "    </tr>\n",
              "    <tr>\n",
              "      <th>3</th>\n",
              "      <td>-0.774036</td>\n",
              "      <td>-0.626893</td>\n",
              "      <td>1.266196</td>\n",
              "      <td>-1.297751</td>\n",
              "      <td>0.205351</td>\n",
              "      <td>-1.917005</td>\n",
              "      <td>-2.159570</td>\n",
              "      <td>0.971419</td>\n",
              "      <td>2.844465</td>\n",
              "      <td>1.732685</td>\n",
              "      <td>2.002896</td>\n",
              "      <td>3.588341</td>\n",
              "      <td>0.972846</td>\n",
              "      <td>4.000930</td>\n",
              "      <td>1.104447</td>\n",
              "      <td>-0.602245</td>\n",
              "      <td>-0.555763</td>\n",
              "      <td>0.222650</td>\n",
              "      <td>0.197661</td>\n",
              "      <td>0.421094</td>\n",
              "      <td>0.679806</td>\n",
              "      <td>-2.500678</td>\n",
              "      <td>0.302276</td>\n",
              "      <td>-2.432568</td>\n",
              "      <td>0.011024</td>\n",
              "      <td>-0.906707</td>\n",
              "      <td>-1.674240</td>\n",
              "      <td>0.068948</td>\n",
              "      <td>1.994991</td>\n",
              "      <td>0.604473</td>\n",
              "      <td>0.706112</td>\n",
              "      <td>0.070009</td>\n",
              "      <td>1.515569</td>\n",
              "      <td>-0.838979</td>\n",
              "      <td>-0.678474</td>\n",
              "      <td>-2.055243</td>\n",
              "      <td>-2.625437</td>\n",
              "      <td>1.949055</td>\n",
              "      <td>3.034545</td>\n",
              "      <td>2.363388</td>\n",
              "      <td>2.969609</td>\n",
              "      <td>-0.411938</td>\n",
              "      <td>-2.118304</td>\n",
              "      <td>-0.666517</td>\n",
              "      <td>-1.665727</td>\n",
              "      <td>-1.314836</td>\n",
              "      <td>-0.523695</td>\n",
              "      <td>0.450306</td>\n",
              "      <td>-1.447012</td>\n",
              "      <td>0.714694</td>\n",
              "      <td>-1.313876</td>\n",
              "      <td>2.897299</td>\n",
              "      <td>0.649685</td>\n",
              "      <td>0.091716</td>\n",
              "      <td>-0.297968</td>\n",
              "      <td>-1.355771</td>\n",
              "      <td>-1.868394</td>\n",
              "      <td>4.095427</td>\n",
              "      <td>1.209604</td>\n",
              "      <td>4.059769</td>\n",
              "      <td>1.570567</td>\n",
              "      <td>-0.622674</td>\n",
              "      <td>-1.000185</td>\n",
              "      <td>-0.699301</td>\n",
              "      <td>-0.604802</td>\n",
              "      <td>-0.380013</td>\n",
              "      <td>-1.164600</td>\n",
              "      <td>-0.700415</td>\n",
              "      <td>-0.636855</td>\n",
              "      <td>-0.691233</td>\n",
              "      <td>-1.048676</td>\n",
              "      <td>0.766137</td>\n",
              "      <td>0.899342</td>\n",
              "      <td>0.818530</td>\n",
              "      <td>0.891791</td>\n",
              "      <td>-0.554533</td>\n",
              "      <td>-1.100516</td>\n",
              "      <td>-0.031277</td>\n",
              "      <td>1.560968</td>\n",
              "      <td>-0.045666</td>\n",
              "      <td>0.641251</td>\n",
              "      <td>70.199997</td>\n",
              "      <td>52.698448</td>\n",
              "    </tr>\n",
              "    <tr>\n",
              "      <th>4</th>\n",
              "      <td>-0.080772</td>\n",
              "      <td>0.169801</td>\n",
              "      <td>-0.361234</td>\n",
              "      <td>-0.102822</td>\n",
              "      <td>-0.592636</td>\n",
              "      <td>0.018267</td>\n",
              "      <td>-0.192980</td>\n",
              "      <td>0.338102</td>\n",
              "      <td>0.145118</td>\n",
              "      <td>0.547898</td>\n",
              "      <td>0.838887</td>\n",
              "      <td>0.170480</td>\n",
              "      <td>0.985449</td>\n",
              "      <td>-0.085973</td>\n",
              "      <td>0.895479</td>\n",
              "      <td>0.032367</td>\n",
              "      <td>-0.434575</td>\n",
              "      <td>0.648048</td>\n",
              "      <td>1.151630</td>\n",
              "      <td>0.917950</td>\n",
              "      <td>1.020564</td>\n",
              "      <td>-0.194882</td>\n",
              "      <td>-0.685096</td>\n",
              "      <td>-0.548688</td>\n",
              "      <td>-0.913786</td>\n",
              "      <td>0.000651</td>\n",
              "      <td>-0.104456</td>\n",
              "      <td>0.752166</td>\n",
              "      <td>0.240448</td>\n",
              "      <td>0.782578</td>\n",
              "      <td>1.193416</td>\n",
              "      <td>-0.125496</td>\n",
              "      <td>-0.592858</td>\n",
              "      <td>-0.695192</td>\n",
              "      <td>-0.772366</td>\n",
              "      <td>0.057270</td>\n",
              "      <td>-0.133650</td>\n",
              "      <td>0.067424</td>\n",
              "      <td>-0.399545</td>\n",
              "      <td>-0.002685</td>\n",
              "      <td>0.367723</td>\n",
              "      <td>0.523632</td>\n",
              "      <td>0.643752</td>\n",
              "      <td>0.956039</td>\n",
              "      <td>1.005962</td>\n",
              "      <td>0.625055</td>\n",
              "      <td>0.171982</td>\n",
              "      <td>-0.506432</td>\n",
              "      <td>0.749626</td>\n",
              "      <td>-0.380818</td>\n",
              "      <td>-0.227042</td>\n",
              "      <td>-0.659536</td>\n",
              "      <td>-0.666294</td>\n",
              "      <td>-0.665688</td>\n",
              "      <td>-0.689252</td>\n",
              "      <td>-0.043561</td>\n",
              "      <td>-0.043411</td>\n",
              "      <td>-0.402929</td>\n",
              "      <td>-0.535193</td>\n",
              "      <td>-0.418698</td>\n",
              "      <td>-0.367135</td>\n",
              "      <td>0.423569</td>\n",
              "      <td>-0.456780</td>\n",
              "      <td>-0.689425</td>\n",
              "      <td>-0.664537</td>\n",
              "      <td>-1.440643</td>\n",
              "      <td>-0.933417</td>\n",
              "      <td>0.937766</td>\n",
              "      <td>-0.114607</td>\n",
              "      <td>1.177500</td>\n",
              "      <td>0.660670</td>\n",
              "      <td>-0.429624</td>\n",
              "      <td>-0.710585</td>\n",
              "      <td>-0.406354</td>\n",
              "      <td>-0.677605</td>\n",
              "      <td>0.117766</td>\n",
              "      <td>0.094551</td>\n",
              "      <td>-0.031277</td>\n",
              "      <td>-0.426316</td>\n",
              "      <td>-0.019608</td>\n",
              "      <td>-0.377893</td>\n",
              "      <td>20.000000</td>\n",
              "      <td>15.265343</td>\n",
              "    </tr>\n",
              "    <tr>\n",
              "      <th>5</th>\n",
              "      <td>1.305754</td>\n",
              "      <td>-0.608254</td>\n",
              "      <td>0.400749</td>\n",
              "      <td>-1.332418</td>\n",
              "      <td>-0.350464</td>\n",
              "      <td>0.437757</td>\n",
              "      <td>0.355535</td>\n",
              "      <td>1.686403</td>\n",
              "      <td>0.487022</td>\n",
              "      <td>1.204453</td>\n",
              "      <td>1.477458</td>\n",
              "      <td>1.132928</td>\n",
              "      <td>-0.483033</td>\n",
              "      <td>0.984666</td>\n",
              "      <td>-0.610426</td>\n",
              "      <td>1.116916</td>\n",
              "      <td>2.482810</td>\n",
              "      <td>0.619278</td>\n",
              "      <td>-1.704474</td>\n",
              "      <td>0.955452</td>\n",
              "      <td>0.459757</td>\n",
              "      <td>-1.206778</td>\n",
              "      <td>0.372104</td>\n",
              "      <td>-1.363080</td>\n",
              "      <td>0.234912</td>\n",
              "      <td>1.049841</td>\n",
              "      <td>1.067827</td>\n",
              "      <td>0.469967</td>\n",
              "      <td>-0.225285</td>\n",
              "      <td>0.564501</td>\n",
              "      <td>0.258616</td>\n",
              "      <td>-0.808163</td>\n",
              "      <td>-0.107973</td>\n",
              "      <td>-0.885625</td>\n",
              "      <td>-0.634253</td>\n",
              "      <td>0.261908</td>\n",
              "      <td>0.754365</td>\n",
              "      <td>0.268389</td>\n",
              "      <td>-0.306628</td>\n",
              "      <td>0.365009</td>\n",
              "      <td>0.468403</td>\n",
              "      <td>-0.128796</td>\n",
              "      <td>-0.603556</td>\n",
              "      <td>-0.566230</td>\n",
              "      <td>-1.050377</td>\n",
              "      <td>1.111247</td>\n",
              "      <td>2.237925</td>\n",
              "      <td>0.308764</td>\n",
              "      <td>-1.161108</td>\n",
              "      <td>0.173037</td>\n",
              "      <td>0.334782</td>\n",
              "      <td>-0.654577</td>\n",
              "      <td>-0.400083</td>\n",
              "      <td>-0.680608</td>\n",
              "      <td>-0.406624</td>\n",
              "      <td>0.936300</td>\n",
              "      <td>1.218589</td>\n",
              "      <td>-0.402929</td>\n",
              "      <td>-0.469322</td>\n",
              "      <td>-0.394833</td>\n",
              "      <td>-0.435006</td>\n",
              "      <td>0.454557</td>\n",
              "      <td>0.854111</td>\n",
              "      <td>-0.670366</td>\n",
              "      <td>-0.350944</td>\n",
              "      <td>0.453341</td>\n",
              "      <td>0.746778</td>\n",
              "      <td>0.937766</td>\n",
              "      <td>0.620211</td>\n",
              "      <td>0.823237</td>\n",
              "      <td>1.002509</td>\n",
              "      <td>-0.828211</td>\n",
              "      <td>-0.500814</td>\n",
              "      <td>-0.937634</td>\n",
              "      <td>-0.667958</td>\n",
              "      <td>0.946361</td>\n",
              "      <td>1.257984</td>\n",
              "      <td>1.574247</td>\n",
              "      <td>-0.491104</td>\n",
              "      <td>0.840941</td>\n",
              "      <td>1.455037</td>\n",
              "      <td>6.050000</td>\n",
              "      <td>-0.146957</td>\n",
              "    </tr>\n",
              "    <tr>\n",
              "      <th>6</th>\n",
              "      <td>-1.467299</td>\n",
              "      <td>-0.209310</td>\n",
              "      <td>0.422804</td>\n",
              "      <td>0.301493</td>\n",
              "      <td>0.766984</td>\n",
              "      <td>-1.320269</td>\n",
              "      <td>-1.403169</td>\n",
              "      <td>-1.698260</td>\n",
              "      <td>0.707602</td>\n",
              "      <td>-1.644862</td>\n",
              "      <td>-1.581987</td>\n",
              "      <td>-1.704787</td>\n",
              "      <td>-1.589901</td>\n",
              "      <td>-1.511411</td>\n",
              "      <td>-1.596549</td>\n",
              "      <td>-1.590535</td>\n",
              "      <td>-1.186081</td>\n",
              "      <td>-1.576239</td>\n",
              "      <td>-0.574678</td>\n",
              "      <td>-1.577674</td>\n",
              "      <td>-1.467893</td>\n",
              "      <td>0.452068</td>\n",
              "      <td>1.662390</td>\n",
              "      <td>0.896541</td>\n",
              "      <td>1.658241</td>\n",
              "      <td>-1.574475</td>\n",
              "      <td>-1.602825</td>\n",
              "      <td>-1.148962</td>\n",
              "      <td>1.819841</td>\n",
              "      <td>-0.899259</td>\n",
              "      <td>-1.010062</td>\n",
              "      <td>0.400009</td>\n",
              "      <td>0.823219</td>\n",
              "      <td>0.993696</td>\n",
              "      <td>1.187906</td>\n",
              "      <td>-1.153507</td>\n",
              "      <td>-1.172543</td>\n",
              "      <td>-1.472241</td>\n",
              "      <td>0.864911</td>\n",
              "      <td>-1.252142</td>\n",
              "      <td>-1.352812</td>\n",
              "      <td>-0.645679</td>\n",
              "      <td>-0.600892</td>\n",
              "      <td>-0.094184</td>\n",
              "      <td>-0.159015</td>\n",
              "      <td>-1.455423</td>\n",
              "      <td>-1.539969</td>\n",
              "      <td>-1.084924</td>\n",
              "      <td>-0.036705</td>\n",
              "      <td>-0.937511</td>\n",
              "      <td>-0.966655</td>\n",
              "      <td>0.167180</td>\n",
              "      <td>0.540212</td>\n",
              "      <td>0.206143</td>\n",
              "      <td>0.610903</td>\n",
              "      <td>-1.686973</td>\n",
              "      <td>-1.828436</td>\n",
              "      <td>0.005522</td>\n",
              "      <td>0.942598</td>\n",
              "      <td>0.266147</td>\n",
              "      <td>0.201571</td>\n",
              "      <td>-1.249809</td>\n",
              "      <td>-0.743287</td>\n",
              "      <td>0.286550</td>\n",
              "      <td>0.473389</td>\n",
              "      <td>-0.244083</td>\n",
              "      <td>-0.360596</td>\n",
              "      <td>-1.424834</td>\n",
              "      <td>-0.667085</td>\n",
              "      <td>-1.439357</td>\n",
              "      <td>-1.342780</td>\n",
              "      <td>0.766137</td>\n",
              "      <td>1.131777</td>\n",
              "      <td>0.778534</td>\n",
              "      <td>1.146449</td>\n",
              "      <td>-1.611666</td>\n",
              "      <td>-1.592933</td>\n",
              "      <td>-0.031277</td>\n",
              "      <td>1.570344</td>\n",
              "      <td>0.332061</td>\n",
              "      <td>0.415595</td>\n",
              "      <td>38.200001</td>\n",
              "      <td>41.296467</td>\n",
              "    </tr>\n",
              "    <tr>\n",
              "      <th>7</th>\n",
              "      <td>-0.080772</td>\n",
              "      <td>-1.745527</td>\n",
              "      <td>-0.653704</td>\n",
              "      <td>-1.873708</td>\n",
              "      <td>-0.799099</td>\n",
              "      <td>-1.103126</td>\n",
              "      <td>-1.213823</td>\n",
              "      <td>-0.165604</td>\n",
              "      <td>0.321787</td>\n",
              "      <td>-0.121743</td>\n",
              "      <td>0.186293</td>\n",
              "      <td>5.611249</td>\n",
              "      <td>1.796477</td>\n",
              "      <td>6.000807</td>\n",
              "      <td>2.021573</td>\n",
              "      <td>0.125449</td>\n",
              "      <td>0.702648</td>\n",
              "      <td>1.218585</td>\n",
              "      <td>0.129774</td>\n",
              "      <td>1.132301</td>\n",
              "      <td>0.870417</td>\n",
              "      <td>-4.026816</td>\n",
              "      <td>-1.450159</td>\n",
              "      <td>-3.617994</td>\n",
              "      <td>-1.235877</td>\n",
              "      <td>-0.184064</td>\n",
              "      <td>-0.686286</td>\n",
              "      <td>-0.242956</td>\n",
              "      <td>0.288790</td>\n",
              "      <td>-0.028035</td>\n",
              "      <td>0.198609</td>\n",
              "      <td>-1.231407</td>\n",
              "      <td>-0.370575</td>\n",
              "      <td>-0.935105</td>\n",
              "      <td>-0.776756</td>\n",
              "      <td>-3.114769</td>\n",
              "      <td>-2.671572</td>\n",
              "      <td>0.442112</td>\n",
              "      <td>0.497169</td>\n",
              "      <td>0.668411</td>\n",
              "      <td>1.108055</td>\n",
              "      <td>3.306848</td>\n",
              "      <td>1.896404</td>\n",
              "      <td>3.131688</td>\n",
              "      <td>2.286138</td>\n",
              "      <td>0.482638</td>\n",
              "      <td>1.393942</td>\n",
              "      <td>2.303879</td>\n",
              "      <td>0.002281</td>\n",
              "      <td>2.197287</td>\n",
              "      <td>0.970015</td>\n",
              "      <td>-0.990196</td>\n",
              "      <td>-0.653184</td>\n",
              "      <td>-0.926295</td>\n",
              "      <td>-0.690796</td>\n",
              "      <td>-1.915094</td>\n",
              "      <td>-1.983346</td>\n",
              "      <td>-0.491169</td>\n",
              "      <td>-0.337280</td>\n",
              "      <td>-0.410994</td>\n",
              "      <td>-0.318548</td>\n",
              "      <td>0.463831</td>\n",
              "      <td>1.873732</td>\n",
              "      <td>-0.857965</td>\n",
              "      <td>-0.647752</td>\n",
              "      <td>-2.214635</td>\n",
              "      <td>-1.697287</td>\n",
              "      <td>1.126788</td>\n",
              "      <td>2.432674</td>\n",
              "      <td>1.449528</td>\n",
              "      <td>1.774520</td>\n",
              "      <td>-1.864538</td>\n",
              "      <td>-1.433723</td>\n",
              "      <td>-1.784234</td>\n",
              "      <td>-1.442172</td>\n",
              "      <td>0.092521</td>\n",
              "      <td>-0.210795</td>\n",
              "      <td>-0.834039</td>\n",
              "      <td>-0.662892</td>\n",
              "      <td>-0.835037</td>\n",
              "      <td>-0.389550</td>\n",
              "      <td>78.000000</td>\n",
              "      <td>18.347939</td>\n",
              "    </tr>\n",
              "    <tr>\n",
              "      <th>8</th>\n",
              "      <td>-0.774036</td>\n",
              "      <td>0.388490</td>\n",
              "      <td>0.670293</td>\n",
              "      <td>0.898174</td>\n",
              "      <td>1.008242</td>\n",
              "      <td>-0.185344</td>\n",
              "      <td>-0.983395</td>\n",
              "      <td>-1.939748</td>\n",
              "      <td>1.262838</td>\n",
              "      <td>-2.006987</td>\n",
              "      <td>-1.871580</td>\n",
              "      <td>-0.825245</td>\n",
              "      <td>-1.345645</td>\n",
              "      <td>-0.515739</td>\n",
              "      <td>-1.298550</td>\n",
              "      <td>-0.526087</td>\n",
              "      <td>-0.794388</td>\n",
              "      <td>-1.669981</td>\n",
              "      <td>-0.007822</td>\n",
              "      <td>-1.741439</td>\n",
              "      <td>-1.569071</td>\n",
              "      <td>1.248314</td>\n",
              "      <td>1.988830</td>\n",
              "      <td>1.741743</td>\n",
              "      <td>1.974925</td>\n",
              "      <td>-0.454547</td>\n",
              "      <td>-1.286937</td>\n",
              "      <td>-1.698507</td>\n",
              "      <td>2.669024</td>\n",
              "      <td>-1.781088</td>\n",
              "      <td>-1.651544</td>\n",
              "      <td>1.776585</td>\n",
              "      <td>1.333588</td>\n",
              "      <td>2.040297</td>\n",
              "      <td>1.592444</td>\n",
              "      <td>0.037397</td>\n",
              "      <td>-0.373637</td>\n",
              "      <td>-1.175200</td>\n",
              "      <td>1.356922</td>\n",
              "      <td>-0.966357</td>\n",
              "      <td>-1.028166</td>\n",
              "      <td>0.855570</td>\n",
              "      <td>0.021563</td>\n",
              "      <td>1.576995</td>\n",
              "      <td>0.652251</td>\n",
              "      <td>0.067928</td>\n",
              "      <td>-0.256716</td>\n",
              "      <td>-1.659994</td>\n",
              "      <td>0.140672</td>\n",
              "      <td>-1.808058</td>\n",
              "      <td>-1.696105</td>\n",
              "      <td>0.920961</td>\n",
              "      <td>0.830910</td>\n",
              "      <td>1.430427</td>\n",
              "      <td>1.178446</td>\n",
              "      <td>0.002025</td>\n",
              "      <td>-0.858191</td>\n",
              "      <td>-0.784223</td>\n",
              "      <td>1.009998</td>\n",
              "      <td>-0.706024</td>\n",
              "      <td>-0.764724</td>\n",
              "      <td>0.475279</td>\n",
              "      <td>-0.097229</td>\n",
              "      <td>2.028490</td>\n",
              "      <td>1.049652</td>\n",
              "      <td>0.909796</td>\n",
              "      <td>0.901533</td>\n",
              "      <td>-0.977483</td>\n",
              "      <td>-0.568749</td>\n",
              "      <td>-0.980229</td>\n",
              "      <td>-0.877088</td>\n",
              "      <td>2.360486</td>\n",
              "      <td>1.761491</td>\n",
              "      <td>2.471815</td>\n",
              "      <td>1.855494</td>\n",
              "      <td>-0.510007</td>\n",
              "      <td>-0.958471</td>\n",
              "      <td>-0.834039</td>\n",
              "      <td>2.188778</td>\n",
              "      <td>-0.756011</td>\n",
              "      <td>-0.528912</td>\n",
              "      <td>33.000000</td>\n",
              "      <td>38.734909</td>\n",
              "    </tr>\n",
              "  </tbody>\n",
              "</table>"
            ],
            "text/plain": [
              "<IPython.core.display.HTML object>"
            ]
          },
          "metadata": {}
        },
        {
          "output_type": "display_data",
          "data": {
            "text/html": [
              "\n",
              "<style>\n",
              "    /* Turns off some styling */\n",
              "    progress {\n",
              "        /* gets rid of default border in Firefox and Opera. */\n",
              "        border: none;\n",
              "        /* Needs to be in here for Safari polyfill so background images work as expected. */\n",
              "        background-size: auto;\n",
              "    }\n",
              "    .progress-bar-interrupted, .progress-bar-interrupted::-webkit-progress-bar {\n",
              "        background: #F44336;\n",
              "    }\n",
              "</style>\n"
            ],
            "text/plain": [
              "<IPython.core.display.HTML object>"
            ]
          },
          "metadata": {}
        },
        {
          "output_type": "display_data",
          "data": {
            "text/html": [
              ""
            ],
            "text/plain": [
              "<IPython.core.display.HTML object>"
            ]
          },
          "metadata": {}
        },
        {
          "output_type": "display_data",
          "data": {
            "text/html": [
              "<table border=\"1\" class=\"dataframe\">\n",
              "  <thead>\n",
              "    <tr style=\"text-align: right;\">\n",
              "      <th></th>\n",
              "      <th>number_of_elements</th>\n",
              "      <th>mean_atomic_mass</th>\n",
              "      <th>wtd_mean_atomic_mass</th>\n",
              "      <th>gmean_atomic_mass</th>\n",
              "      <th>wtd_gmean_atomic_mass</th>\n",
              "      <th>entropy_atomic_mass</th>\n",
              "      <th>wtd_entropy_atomic_mass</th>\n",
              "      <th>range_atomic_mass</th>\n",
              "      <th>wtd_range_atomic_mass</th>\n",
              "      <th>std_atomic_mass</th>\n",
              "      <th>wtd_std_atomic_mass</th>\n",
              "      <th>mean_fie</th>\n",
              "      <th>wtd_mean_fie</th>\n",
              "      <th>gmean_fie</th>\n",
              "      <th>wtd_gmean_fie</th>\n",
              "      <th>entropy_fie</th>\n",
              "      <th>wtd_entropy_fie</th>\n",
              "      <th>range_fie</th>\n",
              "      <th>wtd_range_fie</th>\n",
              "      <th>std_fie</th>\n",
              "      <th>wtd_std_fie</th>\n",
              "      <th>mean_atomic_radius</th>\n",
              "      <th>wtd_mean_atomic_radius</th>\n",
              "      <th>gmean_atomic_radius</th>\n",
              "      <th>wtd_gmean_atomic_radius</th>\n",
              "      <th>entropy_atomic_radius</th>\n",
              "      <th>wtd_entropy_atomic_radius</th>\n",
              "      <th>range_atomic_radius</th>\n",
              "      <th>wtd_range_atomic_radius</th>\n",
              "      <th>std_atomic_radius</th>\n",
              "      <th>wtd_std_atomic_radius</th>\n",
              "      <th>mean_Density</th>\n",
              "      <th>wtd_mean_Density</th>\n",
              "      <th>gmean_Density</th>\n",
              "      <th>wtd_gmean_Density</th>\n",
              "      <th>entropy_Density</th>\n",
              "      <th>wtd_entropy_Density</th>\n",
              "      <th>range_Density</th>\n",
              "      <th>wtd_range_Density</th>\n",
              "      <th>std_Density</th>\n",
              "      <th>wtd_std_Density</th>\n",
              "      <th>mean_ElectronAffinity</th>\n",
              "      <th>wtd_mean_ElectronAffinity</th>\n",
              "      <th>gmean_ElectronAffinity</th>\n",
              "      <th>wtd_gmean_ElectronAffinity</th>\n",
              "      <th>entropy_ElectronAffinity</th>\n",
              "      <th>wtd_entropy_ElectronAffinity</th>\n",
              "      <th>range_ElectronAffinity</th>\n",
              "      <th>wtd_range_ElectronAffinity</th>\n",
              "      <th>std_ElectronAffinity</th>\n",
              "      <th>wtd_std_ElectronAffinity</th>\n",
              "      <th>mean_FusionHeat</th>\n",
              "      <th>wtd_mean_FusionHeat</th>\n",
              "      <th>gmean_FusionHeat</th>\n",
              "      <th>wtd_gmean_FusionHeat</th>\n",
              "      <th>entropy_FusionHeat</th>\n",
              "      <th>wtd_entropy_FusionHeat</th>\n",
              "      <th>range_FusionHeat</th>\n",
              "      <th>wtd_range_FusionHeat</th>\n",
              "      <th>std_FusionHeat</th>\n",
              "      <th>wtd_std_FusionHeat</th>\n",
              "      <th>mean_ThermalConductivity</th>\n",
              "      <th>wtd_mean_ThermalConductivity</th>\n",
              "      <th>gmean_ThermalConductivity</th>\n",
              "      <th>wtd_gmean_ThermalConductivity</th>\n",
              "      <th>entropy_ThermalConductivity</th>\n",
              "      <th>wtd_entropy_ThermalConductivity</th>\n",
              "      <th>range_ThermalConductivity</th>\n",
              "      <th>wtd_range_ThermalConductivity</th>\n",
              "      <th>std_ThermalConductivity</th>\n",
              "      <th>wtd_std_ThermalConductivity</th>\n",
              "      <th>mean_Valence</th>\n",
              "      <th>wtd_mean_Valence</th>\n",
              "      <th>gmean_Valence</th>\n",
              "      <th>wtd_gmean_Valence</th>\n",
              "      <th>entropy_Valence</th>\n",
              "      <th>wtd_entropy_Valence</th>\n",
              "      <th>range_Valence</th>\n",
              "      <th>wtd_range_Valence</th>\n",
              "      <th>std_Valence</th>\n",
              "      <th>wtd_std_Valence</th>\n",
              "      <th>critical_temp</th>\n",
              "      <th>critical_temp_pred</th>\n",
              "    </tr>\n",
              "  </thead>\n",
              "  <tbody>\n",
              "    <tr>\n",
              "      <th>0</th>\n",
              "      <td>-1.467299</td>\n",
              "      <td>-0.428593</td>\n",
              "      <td>0.242753</td>\n",
              "      <td>-0.342836</td>\n",
              "      <td>0.225881</td>\n",
              "      <td>-1.793996</td>\n",
              "      <td>-1.539715</td>\n",
              "      <td>-0.515887</td>\n",
              "      <td>0.793688</td>\n",
              "      <td>-0.031729</td>\n",
              "      <td>0.090552</td>\n",
              "      <td>1.032523</td>\n",
              "      <td>-0.223111</td>\n",
              "      <td>1.392901</td>\n",
              "      <td>-0.061427</td>\n",
              "      <td>-1.625230</td>\n",
              "      <td>-0.708671</td>\n",
              "      <td>-0.871229</td>\n",
              "      <td>-2.023286</td>\n",
              "      <td>-0.584260</td>\n",
              "      <td>-0.581247</td>\n",
              "      <td>-1.812257</td>\n",
              "      <td>-0.344752</td>\n",
              "      <td>-1.144416</td>\n",
              "      <td>0.044052</td>\n",
              "      <td>-1.578449</td>\n",
              "      <td>-1.214693</td>\n",
              "      <td>-1.371751</td>\n",
              "      <td>-0.296444</td>\n",
              "      <td>-1.226691</td>\n",
              "      <td>-1.152031</td>\n",
              "      <td>-0.544288</td>\n",
              "      <td>-0.096373</td>\n",
              "      <td>0.053846</td>\n",
              "      <td>0.232750</td>\n",
              "      <td>-1.667038</td>\n",
              "      <td>-1.315951</td>\n",
              "      <td>-0.781999</td>\n",
              "      <td>0.208907</td>\n",
              "      <td>-0.407931</td>\n",
              "      <td>-0.382491</td>\n",
              "      <td>0.498331</td>\n",
              "      <td>0.020096</td>\n",
              "      <td>1.189510</td>\n",
              "      <td>0.608666</td>\n",
              "      <td>-1.157295</td>\n",
              "      <td>-0.475606</td>\n",
              "      <td>-1.442631</td>\n",
              "      <td>-0.988825</td>\n",
              "      <td>-1.420559</td>\n",
              "      <td>-1.301289</td>\n",
              "      <td>-0.925309</td>\n",
              "      <td>-0.672814</td>\n",
              "      <td>-0.793927</td>\n",
              "      <td>-0.582570</td>\n",
              "      <td>-2.144927</td>\n",
              "      <td>-1.834490</td>\n",
              "      <td>-0.722455</td>\n",
              "      <td>-0.394399</td>\n",
              "      <td>-0.591793</td>\n",
              "      <td>-0.624397</td>\n",
              "      <td>-1.454277</td>\n",
              "      <td>-0.948342</td>\n",
              "      <td>-0.755838</td>\n",
              "      <td>-0.531352</td>\n",
              "      <td>-2.158423</td>\n",
              "      <td>-1.644761</td>\n",
              "      <td>-1.161691</td>\n",
              "      <td>-0.552910</td>\n",
              "      <td>-1.091982</td>\n",
              "      <td>-0.994410</td>\n",
              "      <td>1.244442</td>\n",
              "      <td>1.071804</td>\n",
              "      <td>1.350672</td>\n",
              "      <td>1.147183</td>\n",
              "      <td>-1.547123</td>\n",
              "      <td>-0.954577</td>\n",
              "      <td>-0.834039</td>\n",
              "      <td>-1.374582</td>\n",
              "      <td>-0.697149</td>\n",
              "      <td>-0.393983</td>\n",
              "      <td>22.00</td>\n",
              "      <td>60.679714</td>\n",
              "    </tr>\n",
              "    <tr>\n",
              "      <th>1</th>\n",
              "      <td>0.612491</td>\n",
              "      <td>-0.775465</td>\n",
              "      <td>0.093435</td>\n",
              "      <td>-0.826809</td>\n",
              "      <td>-0.031056</td>\n",
              "      <td>0.391214</td>\n",
              "      <td>0.293799</td>\n",
              "      <td>0.464301</td>\n",
              "      <td>0.195582</td>\n",
              "      <td>0.344600</td>\n",
              "      <td>0.488236</td>\n",
              "      <td>3.313940</td>\n",
              "      <td>0.340460</td>\n",
              "      <td>3.210386</td>\n",
              "      <td>0.350884</td>\n",
              "      <td>0.634394</td>\n",
              "      <td>1.800048</td>\n",
              "      <td>1.659175</td>\n",
              "      <td>-1.253368</td>\n",
              "      <td>1.607996</td>\n",
              "      <td>0.591505</td>\n",
              "      <td>-1.956577</td>\n",
              "      <td>0.095302</td>\n",
              "      <td>-2.178241</td>\n",
              "      <td>-0.082036</td>\n",
              "      <td>0.421717</td>\n",
              "      <td>0.397403</td>\n",
              "      <td>0.767018</td>\n",
              "      <td>0.152081</td>\n",
              "      <td>0.856511</td>\n",
              "      <td>0.597738</td>\n",
              "      <td>-0.638160</td>\n",
              "      <td>0.033972</td>\n",
              "      <td>-0.870776</td>\n",
              "      <td>-0.571616</td>\n",
              "      <td>0.051138</td>\n",
              "      <td>0.726359</td>\n",
              "      <td>-0.191692</td>\n",
              "      <td>-0.390184</td>\n",
              "      <td>0.103539</td>\n",
              "      <td>-0.065162</td>\n",
              "      <td>1.705234</td>\n",
              "      <td>-0.372882</td>\n",
              "      <td>0.890414</td>\n",
              "      <td>-0.441775</td>\n",
              "      <td>0.503128</td>\n",
              "      <td>2.436610</td>\n",
              "      <td>3.281155</td>\n",
              "      <td>-1.194457</td>\n",
              "      <td>2.855151</td>\n",
              "      <td>1.166949</td>\n",
              "      <td>-0.344731</td>\n",
              "      <td>-0.063046</td>\n",
              "      <td>-0.712322</td>\n",
              "      <td>-0.358978</td>\n",
              "      <td>-0.104984</td>\n",
              "      <td>0.311663</td>\n",
              "      <td>0.312792</td>\n",
              "      <td>-0.109781</td>\n",
              "      <td>0.216198</td>\n",
              "      <td>0.293941</td>\n",
              "      <td>-1.599733</td>\n",
              "      <td>-1.022368</td>\n",
              "      <td>-0.813719</td>\n",
              "      <td>-0.534170</td>\n",
              "      <td>0.513241</td>\n",
              "      <td>1.108652</td>\n",
              "      <td>-1.084763</td>\n",
              "      <td>-0.979473</td>\n",
              "      <td>-1.124468</td>\n",
              "      <td>-1.019107</td>\n",
              "      <td>-0.381794</td>\n",
              "      <td>0.046570</td>\n",
              "      <td>-0.571208</td>\n",
              "      <td>-0.054200</td>\n",
              "      <td>0.504770</td>\n",
              "      <td>0.828318</td>\n",
              "      <td>1.574247</td>\n",
              "      <td>-0.277229</td>\n",
              "      <td>1.004443</td>\n",
              "      <td>1.046316</td>\n",
              "      <td>78.00</td>\n",
              "      <td>83.670174</td>\n",
              "    </tr>\n",
              "    <tr>\n",
              "      <th>2</th>\n",
              "      <td>-0.774036</td>\n",
              "      <td>3.124680</td>\n",
              "      <td>2.831129</td>\n",
              "      <td>3.385552</td>\n",
              "      <td>2.854831</td>\n",
              "      <td>-0.243783</td>\n",
              "      <td>-0.925153</td>\n",
              "      <td>-0.664913</td>\n",
              "      <td>2.560840</td>\n",
              "      <td>-0.381095</td>\n",
              "      <td>-0.091274</td>\n",
              "      <td>-0.520398</td>\n",
              "      <td>-0.547551</td>\n",
              "      <td>-0.285634</td>\n",
              "      <td>-0.372498</td>\n",
              "      <td>-0.557143</td>\n",
              "      <td>-0.668670</td>\n",
              "      <td>-0.945254</td>\n",
              "      <td>-0.221042</td>\n",
              "      <td>-0.921010</td>\n",
              "      <td>-1.146495</td>\n",
              "      <td>-0.675948</td>\n",
              "      <td>0.130568</td>\n",
              "      <td>-0.039929</td>\n",
              "      <td>0.465292</td>\n",
              "      <td>-0.464932</td>\n",
              "      <td>-1.032926</td>\n",
              "      <td>-1.579687</td>\n",
              "      <td>0.707455</td>\n",
              "      <td>-1.593108</td>\n",
              "      <td>-1.458721</td>\n",
              "      <td>1.309829</td>\n",
              "      <td>1.100648</td>\n",
              "      <td>1.622497</td>\n",
              "      <td>1.341113</td>\n",
              "      <td>-0.027160</td>\n",
              "      <td>-0.548939</td>\n",
              "      <td>-0.751904</td>\n",
              "      <td>1.129760</td>\n",
              "      <td>-0.533953</td>\n",
              "      <td>-0.483924</td>\n",
              "      <td>0.221816</td>\n",
              "      <td>0.669179</td>\n",
              "      <td>-0.061076</td>\n",
              "      <td>0.359553</td>\n",
              "      <td>-1.107847</td>\n",
              "      <td>-1.150930</td>\n",
              "      <td>0.862782</td>\n",
              "      <td>1.291654</td>\n",
              "      <td>1.306059</td>\n",
              "      <td>1.632420</td>\n",
              "      <td>-0.483605</td>\n",
              "      <td>-0.189773</td>\n",
              "      <td>-0.306428</td>\n",
              "      <td>-0.076054</td>\n",
              "      <td>-0.583783</td>\n",
              "      <td>-1.049806</td>\n",
              "      <td>-0.382242</td>\n",
              "      <td>0.052663</td>\n",
              "      <td>-0.249803</td>\n",
              "      <td>-0.183839</td>\n",
              "      <td>-1.600015</td>\n",
              "      <td>-1.371980</td>\n",
              "      <td>-0.377280</td>\n",
              "      <td>-0.423950</td>\n",
              "      <td>0.266862</td>\n",
              "      <td>-0.668014</td>\n",
              "      <td>-1.311421</td>\n",
              "      <td>-1.038815</td>\n",
              "      <td>-1.343886</td>\n",
              "      <td>-1.260728</td>\n",
              "      <td>1.085007</td>\n",
              "      <td>1.548312</td>\n",
              "      <td>1.052770</td>\n",
              "      <td>1.566219</td>\n",
              "      <td>-0.604471</td>\n",
              "      <td>-0.968910</td>\n",
              "      <td>0.771485</td>\n",
              "      <td>1.558285</td>\n",
              "      <td>0.840941</td>\n",
              "      <td>0.720534</td>\n",
              "      <td>22.00</td>\n",
              "      <td>66.144951</td>\n",
              "    </tr>\n",
              "    <tr>\n",
              "      <th>3</th>\n",
              "      <td>0.612491</td>\n",
              "      <td>-0.245770</td>\n",
              "      <td>-0.602007</td>\n",
              "      <td>-0.348953</td>\n",
              "      <td>-0.638964</td>\n",
              "      <td>0.601748</td>\n",
              "      <td>0.935553</td>\n",
              "      <td>0.226042</td>\n",
              "      <td>-0.688770</td>\n",
              "      <td>0.360592</td>\n",
              "      <td>0.319445</td>\n",
              "      <td>-0.383465</td>\n",
              "      <td>0.885364</td>\n",
              "      <td>-0.637568</td>\n",
              "      <td>0.804683</td>\n",
              "      <td>0.617765</td>\n",
              "      <td>0.013136</td>\n",
              "      <td>0.769590</td>\n",
              "      <td>0.896061</td>\n",
              "      <td>0.771443</td>\n",
              "      <td>0.961562</td>\n",
              "      <td>0.561552</td>\n",
              "      <td>-0.772401</td>\n",
              "      <td>0.152580</td>\n",
              "      <td>-0.890713</td>\n",
              "      <td>0.638299</td>\n",
              "      <td>0.894546</td>\n",
              "      <td>0.974954</td>\n",
              "      <td>-0.672159</td>\n",
              "      <td>0.788807</td>\n",
              "      <td>0.920828</td>\n",
              "      <td>-0.671660</td>\n",
              "      <td>-0.661920</td>\n",
              "      <td>-0.701810</td>\n",
              "      <td>-0.769086</td>\n",
              "      <td>0.435392</td>\n",
              "      <td>0.195627</td>\n",
              "      <td>0.067424</td>\n",
              "      <td>-0.342275</td>\n",
              "      <td>-0.052669</td>\n",
              "      <td>0.299148</td>\n",
              "      <td>-0.369382</td>\n",
              "      <td>0.551938</td>\n",
              "      <td>-0.666614</td>\n",
              "      <td>0.454244</td>\n",
              "      <td>0.417148</td>\n",
              "      <td>0.125014</td>\n",
              "      <td>0.308764</td>\n",
              "      <td>0.591522</td>\n",
              "      <td>0.304254</td>\n",
              "      <td>0.159199</td>\n",
              "      <td>-0.609930</td>\n",
              "      <td>-0.623182</td>\n",
              "      <td>-0.581718</td>\n",
              "      <td>-0.674087</td>\n",
              "      <td>0.774893</td>\n",
              "      <td>0.540636</td>\n",
              "      <td>-0.402929</td>\n",
              "      <td>-0.464846</td>\n",
              "      <td>-0.480686</td>\n",
              "      <td>-0.314445</td>\n",
              "      <td>0.968299</td>\n",
              "      <td>0.468219</td>\n",
              "      <td>-0.446392</td>\n",
              "      <td>-0.649214</td>\n",
              "      <td>0.389048</td>\n",
              "      <td>-0.441103</td>\n",
              "      <td>0.937766</td>\n",
              "      <td>0.721635</td>\n",
              "      <td>0.929393</td>\n",
              "      <td>1.111429</td>\n",
              "      <td>-0.955759</td>\n",
              "      <td>-0.895473</td>\n",
              "      <td>-0.848673</td>\n",
              "      <td>-0.837744</td>\n",
              "      <td>0.758292</td>\n",
              "      <td>0.608350</td>\n",
              "      <td>-0.834039</td>\n",
              "      <td>-0.485976</td>\n",
              "      <td>-0.902991</td>\n",
              "      <td>-0.863458</td>\n",
              "      <td>4.15</td>\n",
              "      <td>7.822574</td>\n",
              "    </tr>\n",
              "    <tr>\n",
              "      <th>4</th>\n",
              "      <td>-0.774036</td>\n",
              "      <td>0.060381</td>\n",
              "      <td>0.391952</td>\n",
              "      <td>0.576568</td>\n",
              "      <td>0.745614</td>\n",
              "      <td>-0.192258</td>\n",
              "      <td>-0.488327</td>\n",
              "      <td>-1.811517</td>\n",
              "      <td>0.256597</td>\n",
              "      <td>-1.854362</td>\n",
              "      <td>-1.671590</td>\n",
              "      <td>-0.077853</td>\n",
              "      <td>-0.281334</td>\n",
              "      <td>0.200453</td>\n",
              "      <td>-0.107338</td>\n",
              "      <td>-0.558864</td>\n",
              "      <td>-0.448462</td>\n",
              "      <td>-0.955921</td>\n",
              "      <td>0.089896</td>\n",
              "      <td>-0.818507</td>\n",
              "      <td>-0.754083</td>\n",
              "      <td>0.286184</td>\n",
              "      <td>0.207398</td>\n",
              "      <td>0.576912</td>\n",
              "      <td>0.369158</td>\n",
              "      <td>-0.549382</td>\n",
              "      <td>-0.561805</td>\n",
              "      <td>-0.658828</td>\n",
              "      <td>0.272141</td>\n",
              "      <td>-0.374410</td>\n",
              "      <td>-0.347813</td>\n",
              "      <td>0.630793</td>\n",
              "      <td>0.562280</td>\n",
              "      <td>1.102985</td>\n",
              "      <td>0.883209</td>\n",
              "      <td>-0.052010</td>\n",
              "      <td>0.059344</td>\n",
              "      <td>-0.788361</td>\n",
              "      <td>0.208922</td>\n",
              "      <td>-0.684892</td>\n",
              "      <td>-0.439920</td>\n",
              "      <td>1.529084</td>\n",
              "      <td>1.616270</td>\n",
              "      <td>1.855086</td>\n",
              "      <td>1.835045</td>\n",
              "      <td>-0.209269</td>\n",
              "      <td>-0.522168</td>\n",
              "      <td>0.042965</td>\n",
              "      <td>1.708597</td>\n",
              "      <td>0.282331</td>\n",
              "      <td>0.771831</td>\n",
              "      <td>0.744397</td>\n",
              "      <td>0.295393</td>\n",
              "      <td>0.709580</td>\n",
              "      <td>0.142199</td>\n",
              "      <td>-0.502305</td>\n",
              "      <td>-0.529639</td>\n",
              "      <td>0.465838</td>\n",
              "      <td>0.349996</td>\n",
              "      <td>0.521978</td>\n",
              "      <td>0.957546</td>\n",
              "      <td>-0.652989</td>\n",
              "      <td>-0.577611</td>\n",
              "      <td>-0.411218</td>\n",
              "      <td>-0.544595</td>\n",
              "      <td>-0.358622</td>\n",
              "      <td>-0.951343</td>\n",
              "      <td>-0.709829</td>\n",
              "      <td>-0.237233</td>\n",
              "      <td>-0.698756</td>\n",
              "      <td>-0.479183</td>\n",
              "      <td>2.360486</td>\n",
              "      <td>2.346225</td>\n",
              "      <td>2.471815</td>\n",
              "      <td>2.458847</td>\n",
              "      <td>-0.510007</td>\n",
              "      <td>-0.605849</td>\n",
              "      <td>-0.834039</td>\n",
              "      <td>1.735996</td>\n",
              "      <td>-0.756011</td>\n",
              "      <td>-0.982269</td>\n",
              "      <td>68.00</td>\n",
              "      <td>45.606548</td>\n",
              "    </tr>\n",
              "    <tr>\n",
              "      <th>5</th>\n",
              "      <td>1.999017</td>\n",
              "      <td>0.057745</td>\n",
              "      <td>-0.595805</td>\n",
              "      <td>0.011323</td>\n",
              "      <td>-0.627755</td>\n",
              "      <td>1.686733</td>\n",
              "      <td>1.388441</td>\n",
              "      <td>0.164969</td>\n",
              "      <td>-0.649156</td>\n",
              "      <td>0.157193</td>\n",
              "      <td>0.255501</td>\n",
              "      <td>-1.018513</td>\n",
              "      <td>0.886267</td>\n",
              "      <td>-1.215786</td>\n",
              "      <td>0.804202</td>\n",
              "      <td>1.518661</td>\n",
              "      <td>0.101103</td>\n",
              "      <td>0.769590</td>\n",
              "      <td>0.972372</td>\n",
              "      <td>0.481792</td>\n",
              "      <td>0.964658</td>\n",
              "      <td>1.390501</td>\n",
              "      <td>-0.747462</td>\n",
              "      <td>1.022736</td>\n",
              "      <td>-0.884288</td>\n",
              "      <td>1.597285</td>\n",
              "      <td>1.199226</td>\n",
              "      <td>0.974954</td>\n",
              "      <td>-0.522098</td>\n",
              "      <td>0.613447</td>\n",
              "      <td>0.969356</td>\n",
              "      <td>-0.671992</td>\n",
              "      <td>-0.687853</td>\n",
              "      <td>-0.575189</td>\n",
              "      <td>-0.769301</td>\n",
              "      <td>1.684019</td>\n",
              "      <td>0.520215</td>\n",
              "      <td>0.067424</td>\n",
              "      <td>-0.343780</td>\n",
              "      <td>-0.297838</td>\n",
              "      <td>0.246819</td>\n",
              "      <td>-0.768316</td>\n",
              "      <td>0.535973</td>\n",
              "      <td>-0.876053</td>\n",
              "      <td>0.423421</td>\n",
              "      <td>1.258950</td>\n",
              "      <td>0.154177</td>\n",
              "      <td>0.308764</td>\n",
              "      <td>0.599238</td>\n",
              "      <td>0.112703</td>\n",
              "      <td>0.200870</td>\n",
              "      <td>-0.618567</td>\n",
              "      <td>-0.627547</td>\n",
              "      <td>-0.517666</td>\n",
              "      <td>-0.675169</td>\n",
              "      <td>1.829234</td>\n",
              "      <td>0.732774</td>\n",
              "      <td>-0.402929</td>\n",
              "      <td>-0.457695</td>\n",
              "      <td>-0.550910</td>\n",
              "      <td>-0.317366</td>\n",
              "      <td>0.190025</td>\n",
              "      <td>0.364348</td>\n",
              "      <td>-0.415007</td>\n",
              "      <td>-0.651150</td>\n",
              "      <td>1.062264</td>\n",
              "      <td>-0.812994</td>\n",
              "      <td>0.937766</td>\n",
              "      <td>0.717950</td>\n",
              "      <td>0.671577</td>\n",
              "      <td>1.103833</td>\n",
              "      <td>-0.737106</td>\n",
              "      <td>-0.892338</td>\n",
              "      <td>-0.685461</td>\n",
              "      <td>-0.838297</td>\n",
              "      <td>1.549257</td>\n",
              "      <td>0.850183</td>\n",
              "      <td>-0.031277</td>\n",
              "      <td>-0.428234</td>\n",
              "      <td>-0.226942</td>\n",
              "      <td>-0.742390</td>\n",
              "      <td>14.20</td>\n",
              "      <td>8.779874</td>\n",
              "    </tr>\n",
              "    <tr>\n",
              "      <th>6</th>\n",
              "      <td>-0.774036</td>\n",
              "      <td>0.886722</td>\n",
              "      <td>-0.474901</td>\n",
              "      <td>0.865448</td>\n",
              "      <td>-0.154410</td>\n",
              "      <td>-0.554489</td>\n",
              "      <td>-0.918799</td>\n",
              "      <td>0.484677</td>\n",
              "      <td>0.230514</td>\n",
              "      <td>0.705326</td>\n",
              "      <td>-0.463147</td>\n",
              "      <td>-0.428600</td>\n",
              "      <td>-1.408347</td>\n",
              "      <td>-0.105509</td>\n",
              "      <td>-1.377646</td>\n",
              "      <td>-0.535257</td>\n",
              "      <td>-1.570299</td>\n",
              "      <td>-1.327013</td>\n",
              "      <td>0.393592</td>\n",
              "      <td>-1.356225</td>\n",
              "      <td>-1.467755</td>\n",
              "      <td>0.999487</td>\n",
              "      <td>1.447548</td>\n",
              "      <td>1.525312</td>\n",
              "      <td>1.548081</td>\n",
              "      <td>-0.451051</td>\n",
              "      <td>-1.877694</td>\n",
              "      <td>-1.891591</td>\n",
              "      <td>2.933118</td>\n",
              "      <td>-2.030033</td>\n",
              "      <td>-1.990314</td>\n",
              "      <td>2.502295</td>\n",
              "      <td>0.144196</td>\n",
              "      <td>2.000468</td>\n",
              "      <td>0.500020</td>\n",
              "      <td>-0.409989</td>\n",
              "      <td>-0.265031</td>\n",
              "      <td>2.299987</td>\n",
              "      <td>0.296414</td>\n",
              "      <td>2.379371</td>\n",
              "      <td>0.521113</td>\n",
              "      <td>-0.032408</td>\n",
              "      <td>-2.319449</td>\n",
              "      <td>-0.227117</td>\n",
              "      <td>-1.931437</td>\n",
              "      <td>-0.691227</td>\n",
              "      <td>1.021900</td>\n",
              "      <td>-0.316453</td>\n",
              "      <td>-1.950361</td>\n",
              "      <td>-0.072890</td>\n",
              "      <td>-0.775671</td>\n",
              "      <td>0.838564</td>\n",
              "      <td>0.394950</td>\n",
              "      <td>1.294540</td>\n",
              "      <td>0.701300</td>\n",
              "      <td>-0.049916</td>\n",
              "      <td>-1.242607</td>\n",
              "      <td>-0.431264</td>\n",
              "      <td>0.714644</td>\n",
              "      <td>-0.354180</td>\n",
              "      <td>-0.683227</td>\n",
              "      <td>-0.086780</td>\n",
              "      <td>-1.123913</td>\n",
              "      <td>1.059549</td>\n",
              "      <td>-0.045037</td>\n",
              "      <td>0.508333</td>\n",
              "      <td>1.049486</td>\n",
              "      <td>-0.775861</td>\n",
              "      <td>-1.073848</td>\n",
              "      <td>-0.777979</td>\n",
              "      <td>-1.069941</td>\n",
              "      <td>2.041616</td>\n",
              "      <td>0.863099</td>\n",
              "      <td>2.085330</td>\n",
              "      <td>0.931939</td>\n",
              "      <td>-0.542744</td>\n",
              "      <td>-1.532220</td>\n",
              "      <td>-0.031277</td>\n",
              "      <td>1.982634</td>\n",
              "      <td>0.214338</td>\n",
              "      <td>-0.224954</td>\n",
              "      <td>29.60</td>\n",
              "      <td>37.600002</td>\n",
              "    </tr>\n",
              "    <tr>\n",
              "      <th>7</th>\n",
              "      <td>0.612491</td>\n",
              "      <td>0.147569</td>\n",
              "      <td>-0.626729</td>\n",
              "      <td>0.016771</td>\n",
              "      <td>-0.651561</td>\n",
              "      <td>0.737490</td>\n",
              "      <td>1.220537</td>\n",
              "      <td>0.367481</td>\n",
              "      <td>-0.859013</td>\n",
              "      <td>0.276295</td>\n",
              "      <td>0.270580</td>\n",
              "      <td>-0.354549</td>\n",
              "      <td>0.959490</td>\n",
              "      <td>-0.585005</td>\n",
              "      <td>0.904716</td>\n",
              "      <td>0.623664</td>\n",
              "      <td>0.002698</td>\n",
              "      <td>0.648048</td>\n",
              "      <td>0.988942</td>\n",
              "      <td>0.744714</td>\n",
              "      <td>0.948217</td>\n",
              "      <td>0.382397</td>\n",
              "      <td>-0.847351</td>\n",
              "      <td>0.049569</td>\n",
              "      <td>-0.937325</td>\n",
              "      <td>0.652070</td>\n",
              "      <td>0.988494</td>\n",
              "      <td>0.648198</td>\n",
              "      <td>-0.873713</td>\n",
              "      <td>0.627380</td>\n",
              "      <td>0.847039</td>\n",
              "      <td>-0.495354</td>\n",
              "      <td>-0.763330</td>\n",
              "      <td>-0.656367</td>\n",
              "      <td>-0.771971</td>\n",
              "      <td>0.680200</td>\n",
              "      <td>0.691224</td>\n",
              "      <td>0.067424</td>\n",
              "      <td>-0.496826</td>\n",
              "      <td>-0.180881</td>\n",
              "      <td>0.154609</td>\n",
              "      <td>-0.089542</td>\n",
              "      <td>0.530416</td>\n",
              "      <td>-0.168258</td>\n",
              "      <td>0.362506</td>\n",
              "      <td>0.816638</td>\n",
              "      <td>0.167066</td>\n",
              "      <td>0.263238</td>\n",
              "      <td>0.658140</td>\n",
              "      <td>0.039000</td>\n",
              "      <td>0.183482</td>\n",
              "      <td>-0.624761</td>\n",
              "      <td>-0.640713</td>\n",
              "      <td>-0.595809</td>\n",
              "      <td>-0.681299</td>\n",
              "      <td>0.732045</td>\n",
              "      <td>0.799227</td>\n",
              "      <td>-0.402929</td>\n",
              "      <td>-0.513029</td>\n",
              "      <td>-0.465103</td>\n",
              "      <td>-0.330074</td>\n",
              "      <td>0.060358</td>\n",
              "      <td>0.025088</td>\n",
              "      <td>-0.610304</td>\n",
              "      <td>-0.656702</td>\n",
              "      <td>-0.653509</td>\n",
              "      <td>-0.710493</td>\n",
              "      <td>0.937766</td>\n",
              "      <td>0.343077</td>\n",
              "      <td>0.921388</td>\n",
              "      <td>0.920663</td>\n",
              "      <td>-0.573116</td>\n",
              "      <td>-0.816568</td>\n",
              "      <td>-0.540696</td>\n",
              "      <td>-0.777538</td>\n",
              "      <td>0.684064</td>\n",
              "      <td>0.784534</td>\n",
              "      <td>-0.031277</td>\n",
              "      <td>-0.543962</td>\n",
              "      <td>-0.079623</td>\n",
              "      <td>-0.440617</td>\n",
              "      <td>2.80</td>\n",
              "      <td>9.805134</td>\n",
              "    </tr>\n",
              "    <tr>\n",
              "      <th>8</th>\n",
              "      <td>-1.467299</td>\n",
              "      <td>-2.167606</td>\n",
              "      <td>-1.650888</td>\n",
              "      <td>-1.769958</td>\n",
              "      <td>-1.263305</td>\n",
              "      <td>-2.043861</td>\n",
              "      <td>-1.229802</td>\n",
              "      <td>-1.515946</td>\n",
              "      <td>-0.913589</td>\n",
              "      <td>-1.396127</td>\n",
              "      <td>-1.302279</td>\n",
              "      <td>-2.467860</td>\n",
              "      <td>-2.283544</td>\n",
              "      <td>-2.359283</td>\n",
              "      <td>-2.425201</td>\n",
              "      <td>-1.589560</td>\n",
              "      <td>-0.823068</td>\n",
              "      <td>-1.626019</td>\n",
              "      <td>-1.480860</td>\n",
              "      <td>-1.647819</td>\n",
              "      <td>-1.499229</td>\n",
              "      <td>1.123901</td>\n",
              "      <td>1.436058</td>\n",
              "      <td>1.619276</td>\n",
              "      <td>1.526701</td>\n",
              "      <td>-1.535830</td>\n",
              "      <td>-1.168050</td>\n",
              "      <td>-1.668802</td>\n",
              "      <td>-0.129495</td>\n",
              "      <td>-1.663267</td>\n",
              "      <td>-1.568739</td>\n",
              "      <td>-1.790384</td>\n",
              "      <td>-1.371935</td>\n",
              "      <td>-0.689816</td>\n",
              "      <td>-0.593923</td>\n",
              "      <td>-1.464199</td>\n",
              "      <td>-0.563501</td>\n",
              "      <td>-1.876207</td>\n",
              "      <td>-1.155633</td>\n",
              "      <td>-1.746220</td>\n",
              "      <td>-1.772989</td>\n",
              "      <td>-1.604081</td>\n",
              "      <td>-1.574796</td>\n",
              "      <td>-1.343991</td>\n",
              "      <td>-1.519704</td>\n",
              "      <td>-2.459176</td>\n",
              "      <td>-2.227497</td>\n",
              "      <td>-1.084411</td>\n",
              "      <td>-0.694608</td>\n",
              "      <td>-0.936817</td>\n",
              "      <td>-0.857964</td>\n",
              "      <td>-0.753159</td>\n",
              "      <td>-0.632501</td>\n",
              "      <td>-0.502988</td>\n",
              "      <td>-0.449400</td>\n",
              "      <td>-1.386086</td>\n",
              "      <td>-0.644219</td>\n",
              "      <td>-0.762653</td>\n",
              "      <td>-0.651416</td>\n",
              "      <td>-0.639168</td>\n",
              "      <td>-0.697706</td>\n",
              "      <td>1.370249</td>\n",
              "      <td>0.912008</td>\n",
              "      <td>2.945836</td>\n",
              "      <td>2.140583</td>\n",
              "      <td>-0.359798</td>\n",
              "      <td>0.471103</td>\n",
              "      <td>-0.857770</td>\n",
              "      <td>-1.205040</td>\n",
              "      <td>-0.690776</td>\n",
              "      <td>-0.662387</td>\n",
              "      <td>-1.625385</td>\n",
              "      <td>-1.527014</td>\n",
              "      <td>-1.569373</td>\n",
              "      <td>-1.528071</td>\n",
              "      <td>-1.675322</td>\n",
              "      <td>-0.953205</td>\n",
              "      <td>-0.834039</td>\n",
              "      <td>-1.521829</td>\n",
              "      <td>-0.697149</td>\n",
              "      <td>-0.445170</td>\n",
              "      <td>77.00</td>\n",
              "      <td>42.190781</td>\n",
              "    </tr>\n",
              "  </tbody>\n",
              "</table>"
            ],
            "text/plain": [
              "<IPython.core.display.HTML object>"
            ]
          },
          "metadata": {}
        }
      ]
    },
    {
      "cell_type": "markdown",
      "source": [
        ""
      ],
      "metadata": {
        "id": "SxEbD56s9zRv"
      }
    },
    {
      "cell_type": "code",
      "source": [
        "targets  = []\n",
        "predictions = []\n",
        "#test = test.reset_index()  # make sure indexes pair with number of rows\n",
        "for index, sample in test[:100].iterrows():\n",
        "  target = sample[-1]\n",
        "  targets.append(target)\n",
        "  #print(sample)\n",
        "  #print(sample[:-1])\n",
        "  _, clas, _ = learn.predict(sample[:-1])\n",
        "  #row.show()\n",
        "  predictions.append(clas)\n",
        "\n",
        "#eval\n",
        "predictions = [float(x) for x in predictions]\n",
        "mse = mean_squared_error(predictions, targets)\n",
        "p_sort,t_sort = zip( *sorted( zip(predictions, targets)))\n",
        "eval_df = pd.DataFrame({'critical_temp': targets, 'critical_temp_pred': predictions })\n",
        "\n",
        "corr, _ = pearsonr(targets, predictions)\n",
        "print('Pearsons correlation: %.3f' % corr)\n",
        "print('mse: %.3f' % mse)"
      ],
      "metadata": {
        "colab": {
          "base_uri": "https://localhost:8080/",
          "height": 53
        },
        "id": "zPsSsYWh_I0C",
        "outputId": "a749a7ef-b83c-4b5e-92f7-25b9000d68eb"
      },
      "execution_count": null,
      "outputs": [
        {
          "output_type": "display_data",
          "data": {
            "text/html": [
              "\n",
              "<style>\n",
              "    /* Turns off some styling */\n",
              "    progress {\n",
              "        /* gets rid of default border in Firefox and Opera. */\n",
              "        border: none;\n",
              "        /* Needs to be in here for Safari polyfill so background images work as expected. */\n",
              "        background-size: auto;\n",
              "    }\n",
              "    .progress-bar-interrupted, .progress-bar-interrupted::-webkit-progress-bar {\n",
              "        background: #F44336;\n",
              "    }\n",
              "</style>\n"
            ],
            "text/plain": [
              "<IPython.core.display.HTML object>"
            ]
          },
          "metadata": {}
        },
        {
          "output_type": "display_data",
          "data": {
            "text/html": [
              ""
            ],
            "text/plain": [
              "<IPython.core.display.HTML object>"
            ]
          },
          "metadata": {}
        },
        {
          "output_type": "display_data",
          "data": {
            "text/html": [
              "\n",
              "<style>\n",
              "    /* Turns off some styling */\n",
              "    progress {\n",
              "        /* gets rid of default border in Firefox and Opera. */\n",
              "        border: none;\n",
              "        /* Needs to be in here for Safari polyfill so background images work as expected. */\n",
              "        background-size: auto;\n",
              "    }\n",
              "    .progress-bar-interrupted, .progress-bar-interrupted::-webkit-progress-bar {\n",
              "        background: #F44336;\n",
              "    }\n",
              "</style>\n"
            ],
            "text/plain": [
              "<IPython.core.display.HTML object>"
            ]
          },
          "metadata": {}
        },
        {
          "output_type": "display_data",
          "data": {
            "text/html": [
              ""
            ],
            "text/plain": [
              "<IPython.core.display.HTML object>"
            ]
          },
          "metadata": {}
        },
        {
          "output_type": "display_data",
          "data": {
            "text/html": [
              "\n",
              "<style>\n",
              "    /* Turns off some styling */\n",
              "    progress {\n",
              "        /* gets rid of default border in Firefox and Opera. */\n",
              "        border: none;\n",
              "        /* Needs to be in here for Safari polyfill so background images work as expected. */\n",
              "        background-size: auto;\n",
              "    }\n",
              "    .progress-bar-interrupted, .progress-bar-interrupted::-webkit-progress-bar {\n",
              "        background: #F44336;\n",
              "    }\n",
              "</style>\n"
            ],
            "text/plain": [
              "<IPython.core.display.HTML object>"
            ]
          },
          "metadata": {}
        },
        {
          "output_type": "display_data",
          "data": {
            "text/html": [
              ""
            ],
            "text/plain": [
              "<IPython.core.display.HTML object>"
            ]
          },
          "metadata": {}
        },
        {
          "output_type": "display_data",
          "data": {
            "text/html": [
              "\n",
              "<style>\n",
              "    /* Turns off some styling */\n",
              "    progress {\n",
              "        /* gets rid of default border in Firefox and Opera. */\n",
              "        border: none;\n",
              "        /* Needs to be in here for Safari polyfill so background images work as expected. */\n",
              "        background-size: auto;\n",
              "    }\n",
              "    .progress-bar-interrupted, .progress-bar-interrupted::-webkit-progress-bar {\n",
              "        background: #F44336;\n",
              "    }\n",
              "</style>\n"
            ],
            "text/plain": [
              "<IPython.core.display.HTML object>"
            ]
          },
          "metadata": {}
        },
        {
          "output_type": "display_data",
          "data": {
            "text/html": [
              ""
            ],
            "text/plain": [
              "<IPython.core.display.HTML object>"
            ]
          },
          "metadata": {}
        },
        {
          "output_type": "display_data",
          "data": {
            "text/html": [
              "\n",
              "<style>\n",
              "    /* Turns off some styling */\n",
              "    progress {\n",
              "        /* gets rid of default border in Firefox and Opera. */\n",
              "        border: none;\n",
              "        /* Needs to be in here for Safari polyfill so background images work as expected. */\n",
              "        background-size: auto;\n",
              "    }\n",
              "    .progress-bar-interrupted, .progress-bar-interrupted::-webkit-progress-bar {\n",
              "        background: #F44336;\n",
              "    }\n",
              "</style>\n"
            ],
            "text/plain": [
              "<IPython.core.display.HTML object>"
            ]
          },
          "metadata": {}
        },
        {
          "output_type": "display_data",
          "data": {
            "text/html": [
              ""
            ],
            "text/plain": [
              "<IPython.core.display.HTML object>"
            ]
          },
          "metadata": {}
        },
        {
          "output_type": "display_data",
          "data": {
            "text/html": [
              "\n",
              "<style>\n",
              "    /* Turns off some styling */\n",
              "    progress {\n",
              "        /* gets rid of default border in Firefox and Opera. */\n",
              "        border: none;\n",
              "        /* Needs to be in here for Safari polyfill so background images work as expected. */\n",
              "        background-size: auto;\n",
              "    }\n",
              "    .progress-bar-interrupted, .progress-bar-interrupted::-webkit-progress-bar {\n",
              "        background: #F44336;\n",
              "    }\n",
              "</style>\n"
            ],
            "text/plain": [
              "<IPython.core.display.HTML object>"
            ]
          },
          "metadata": {}
        },
        {
          "output_type": "display_data",
          "data": {
            "text/html": [
              ""
            ],
            "text/plain": [
              "<IPython.core.display.HTML object>"
            ]
          },
          "metadata": {}
        },
        {
          "output_type": "display_data",
          "data": {
            "text/html": [
              "\n",
              "<style>\n",
              "    /* Turns off some styling */\n",
              "    progress {\n",
              "        /* gets rid of default border in Firefox and Opera. */\n",
              "        border: none;\n",
              "        /* Needs to be in here for Safari polyfill so background images work as expected. */\n",
              "        background-size: auto;\n",
              "    }\n",
              "    .progress-bar-interrupted, .progress-bar-interrupted::-webkit-progress-bar {\n",
              "        background: #F44336;\n",
              "    }\n",
              "</style>\n"
            ],
            "text/plain": [
              "<IPython.core.display.HTML object>"
            ]
          },
          "metadata": {}
        },
        {
          "output_type": "display_data",
          "data": {
            "text/html": [
              ""
            ],
            "text/plain": [
              "<IPython.core.display.HTML object>"
            ]
          },
          "metadata": {}
        },
        {
          "output_type": "display_data",
          "data": {
            "text/html": [
              "\n",
              "<style>\n",
              "    /* Turns off some styling */\n",
              "    progress {\n",
              "        /* gets rid of default border in Firefox and Opera. */\n",
              "        border: none;\n",
              "        /* Needs to be in here for Safari polyfill so background images work as expected. */\n",
              "        background-size: auto;\n",
              "    }\n",
              "    .progress-bar-interrupted, .progress-bar-interrupted::-webkit-progress-bar {\n",
              "        background: #F44336;\n",
              "    }\n",
              "</style>\n"
            ],
            "text/plain": [
              "<IPython.core.display.HTML object>"
            ]
          },
          "metadata": {}
        },
        {
          "output_type": "display_data",
          "data": {
            "text/html": [
              ""
            ],
            "text/plain": [
              "<IPython.core.display.HTML object>"
            ]
          },
          "metadata": {}
        },
        {
          "output_type": "display_data",
          "data": {
            "text/html": [
              "\n",
              "<style>\n",
              "    /* Turns off some styling */\n",
              "    progress {\n",
              "        /* gets rid of default border in Firefox and Opera. */\n",
              "        border: none;\n",
              "        /* Needs to be in here for Safari polyfill so background images work as expected. */\n",
              "        background-size: auto;\n",
              "    }\n",
              "    .progress-bar-interrupted, .progress-bar-interrupted::-webkit-progress-bar {\n",
              "        background: #F44336;\n",
              "    }\n",
              "</style>\n"
            ],
            "text/plain": [
              "<IPython.core.display.HTML object>"
            ]
          },
          "metadata": {}
        },
        {
          "output_type": "display_data",
          "data": {
            "text/html": [
              ""
            ],
            "text/plain": [
              "<IPython.core.display.HTML object>"
            ]
          },
          "metadata": {}
        },
        {
          "output_type": "display_data",
          "data": {
            "text/html": [
              "\n",
              "<style>\n",
              "    /* Turns off some styling */\n",
              "    progress {\n",
              "        /* gets rid of default border in Firefox and Opera. */\n",
              "        border: none;\n",
              "        /* Needs to be in here for Safari polyfill so background images work as expected. */\n",
              "        background-size: auto;\n",
              "    }\n",
              "    .progress-bar-interrupted, .progress-bar-interrupted::-webkit-progress-bar {\n",
              "        background: #F44336;\n",
              "    }\n",
              "</style>\n"
            ],
            "text/plain": [
              "<IPython.core.display.HTML object>"
            ]
          },
          "metadata": {}
        },
        {
          "output_type": "display_data",
          "data": {
            "text/html": [
              ""
            ],
            "text/plain": [
              "<IPython.core.display.HTML object>"
            ]
          },
          "metadata": {}
        },
        {
          "output_type": "display_data",
          "data": {
            "text/html": [
              "\n",
              "<style>\n",
              "    /* Turns off some styling */\n",
              "    progress {\n",
              "        /* gets rid of default border in Firefox and Opera. */\n",
              "        border: none;\n",
              "        /* Needs to be in here for Safari polyfill so background images work as expected. */\n",
              "        background-size: auto;\n",
              "    }\n",
              "    .progress-bar-interrupted, .progress-bar-interrupted::-webkit-progress-bar {\n",
              "        background: #F44336;\n",
              "    }\n",
              "</style>\n"
            ],
            "text/plain": [
              "<IPython.core.display.HTML object>"
            ]
          },
          "metadata": {}
        },
        {
          "output_type": "display_data",
          "data": {
            "text/html": [
              ""
            ],
            "text/plain": [
              "<IPython.core.display.HTML object>"
            ]
          },
          "metadata": {}
        },
        {
          "output_type": "display_data",
          "data": {
            "text/html": [
              "\n",
              "<style>\n",
              "    /* Turns off some styling */\n",
              "    progress {\n",
              "        /* gets rid of default border in Firefox and Opera. */\n",
              "        border: none;\n",
              "        /* Needs to be in here for Safari polyfill so background images work as expected. */\n",
              "        background-size: auto;\n",
              "    }\n",
              "    .progress-bar-interrupted, .progress-bar-interrupted::-webkit-progress-bar {\n",
              "        background: #F44336;\n",
              "    }\n",
              "</style>\n"
            ],
            "text/plain": [
              "<IPython.core.display.HTML object>"
            ]
          },
          "metadata": {}
        },
        {
          "output_type": "display_data",
          "data": {
            "text/html": [
              ""
            ],
            "text/plain": [
              "<IPython.core.display.HTML object>"
            ]
          },
          "metadata": {}
        },
        {
          "output_type": "display_data",
          "data": {
            "text/html": [
              "\n",
              "<style>\n",
              "    /* Turns off some styling */\n",
              "    progress {\n",
              "        /* gets rid of default border in Firefox and Opera. */\n",
              "        border: none;\n",
              "        /* Needs to be in here for Safari polyfill so background images work as expected. */\n",
              "        background-size: auto;\n",
              "    }\n",
              "    .progress-bar-interrupted, .progress-bar-interrupted::-webkit-progress-bar {\n",
              "        background: #F44336;\n",
              "    }\n",
              "</style>\n"
            ],
            "text/plain": [
              "<IPython.core.display.HTML object>"
            ]
          },
          "metadata": {}
        },
        {
          "output_type": "display_data",
          "data": {
            "text/html": [
              ""
            ],
            "text/plain": [
              "<IPython.core.display.HTML object>"
            ]
          },
          "metadata": {}
        },
        {
          "output_type": "display_data",
          "data": {
            "text/html": [
              "\n",
              "<style>\n",
              "    /* Turns off some styling */\n",
              "    progress {\n",
              "        /* gets rid of default border in Firefox and Opera. */\n",
              "        border: none;\n",
              "        /* Needs to be in here for Safari polyfill so background images work as expected. */\n",
              "        background-size: auto;\n",
              "    }\n",
              "    .progress-bar-interrupted, .progress-bar-interrupted::-webkit-progress-bar {\n",
              "        background: #F44336;\n",
              "    }\n",
              "</style>\n"
            ],
            "text/plain": [
              "<IPython.core.display.HTML object>"
            ]
          },
          "metadata": {}
        },
        {
          "output_type": "display_data",
          "data": {
            "text/html": [
              ""
            ],
            "text/plain": [
              "<IPython.core.display.HTML object>"
            ]
          },
          "metadata": {}
        },
        {
          "output_type": "display_data",
          "data": {
            "text/html": [
              "\n",
              "<style>\n",
              "    /* Turns off some styling */\n",
              "    progress {\n",
              "        /* gets rid of default border in Firefox and Opera. */\n",
              "        border: none;\n",
              "        /* Needs to be in here for Safari polyfill so background images work as expected. */\n",
              "        background-size: auto;\n",
              "    }\n",
              "    .progress-bar-interrupted, .progress-bar-interrupted::-webkit-progress-bar {\n",
              "        background: #F44336;\n",
              "    }\n",
              "</style>\n"
            ],
            "text/plain": [
              "<IPython.core.display.HTML object>"
            ]
          },
          "metadata": {}
        },
        {
          "output_type": "display_data",
          "data": {
            "text/html": [
              ""
            ],
            "text/plain": [
              "<IPython.core.display.HTML object>"
            ]
          },
          "metadata": {}
        },
        {
          "output_type": "display_data",
          "data": {
            "text/html": [
              "\n",
              "<style>\n",
              "    /* Turns off some styling */\n",
              "    progress {\n",
              "        /* gets rid of default border in Firefox and Opera. */\n",
              "        border: none;\n",
              "        /* Needs to be in here for Safari polyfill so background images work as expected. */\n",
              "        background-size: auto;\n",
              "    }\n",
              "    .progress-bar-interrupted, .progress-bar-interrupted::-webkit-progress-bar {\n",
              "        background: #F44336;\n",
              "    }\n",
              "</style>\n"
            ],
            "text/plain": [
              "<IPython.core.display.HTML object>"
            ]
          },
          "metadata": {}
        },
        {
          "output_type": "display_data",
          "data": {
            "text/html": [
              ""
            ],
            "text/plain": [
              "<IPython.core.display.HTML object>"
            ]
          },
          "metadata": {}
        },
        {
          "output_type": "display_data",
          "data": {
            "text/html": [
              "\n",
              "<style>\n",
              "    /* Turns off some styling */\n",
              "    progress {\n",
              "        /* gets rid of default border in Firefox and Opera. */\n",
              "        border: none;\n",
              "        /* Needs to be in here for Safari polyfill so background images work as expected. */\n",
              "        background-size: auto;\n",
              "    }\n",
              "    .progress-bar-interrupted, .progress-bar-interrupted::-webkit-progress-bar {\n",
              "        background: #F44336;\n",
              "    }\n",
              "</style>\n"
            ],
            "text/plain": [
              "<IPython.core.display.HTML object>"
            ]
          },
          "metadata": {}
        },
        {
          "output_type": "display_data",
          "data": {
            "text/html": [
              ""
            ],
            "text/plain": [
              "<IPython.core.display.HTML object>"
            ]
          },
          "metadata": {}
        },
        {
          "output_type": "display_data",
          "data": {
            "text/html": [
              "\n",
              "<style>\n",
              "    /* Turns off some styling */\n",
              "    progress {\n",
              "        /* gets rid of default border in Firefox and Opera. */\n",
              "        border: none;\n",
              "        /* Needs to be in here for Safari polyfill so background images work as expected. */\n",
              "        background-size: auto;\n",
              "    }\n",
              "    .progress-bar-interrupted, .progress-bar-interrupted::-webkit-progress-bar {\n",
              "        background: #F44336;\n",
              "    }\n",
              "</style>\n"
            ],
            "text/plain": [
              "<IPython.core.display.HTML object>"
            ]
          },
          "metadata": {}
        },
        {
          "output_type": "display_data",
          "data": {
            "text/html": [
              ""
            ],
            "text/plain": [
              "<IPython.core.display.HTML object>"
            ]
          },
          "metadata": {}
        },
        {
          "output_type": "display_data",
          "data": {
            "text/html": [
              "\n",
              "<style>\n",
              "    /* Turns off some styling */\n",
              "    progress {\n",
              "        /* gets rid of default border in Firefox and Opera. */\n",
              "        border: none;\n",
              "        /* Needs to be in here for Safari polyfill so background images work as expected. */\n",
              "        background-size: auto;\n",
              "    }\n",
              "    .progress-bar-interrupted, .progress-bar-interrupted::-webkit-progress-bar {\n",
              "        background: #F44336;\n",
              "    }\n",
              "</style>\n"
            ],
            "text/plain": [
              "<IPython.core.display.HTML object>"
            ]
          },
          "metadata": {}
        },
        {
          "output_type": "display_data",
          "data": {
            "text/html": [
              ""
            ],
            "text/plain": [
              "<IPython.core.display.HTML object>"
            ]
          },
          "metadata": {}
        },
        {
          "output_type": "display_data",
          "data": {
            "text/html": [
              "\n",
              "<style>\n",
              "    /* Turns off some styling */\n",
              "    progress {\n",
              "        /* gets rid of default border in Firefox and Opera. */\n",
              "        border: none;\n",
              "        /* Needs to be in here for Safari polyfill so background images work as expected. */\n",
              "        background-size: auto;\n",
              "    }\n",
              "    .progress-bar-interrupted, .progress-bar-interrupted::-webkit-progress-bar {\n",
              "        background: #F44336;\n",
              "    }\n",
              "</style>\n"
            ],
            "text/plain": [
              "<IPython.core.display.HTML object>"
            ]
          },
          "metadata": {}
        },
        {
          "output_type": "display_data",
          "data": {
            "text/html": [
              ""
            ],
            "text/plain": [
              "<IPython.core.display.HTML object>"
            ]
          },
          "metadata": {}
        },
        {
          "output_type": "display_data",
          "data": {
            "text/html": [
              "\n",
              "<style>\n",
              "    /* Turns off some styling */\n",
              "    progress {\n",
              "        /* gets rid of default border in Firefox and Opera. */\n",
              "        border: none;\n",
              "        /* Needs to be in here for Safari polyfill so background images work as expected. */\n",
              "        background-size: auto;\n",
              "    }\n",
              "    .progress-bar-interrupted, .progress-bar-interrupted::-webkit-progress-bar {\n",
              "        background: #F44336;\n",
              "    }\n",
              "</style>\n"
            ],
            "text/plain": [
              "<IPython.core.display.HTML object>"
            ]
          },
          "metadata": {}
        },
        {
          "output_type": "display_data",
          "data": {
            "text/html": [
              ""
            ],
            "text/plain": [
              "<IPython.core.display.HTML object>"
            ]
          },
          "metadata": {}
        },
        {
          "output_type": "display_data",
          "data": {
            "text/html": [
              "\n",
              "<style>\n",
              "    /* Turns off some styling */\n",
              "    progress {\n",
              "        /* gets rid of default border in Firefox and Opera. */\n",
              "        border: none;\n",
              "        /* Needs to be in here for Safari polyfill so background images work as expected. */\n",
              "        background-size: auto;\n",
              "    }\n",
              "    .progress-bar-interrupted, .progress-bar-interrupted::-webkit-progress-bar {\n",
              "        background: #F44336;\n",
              "    }\n",
              "</style>\n"
            ],
            "text/plain": [
              "<IPython.core.display.HTML object>"
            ]
          },
          "metadata": {}
        },
        {
          "output_type": "display_data",
          "data": {
            "text/html": [
              ""
            ],
            "text/plain": [
              "<IPython.core.display.HTML object>"
            ]
          },
          "metadata": {}
        },
        {
          "output_type": "display_data",
          "data": {
            "text/html": [
              "\n",
              "<style>\n",
              "    /* Turns off some styling */\n",
              "    progress {\n",
              "        /* gets rid of default border in Firefox and Opera. */\n",
              "        border: none;\n",
              "        /* Needs to be in here for Safari polyfill so background images work as expected. */\n",
              "        background-size: auto;\n",
              "    }\n",
              "    .progress-bar-interrupted, .progress-bar-interrupted::-webkit-progress-bar {\n",
              "        background: #F44336;\n",
              "    }\n",
              "</style>\n"
            ],
            "text/plain": [
              "<IPython.core.display.HTML object>"
            ]
          },
          "metadata": {}
        },
        {
          "output_type": "display_data",
          "data": {
            "text/html": [
              ""
            ],
            "text/plain": [
              "<IPython.core.display.HTML object>"
            ]
          },
          "metadata": {}
        },
        {
          "output_type": "display_data",
          "data": {
            "text/html": [
              "\n",
              "<style>\n",
              "    /* Turns off some styling */\n",
              "    progress {\n",
              "        /* gets rid of default border in Firefox and Opera. */\n",
              "        border: none;\n",
              "        /* Needs to be in here for Safari polyfill so background images work as expected. */\n",
              "        background-size: auto;\n",
              "    }\n",
              "    .progress-bar-interrupted, .progress-bar-interrupted::-webkit-progress-bar {\n",
              "        background: #F44336;\n",
              "    }\n",
              "</style>\n"
            ],
            "text/plain": [
              "<IPython.core.display.HTML object>"
            ]
          },
          "metadata": {}
        },
        {
          "output_type": "display_data",
          "data": {
            "text/html": [
              ""
            ],
            "text/plain": [
              "<IPython.core.display.HTML object>"
            ]
          },
          "metadata": {}
        },
        {
          "output_type": "display_data",
          "data": {
            "text/html": [
              "\n",
              "<style>\n",
              "    /* Turns off some styling */\n",
              "    progress {\n",
              "        /* gets rid of default border in Firefox and Opera. */\n",
              "        border: none;\n",
              "        /* Needs to be in here for Safari polyfill so background images work as expected. */\n",
              "        background-size: auto;\n",
              "    }\n",
              "    .progress-bar-interrupted, .progress-bar-interrupted::-webkit-progress-bar {\n",
              "        background: #F44336;\n",
              "    }\n",
              "</style>\n"
            ],
            "text/plain": [
              "<IPython.core.display.HTML object>"
            ]
          },
          "metadata": {}
        },
        {
          "output_type": "display_data",
          "data": {
            "text/html": [
              ""
            ],
            "text/plain": [
              "<IPython.core.display.HTML object>"
            ]
          },
          "metadata": {}
        },
        {
          "output_type": "display_data",
          "data": {
            "text/html": [
              "\n",
              "<style>\n",
              "    /* Turns off some styling */\n",
              "    progress {\n",
              "        /* gets rid of default border in Firefox and Opera. */\n",
              "        border: none;\n",
              "        /* Needs to be in here for Safari polyfill so background images work as expected. */\n",
              "        background-size: auto;\n",
              "    }\n",
              "    .progress-bar-interrupted, .progress-bar-interrupted::-webkit-progress-bar {\n",
              "        background: #F44336;\n",
              "    }\n",
              "</style>\n"
            ],
            "text/plain": [
              "<IPython.core.display.HTML object>"
            ]
          },
          "metadata": {}
        },
        {
          "output_type": "display_data",
          "data": {
            "text/html": [
              ""
            ],
            "text/plain": [
              "<IPython.core.display.HTML object>"
            ]
          },
          "metadata": {}
        },
        {
          "output_type": "display_data",
          "data": {
            "text/html": [
              "\n",
              "<style>\n",
              "    /* Turns off some styling */\n",
              "    progress {\n",
              "        /* gets rid of default border in Firefox and Opera. */\n",
              "        border: none;\n",
              "        /* Needs to be in here for Safari polyfill so background images work as expected. */\n",
              "        background-size: auto;\n",
              "    }\n",
              "    .progress-bar-interrupted, .progress-bar-interrupted::-webkit-progress-bar {\n",
              "        background: #F44336;\n",
              "    }\n",
              "</style>\n"
            ],
            "text/plain": [
              "<IPython.core.display.HTML object>"
            ]
          },
          "metadata": {}
        },
        {
          "output_type": "display_data",
          "data": {
            "text/html": [
              ""
            ],
            "text/plain": [
              "<IPython.core.display.HTML object>"
            ]
          },
          "metadata": {}
        },
        {
          "output_type": "display_data",
          "data": {
            "text/html": [
              "\n",
              "<style>\n",
              "    /* Turns off some styling */\n",
              "    progress {\n",
              "        /* gets rid of default border in Firefox and Opera. */\n",
              "        border: none;\n",
              "        /* Needs to be in here for Safari polyfill so background images work as expected. */\n",
              "        background-size: auto;\n",
              "    }\n",
              "    .progress-bar-interrupted, .progress-bar-interrupted::-webkit-progress-bar {\n",
              "        background: #F44336;\n",
              "    }\n",
              "</style>\n"
            ],
            "text/plain": [
              "<IPython.core.display.HTML object>"
            ]
          },
          "metadata": {}
        },
        {
          "output_type": "display_data",
          "data": {
            "text/html": [
              ""
            ],
            "text/plain": [
              "<IPython.core.display.HTML object>"
            ]
          },
          "metadata": {}
        },
        {
          "output_type": "display_data",
          "data": {
            "text/html": [
              "\n",
              "<style>\n",
              "    /* Turns off some styling */\n",
              "    progress {\n",
              "        /* gets rid of default border in Firefox and Opera. */\n",
              "        border: none;\n",
              "        /* Needs to be in here for Safari polyfill so background images work as expected. */\n",
              "        background-size: auto;\n",
              "    }\n",
              "    .progress-bar-interrupted, .progress-bar-interrupted::-webkit-progress-bar {\n",
              "        background: #F44336;\n",
              "    }\n",
              "</style>\n"
            ],
            "text/plain": [
              "<IPython.core.display.HTML object>"
            ]
          },
          "metadata": {}
        },
        {
          "output_type": "display_data",
          "data": {
            "text/html": [
              ""
            ],
            "text/plain": [
              "<IPython.core.display.HTML object>"
            ]
          },
          "metadata": {}
        },
        {
          "output_type": "display_data",
          "data": {
            "text/html": [
              "\n",
              "<style>\n",
              "    /* Turns off some styling */\n",
              "    progress {\n",
              "        /* gets rid of default border in Firefox and Opera. */\n",
              "        border: none;\n",
              "        /* Needs to be in here for Safari polyfill so background images work as expected. */\n",
              "        background-size: auto;\n",
              "    }\n",
              "    .progress-bar-interrupted, .progress-bar-interrupted::-webkit-progress-bar {\n",
              "        background: #F44336;\n",
              "    }\n",
              "</style>\n"
            ],
            "text/plain": [
              "<IPython.core.display.HTML object>"
            ]
          },
          "metadata": {}
        },
        {
          "output_type": "display_data",
          "data": {
            "text/html": [
              ""
            ],
            "text/plain": [
              "<IPython.core.display.HTML object>"
            ]
          },
          "metadata": {}
        },
        {
          "output_type": "display_data",
          "data": {
            "text/html": [
              "\n",
              "<style>\n",
              "    /* Turns off some styling */\n",
              "    progress {\n",
              "        /* gets rid of default border in Firefox and Opera. */\n",
              "        border: none;\n",
              "        /* Needs to be in here for Safari polyfill so background images work as expected. */\n",
              "        background-size: auto;\n",
              "    }\n",
              "    .progress-bar-interrupted, .progress-bar-interrupted::-webkit-progress-bar {\n",
              "        background: #F44336;\n",
              "    }\n",
              "</style>\n"
            ],
            "text/plain": [
              "<IPython.core.display.HTML object>"
            ]
          },
          "metadata": {}
        },
        {
          "output_type": "display_data",
          "data": {
            "text/html": [
              ""
            ],
            "text/plain": [
              "<IPython.core.display.HTML object>"
            ]
          },
          "metadata": {}
        },
        {
          "output_type": "display_data",
          "data": {
            "text/html": [
              "\n",
              "<style>\n",
              "    /* Turns off some styling */\n",
              "    progress {\n",
              "        /* gets rid of default border in Firefox and Opera. */\n",
              "        border: none;\n",
              "        /* Needs to be in here for Safari polyfill so background images work as expected. */\n",
              "        background-size: auto;\n",
              "    }\n",
              "    .progress-bar-interrupted, .progress-bar-interrupted::-webkit-progress-bar {\n",
              "        background: #F44336;\n",
              "    }\n",
              "</style>\n"
            ],
            "text/plain": [
              "<IPython.core.display.HTML object>"
            ]
          },
          "metadata": {}
        },
        {
          "output_type": "display_data",
          "data": {
            "text/html": [
              ""
            ],
            "text/plain": [
              "<IPython.core.display.HTML object>"
            ]
          },
          "metadata": {}
        },
        {
          "output_type": "display_data",
          "data": {
            "text/html": [
              "\n",
              "<style>\n",
              "    /* Turns off some styling */\n",
              "    progress {\n",
              "        /* gets rid of default border in Firefox and Opera. */\n",
              "        border: none;\n",
              "        /* Needs to be in here for Safari polyfill so background images work as expected. */\n",
              "        background-size: auto;\n",
              "    }\n",
              "    .progress-bar-interrupted, .progress-bar-interrupted::-webkit-progress-bar {\n",
              "        background: #F44336;\n",
              "    }\n",
              "</style>\n"
            ],
            "text/plain": [
              "<IPython.core.display.HTML object>"
            ]
          },
          "metadata": {}
        },
        {
          "output_type": "display_data",
          "data": {
            "text/html": [
              ""
            ],
            "text/plain": [
              "<IPython.core.display.HTML object>"
            ]
          },
          "metadata": {}
        },
        {
          "output_type": "display_data",
          "data": {
            "text/html": [
              "\n",
              "<style>\n",
              "    /* Turns off some styling */\n",
              "    progress {\n",
              "        /* gets rid of default border in Firefox and Opera. */\n",
              "        border: none;\n",
              "        /* Needs to be in here for Safari polyfill so background images work as expected. */\n",
              "        background-size: auto;\n",
              "    }\n",
              "    .progress-bar-interrupted, .progress-bar-interrupted::-webkit-progress-bar {\n",
              "        background: #F44336;\n",
              "    }\n",
              "</style>\n"
            ],
            "text/plain": [
              "<IPython.core.display.HTML object>"
            ]
          },
          "metadata": {}
        },
        {
          "output_type": "display_data",
          "data": {
            "text/html": [
              ""
            ],
            "text/plain": [
              "<IPython.core.display.HTML object>"
            ]
          },
          "metadata": {}
        },
        {
          "output_type": "display_data",
          "data": {
            "text/html": [
              "\n",
              "<style>\n",
              "    /* Turns off some styling */\n",
              "    progress {\n",
              "        /* gets rid of default border in Firefox and Opera. */\n",
              "        border: none;\n",
              "        /* Needs to be in here for Safari polyfill so background images work as expected. */\n",
              "        background-size: auto;\n",
              "    }\n",
              "    .progress-bar-interrupted, .progress-bar-interrupted::-webkit-progress-bar {\n",
              "        background: #F44336;\n",
              "    }\n",
              "</style>\n"
            ],
            "text/plain": [
              "<IPython.core.display.HTML object>"
            ]
          },
          "metadata": {}
        },
        {
          "output_type": "display_data",
          "data": {
            "text/html": [
              ""
            ],
            "text/plain": [
              "<IPython.core.display.HTML object>"
            ]
          },
          "metadata": {}
        },
        {
          "output_type": "display_data",
          "data": {
            "text/html": [
              "\n",
              "<style>\n",
              "    /* Turns off some styling */\n",
              "    progress {\n",
              "        /* gets rid of default border in Firefox and Opera. */\n",
              "        border: none;\n",
              "        /* Needs to be in here for Safari polyfill so background images work as expected. */\n",
              "        background-size: auto;\n",
              "    }\n",
              "    .progress-bar-interrupted, .progress-bar-interrupted::-webkit-progress-bar {\n",
              "        background: #F44336;\n",
              "    }\n",
              "</style>\n"
            ],
            "text/plain": [
              "<IPython.core.display.HTML object>"
            ]
          },
          "metadata": {}
        },
        {
          "output_type": "display_data",
          "data": {
            "text/html": [
              ""
            ],
            "text/plain": [
              "<IPython.core.display.HTML object>"
            ]
          },
          "metadata": {}
        },
        {
          "output_type": "display_data",
          "data": {
            "text/html": [
              "\n",
              "<style>\n",
              "    /* Turns off some styling */\n",
              "    progress {\n",
              "        /* gets rid of default border in Firefox and Opera. */\n",
              "        border: none;\n",
              "        /* Needs to be in here for Safari polyfill so background images work as expected. */\n",
              "        background-size: auto;\n",
              "    }\n",
              "    .progress-bar-interrupted, .progress-bar-interrupted::-webkit-progress-bar {\n",
              "        background: #F44336;\n",
              "    }\n",
              "</style>\n"
            ],
            "text/plain": [
              "<IPython.core.display.HTML object>"
            ]
          },
          "metadata": {}
        },
        {
          "output_type": "display_data",
          "data": {
            "text/html": [
              ""
            ],
            "text/plain": [
              "<IPython.core.display.HTML object>"
            ]
          },
          "metadata": {}
        },
        {
          "output_type": "display_data",
          "data": {
            "text/html": [
              "\n",
              "<style>\n",
              "    /* Turns off some styling */\n",
              "    progress {\n",
              "        /* gets rid of default border in Firefox and Opera. */\n",
              "        border: none;\n",
              "        /* Needs to be in here for Safari polyfill so background images work as expected. */\n",
              "        background-size: auto;\n",
              "    }\n",
              "    .progress-bar-interrupted, .progress-bar-interrupted::-webkit-progress-bar {\n",
              "        background: #F44336;\n",
              "    }\n",
              "</style>\n"
            ],
            "text/plain": [
              "<IPython.core.display.HTML object>"
            ]
          },
          "metadata": {}
        },
        {
          "output_type": "display_data",
          "data": {
            "text/html": [
              ""
            ],
            "text/plain": [
              "<IPython.core.display.HTML object>"
            ]
          },
          "metadata": {}
        },
        {
          "output_type": "display_data",
          "data": {
            "text/html": [
              "\n",
              "<style>\n",
              "    /* Turns off some styling */\n",
              "    progress {\n",
              "        /* gets rid of default border in Firefox and Opera. */\n",
              "        border: none;\n",
              "        /* Needs to be in here for Safari polyfill so background images work as expected. */\n",
              "        background-size: auto;\n",
              "    }\n",
              "    .progress-bar-interrupted, .progress-bar-interrupted::-webkit-progress-bar {\n",
              "        background: #F44336;\n",
              "    }\n",
              "</style>\n"
            ],
            "text/plain": [
              "<IPython.core.display.HTML object>"
            ]
          },
          "metadata": {}
        },
        {
          "output_type": "display_data",
          "data": {
            "text/html": [
              ""
            ],
            "text/plain": [
              "<IPython.core.display.HTML object>"
            ]
          },
          "metadata": {}
        },
        {
          "output_type": "display_data",
          "data": {
            "text/html": [
              "\n",
              "<style>\n",
              "    /* Turns off some styling */\n",
              "    progress {\n",
              "        /* gets rid of default border in Firefox and Opera. */\n",
              "        border: none;\n",
              "        /* Needs to be in here for Safari polyfill so background images work as expected. */\n",
              "        background-size: auto;\n",
              "    }\n",
              "    .progress-bar-interrupted, .progress-bar-interrupted::-webkit-progress-bar {\n",
              "        background: #F44336;\n",
              "    }\n",
              "</style>\n"
            ],
            "text/plain": [
              "<IPython.core.display.HTML object>"
            ]
          },
          "metadata": {}
        },
        {
          "output_type": "display_data",
          "data": {
            "text/html": [
              ""
            ],
            "text/plain": [
              "<IPython.core.display.HTML object>"
            ]
          },
          "metadata": {}
        },
        {
          "output_type": "display_data",
          "data": {
            "text/html": [
              "\n",
              "<style>\n",
              "    /* Turns off some styling */\n",
              "    progress {\n",
              "        /* gets rid of default border in Firefox and Opera. */\n",
              "        border: none;\n",
              "        /* Needs to be in here for Safari polyfill so background images work as expected. */\n",
              "        background-size: auto;\n",
              "    }\n",
              "    .progress-bar-interrupted, .progress-bar-interrupted::-webkit-progress-bar {\n",
              "        background: #F44336;\n",
              "    }\n",
              "</style>\n"
            ],
            "text/plain": [
              "<IPython.core.display.HTML object>"
            ]
          },
          "metadata": {}
        },
        {
          "output_type": "display_data",
          "data": {
            "text/html": [
              ""
            ],
            "text/plain": [
              "<IPython.core.display.HTML object>"
            ]
          },
          "metadata": {}
        },
        {
          "output_type": "display_data",
          "data": {
            "text/html": [
              "\n",
              "<style>\n",
              "    /* Turns off some styling */\n",
              "    progress {\n",
              "        /* gets rid of default border in Firefox and Opera. */\n",
              "        border: none;\n",
              "        /* Needs to be in here for Safari polyfill so background images work as expected. */\n",
              "        background-size: auto;\n",
              "    }\n",
              "    .progress-bar-interrupted, .progress-bar-interrupted::-webkit-progress-bar {\n",
              "        background: #F44336;\n",
              "    }\n",
              "</style>\n"
            ],
            "text/plain": [
              "<IPython.core.display.HTML object>"
            ]
          },
          "metadata": {}
        },
        {
          "output_type": "display_data",
          "data": {
            "text/html": [
              ""
            ],
            "text/plain": [
              "<IPython.core.display.HTML object>"
            ]
          },
          "metadata": {}
        },
        {
          "output_type": "display_data",
          "data": {
            "text/html": [
              "\n",
              "<style>\n",
              "    /* Turns off some styling */\n",
              "    progress {\n",
              "        /* gets rid of default border in Firefox and Opera. */\n",
              "        border: none;\n",
              "        /* Needs to be in here for Safari polyfill so background images work as expected. */\n",
              "        background-size: auto;\n",
              "    }\n",
              "    .progress-bar-interrupted, .progress-bar-interrupted::-webkit-progress-bar {\n",
              "        background: #F44336;\n",
              "    }\n",
              "</style>\n"
            ],
            "text/plain": [
              "<IPython.core.display.HTML object>"
            ]
          },
          "metadata": {}
        },
        {
          "output_type": "display_data",
          "data": {
            "text/html": [
              ""
            ],
            "text/plain": [
              "<IPython.core.display.HTML object>"
            ]
          },
          "metadata": {}
        },
        {
          "output_type": "display_data",
          "data": {
            "text/html": [
              "\n",
              "<style>\n",
              "    /* Turns off some styling */\n",
              "    progress {\n",
              "        /* gets rid of default border in Firefox and Opera. */\n",
              "        border: none;\n",
              "        /* Needs to be in here for Safari polyfill so background images work as expected. */\n",
              "        background-size: auto;\n",
              "    }\n",
              "    .progress-bar-interrupted, .progress-bar-interrupted::-webkit-progress-bar {\n",
              "        background: #F44336;\n",
              "    }\n",
              "</style>\n"
            ],
            "text/plain": [
              "<IPython.core.display.HTML object>"
            ]
          },
          "metadata": {}
        },
        {
          "output_type": "display_data",
          "data": {
            "text/html": [
              ""
            ],
            "text/plain": [
              "<IPython.core.display.HTML object>"
            ]
          },
          "metadata": {}
        },
        {
          "output_type": "display_data",
          "data": {
            "text/html": [
              "\n",
              "<style>\n",
              "    /* Turns off some styling */\n",
              "    progress {\n",
              "        /* gets rid of default border in Firefox and Opera. */\n",
              "        border: none;\n",
              "        /* Needs to be in here for Safari polyfill so background images work as expected. */\n",
              "        background-size: auto;\n",
              "    }\n",
              "    .progress-bar-interrupted, .progress-bar-interrupted::-webkit-progress-bar {\n",
              "        background: #F44336;\n",
              "    }\n",
              "</style>\n"
            ],
            "text/plain": [
              "<IPython.core.display.HTML object>"
            ]
          },
          "metadata": {}
        },
        {
          "output_type": "display_data",
          "data": {
            "text/html": [
              ""
            ],
            "text/plain": [
              "<IPython.core.display.HTML object>"
            ]
          },
          "metadata": {}
        },
        {
          "output_type": "display_data",
          "data": {
            "text/html": [
              "\n",
              "<style>\n",
              "    /* Turns off some styling */\n",
              "    progress {\n",
              "        /* gets rid of default border in Firefox and Opera. */\n",
              "        border: none;\n",
              "        /* Needs to be in here for Safari polyfill so background images work as expected. */\n",
              "        background-size: auto;\n",
              "    }\n",
              "    .progress-bar-interrupted, .progress-bar-interrupted::-webkit-progress-bar {\n",
              "        background: #F44336;\n",
              "    }\n",
              "</style>\n"
            ],
            "text/plain": [
              "<IPython.core.display.HTML object>"
            ]
          },
          "metadata": {}
        },
        {
          "output_type": "display_data",
          "data": {
            "text/html": [
              ""
            ],
            "text/plain": [
              "<IPython.core.display.HTML object>"
            ]
          },
          "metadata": {}
        },
        {
          "output_type": "display_data",
          "data": {
            "text/html": [
              "\n",
              "<style>\n",
              "    /* Turns off some styling */\n",
              "    progress {\n",
              "        /* gets rid of default border in Firefox and Opera. */\n",
              "        border: none;\n",
              "        /* Needs to be in here for Safari polyfill so background images work as expected. */\n",
              "        background-size: auto;\n",
              "    }\n",
              "    .progress-bar-interrupted, .progress-bar-interrupted::-webkit-progress-bar {\n",
              "        background: #F44336;\n",
              "    }\n",
              "</style>\n"
            ],
            "text/plain": [
              "<IPython.core.display.HTML object>"
            ]
          },
          "metadata": {}
        },
        {
          "output_type": "display_data",
          "data": {
            "text/html": [
              ""
            ],
            "text/plain": [
              "<IPython.core.display.HTML object>"
            ]
          },
          "metadata": {}
        },
        {
          "output_type": "display_data",
          "data": {
            "text/html": [
              "\n",
              "<style>\n",
              "    /* Turns off some styling */\n",
              "    progress {\n",
              "        /* gets rid of default border in Firefox and Opera. */\n",
              "        border: none;\n",
              "        /* Needs to be in here for Safari polyfill so background images work as expected. */\n",
              "        background-size: auto;\n",
              "    }\n",
              "    .progress-bar-interrupted, .progress-bar-interrupted::-webkit-progress-bar {\n",
              "        background: #F44336;\n",
              "    }\n",
              "</style>\n"
            ],
            "text/plain": [
              "<IPython.core.display.HTML object>"
            ]
          },
          "metadata": {}
        },
        {
          "output_type": "display_data",
          "data": {
            "text/html": [
              ""
            ],
            "text/plain": [
              "<IPython.core.display.HTML object>"
            ]
          },
          "metadata": {}
        },
        {
          "output_type": "display_data",
          "data": {
            "text/html": [
              "\n",
              "<style>\n",
              "    /* Turns off some styling */\n",
              "    progress {\n",
              "        /* gets rid of default border in Firefox and Opera. */\n",
              "        border: none;\n",
              "        /* Needs to be in here for Safari polyfill so background images work as expected. */\n",
              "        background-size: auto;\n",
              "    }\n",
              "    .progress-bar-interrupted, .progress-bar-interrupted::-webkit-progress-bar {\n",
              "        background: #F44336;\n",
              "    }\n",
              "</style>\n"
            ],
            "text/plain": [
              "<IPython.core.display.HTML object>"
            ]
          },
          "metadata": {}
        },
        {
          "output_type": "display_data",
          "data": {
            "text/html": [
              ""
            ],
            "text/plain": [
              "<IPython.core.display.HTML object>"
            ]
          },
          "metadata": {}
        },
        {
          "output_type": "display_data",
          "data": {
            "text/html": [
              "\n",
              "<style>\n",
              "    /* Turns off some styling */\n",
              "    progress {\n",
              "        /* gets rid of default border in Firefox and Opera. */\n",
              "        border: none;\n",
              "        /* Needs to be in here for Safari polyfill so background images work as expected. */\n",
              "        background-size: auto;\n",
              "    }\n",
              "    .progress-bar-interrupted, .progress-bar-interrupted::-webkit-progress-bar {\n",
              "        background: #F44336;\n",
              "    }\n",
              "</style>\n"
            ],
            "text/plain": [
              "<IPython.core.display.HTML object>"
            ]
          },
          "metadata": {}
        },
        {
          "output_type": "display_data",
          "data": {
            "text/html": [
              ""
            ],
            "text/plain": [
              "<IPython.core.display.HTML object>"
            ]
          },
          "metadata": {}
        },
        {
          "output_type": "display_data",
          "data": {
            "text/html": [
              "\n",
              "<style>\n",
              "    /* Turns off some styling */\n",
              "    progress {\n",
              "        /* gets rid of default border in Firefox and Opera. */\n",
              "        border: none;\n",
              "        /* Needs to be in here for Safari polyfill so background images work as expected. */\n",
              "        background-size: auto;\n",
              "    }\n",
              "    .progress-bar-interrupted, .progress-bar-interrupted::-webkit-progress-bar {\n",
              "        background: #F44336;\n",
              "    }\n",
              "</style>\n"
            ],
            "text/plain": [
              "<IPython.core.display.HTML object>"
            ]
          },
          "metadata": {}
        },
        {
          "output_type": "display_data",
          "data": {
            "text/html": [
              ""
            ],
            "text/plain": [
              "<IPython.core.display.HTML object>"
            ]
          },
          "metadata": {}
        },
        {
          "output_type": "display_data",
          "data": {
            "text/html": [
              "\n",
              "<style>\n",
              "    /* Turns off some styling */\n",
              "    progress {\n",
              "        /* gets rid of default border in Firefox and Opera. */\n",
              "        border: none;\n",
              "        /* Needs to be in here for Safari polyfill so background images work as expected. */\n",
              "        background-size: auto;\n",
              "    }\n",
              "    .progress-bar-interrupted, .progress-bar-interrupted::-webkit-progress-bar {\n",
              "        background: #F44336;\n",
              "    }\n",
              "</style>\n"
            ],
            "text/plain": [
              "<IPython.core.display.HTML object>"
            ]
          },
          "metadata": {}
        },
        {
          "output_type": "display_data",
          "data": {
            "text/html": [
              ""
            ],
            "text/plain": [
              "<IPython.core.display.HTML object>"
            ]
          },
          "metadata": {}
        },
        {
          "output_type": "display_data",
          "data": {
            "text/html": [
              "\n",
              "<style>\n",
              "    /* Turns off some styling */\n",
              "    progress {\n",
              "        /* gets rid of default border in Firefox and Opera. */\n",
              "        border: none;\n",
              "        /* Needs to be in here for Safari polyfill so background images work as expected. */\n",
              "        background-size: auto;\n",
              "    }\n",
              "    .progress-bar-interrupted, .progress-bar-interrupted::-webkit-progress-bar {\n",
              "        background: #F44336;\n",
              "    }\n",
              "</style>\n"
            ],
            "text/plain": [
              "<IPython.core.display.HTML object>"
            ]
          },
          "metadata": {}
        },
        {
          "output_type": "display_data",
          "data": {
            "text/html": [
              ""
            ],
            "text/plain": [
              "<IPython.core.display.HTML object>"
            ]
          },
          "metadata": {}
        },
        {
          "output_type": "display_data",
          "data": {
            "text/html": [
              "\n",
              "<style>\n",
              "    /* Turns off some styling */\n",
              "    progress {\n",
              "        /* gets rid of default border in Firefox and Opera. */\n",
              "        border: none;\n",
              "        /* Needs to be in here for Safari polyfill so background images work as expected. */\n",
              "        background-size: auto;\n",
              "    }\n",
              "    .progress-bar-interrupted, .progress-bar-interrupted::-webkit-progress-bar {\n",
              "        background: #F44336;\n",
              "    }\n",
              "</style>\n"
            ],
            "text/plain": [
              "<IPython.core.display.HTML object>"
            ]
          },
          "metadata": {}
        },
        {
          "output_type": "display_data",
          "data": {
            "text/html": [
              ""
            ],
            "text/plain": [
              "<IPython.core.display.HTML object>"
            ]
          },
          "metadata": {}
        },
        {
          "output_type": "display_data",
          "data": {
            "text/html": [
              "\n",
              "<style>\n",
              "    /* Turns off some styling */\n",
              "    progress {\n",
              "        /* gets rid of default border in Firefox and Opera. */\n",
              "        border: none;\n",
              "        /* Needs to be in here for Safari polyfill so background images work as expected. */\n",
              "        background-size: auto;\n",
              "    }\n",
              "    .progress-bar-interrupted, .progress-bar-interrupted::-webkit-progress-bar {\n",
              "        background: #F44336;\n",
              "    }\n",
              "</style>\n"
            ],
            "text/plain": [
              "<IPython.core.display.HTML object>"
            ]
          },
          "metadata": {}
        },
        {
          "output_type": "display_data",
          "data": {
            "text/html": [
              ""
            ],
            "text/plain": [
              "<IPython.core.display.HTML object>"
            ]
          },
          "metadata": {}
        },
        {
          "output_type": "display_data",
          "data": {
            "text/html": [
              "\n",
              "<style>\n",
              "    /* Turns off some styling */\n",
              "    progress {\n",
              "        /* gets rid of default border in Firefox and Opera. */\n",
              "        border: none;\n",
              "        /* Needs to be in here for Safari polyfill so background images work as expected. */\n",
              "        background-size: auto;\n",
              "    }\n",
              "    .progress-bar-interrupted, .progress-bar-interrupted::-webkit-progress-bar {\n",
              "        background: #F44336;\n",
              "    }\n",
              "</style>\n"
            ],
            "text/plain": [
              "<IPython.core.display.HTML object>"
            ]
          },
          "metadata": {}
        },
        {
          "output_type": "display_data",
          "data": {
            "text/html": [
              ""
            ],
            "text/plain": [
              "<IPython.core.display.HTML object>"
            ]
          },
          "metadata": {}
        },
        {
          "output_type": "display_data",
          "data": {
            "text/html": [
              "\n",
              "<style>\n",
              "    /* Turns off some styling */\n",
              "    progress {\n",
              "        /* gets rid of default border in Firefox and Opera. */\n",
              "        border: none;\n",
              "        /* Needs to be in here for Safari polyfill so background images work as expected. */\n",
              "        background-size: auto;\n",
              "    }\n",
              "    .progress-bar-interrupted, .progress-bar-interrupted::-webkit-progress-bar {\n",
              "        background: #F44336;\n",
              "    }\n",
              "</style>\n"
            ],
            "text/plain": [
              "<IPython.core.display.HTML object>"
            ]
          },
          "metadata": {}
        },
        {
          "output_type": "display_data",
          "data": {
            "text/html": [
              ""
            ],
            "text/plain": [
              "<IPython.core.display.HTML object>"
            ]
          },
          "metadata": {}
        },
        {
          "output_type": "display_data",
          "data": {
            "text/html": [
              "\n",
              "<style>\n",
              "    /* Turns off some styling */\n",
              "    progress {\n",
              "        /* gets rid of default border in Firefox and Opera. */\n",
              "        border: none;\n",
              "        /* Needs to be in here for Safari polyfill so background images work as expected. */\n",
              "        background-size: auto;\n",
              "    }\n",
              "    .progress-bar-interrupted, .progress-bar-interrupted::-webkit-progress-bar {\n",
              "        background: #F44336;\n",
              "    }\n",
              "</style>\n"
            ],
            "text/plain": [
              "<IPython.core.display.HTML object>"
            ]
          },
          "metadata": {}
        },
        {
          "output_type": "display_data",
          "data": {
            "text/html": [
              ""
            ],
            "text/plain": [
              "<IPython.core.display.HTML object>"
            ]
          },
          "metadata": {}
        },
        {
          "output_type": "display_data",
          "data": {
            "text/html": [
              "\n",
              "<style>\n",
              "    /* Turns off some styling */\n",
              "    progress {\n",
              "        /* gets rid of default border in Firefox and Opera. */\n",
              "        border: none;\n",
              "        /* Needs to be in here for Safari polyfill so background images work as expected. */\n",
              "        background-size: auto;\n",
              "    }\n",
              "    .progress-bar-interrupted, .progress-bar-interrupted::-webkit-progress-bar {\n",
              "        background: #F44336;\n",
              "    }\n",
              "</style>\n"
            ],
            "text/plain": [
              "<IPython.core.display.HTML object>"
            ]
          },
          "metadata": {}
        },
        {
          "output_type": "display_data",
          "data": {
            "text/html": [
              ""
            ],
            "text/plain": [
              "<IPython.core.display.HTML object>"
            ]
          },
          "metadata": {}
        },
        {
          "output_type": "display_data",
          "data": {
            "text/html": [
              "\n",
              "<style>\n",
              "    /* Turns off some styling */\n",
              "    progress {\n",
              "        /* gets rid of default border in Firefox and Opera. */\n",
              "        border: none;\n",
              "        /* Needs to be in here for Safari polyfill so background images work as expected. */\n",
              "        background-size: auto;\n",
              "    }\n",
              "    .progress-bar-interrupted, .progress-bar-interrupted::-webkit-progress-bar {\n",
              "        background: #F44336;\n",
              "    }\n",
              "</style>\n"
            ],
            "text/plain": [
              "<IPython.core.display.HTML object>"
            ]
          },
          "metadata": {}
        },
        {
          "output_type": "display_data",
          "data": {
            "text/html": [
              ""
            ],
            "text/plain": [
              "<IPython.core.display.HTML object>"
            ]
          },
          "metadata": {}
        },
        {
          "output_type": "display_data",
          "data": {
            "text/html": [
              "\n",
              "<style>\n",
              "    /* Turns off some styling */\n",
              "    progress {\n",
              "        /* gets rid of default border in Firefox and Opera. */\n",
              "        border: none;\n",
              "        /* Needs to be in here for Safari polyfill so background images work as expected. */\n",
              "        background-size: auto;\n",
              "    }\n",
              "    .progress-bar-interrupted, .progress-bar-interrupted::-webkit-progress-bar {\n",
              "        background: #F44336;\n",
              "    }\n",
              "</style>\n"
            ],
            "text/plain": [
              "<IPython.core.display.HTML object>"
            ]
          },
          "metadata": {}
        },
        {
          "output_type": "display_data",
          "data": {
            "text/html": [
              ""
            ],
            "text/plain": [
              "<IPython.core.display.HTML object>"
            ]
          },
          "metadata": {}
        },
        {
          "output_type": "display_data",
          "data": {
            "text/html": [
              "\n",
              "<style>\n",
              "    /* Turns off some styling */\n",
              "    progress {\n",
              "        /* gets rid of default border in Firefox and Opera. */\n",
              "        border: none;\n",
              "        /* Needs to be in here for Safari polyfill so background images work as expected. */\n",
              "        background-size: auto;\n",
              "    }\n",
              "    .progress-bar-interrupted, .progress-bar-interrupted::-webkit-progress-bar {\n",
              "        background: #F44336;\n",
              "    }\n",
              "</style>\n"
            ],
            "text/plain": [
              "<IPython.core.display.HTML object>"
            ]
          },
          "metadata": {}
        },
        {
          "output_type": "display_data",
          "data": {
            "text/html": [
              ""
            ],
            "text/plain": [
              "<IPython.core.display.HTML object>"
            ]
          },
          "metadata": {}
        },
        {
          "output_type": "display_data",
          "data": {
            "text/html": [
              "\n",
              "<style>\n",
              "    /* Turns off some styling */\n",
              "    progress {\n",
              "        /* gets rid of default border in Firefox and Opera. */\n",
              "        border: none;\n",
              "        /* Needs to be in here for Safari polyfill so background images work as expected. */\n",
              "        background-size: auto;\n",
              "    }\n",
              "    .progress-bar-interrupted, .progress-bar-interrupted::-webkit-progress-bar {\n",
              "        background: #F44336;\n",
              "    }\n",
              "</style>\n"
            ],
            "text/plain": [
              "<IPython.core.display.HTML object>"
            ]
          },
          "metadata": {}
        },
        {
          "output_type": "display_data",
          "data": {
            "text/html": [
              ""
            ],
            "text/plain": [
              "<IPython.core.display.HTML object>"
            ]
          },
          "metadata": {}
        },
        {
          "output_type": "display_data",
          "data": {
            "text/html": [
              "\n",
              "<style>\n",
              "    /* Turns off some styling */\n",
              "    progress {\n",
              "        /* gets rid of default border in Firefox and Opera. */\n",
              "        border: none;\n",
              "        /* Needs to be in here for Safari polyfill so background images work as expected. */\n",
              "        background-size: auto;\n",
              "    }\n",
              "    .progress-bar-interrupted, .progress-bar-interrupted::-webkit-progress-bar {\n",
              "        background: #F44336;\n",
              "    }\n",
              "</style>\n"
            ],
            "text/plain": [
              "<IPython.core.display.HTML object>"
            ]
          },
          "metadata": {}
        },
        {
          "output_type": "display_data",
          "data": {
            "text/html": [
              ""
            ],
            "text/plain": [
              "<IPython.core.display.HTML object>"
            ]
          },
          "metadata": {}
        },
        {
          "output_type": "display_data",
          "data": {
            "text/html": [
              "\n",
              "<style>\n",
              "    /* Turns off some styling */\n",
              "    progress {\n",
              "        /* gets rid of default border in Firefox and Opera. */\n",
              "        border: none;\n",
              "        /* Needs to be in here for Safari polyfill so background images work as expected. */\n",
              "        background-size: auto;\n",
              "    }\n",
              "    .progress-bar-interrupted, .progress-bar-interrupted::-webkit-progress-bar {\n",
              "        background: #F44336;\n",
              "    }\n",
              "</style>\n"
            ],
            "text/plain": [
              "<IPython.core.display.HTML object>"
            ]
          },
          "metadata": {}
        },
        {
          "output_type": "display_data",
          "data": {
            "text/html": [
              ""
            ],
            "text/plain": [
              "<IPython.core.display.HTML object>"
            ]
          },
          "metadata": {}
        },
        {
          "output_type": "display_data",
          "data": {
            "text/html": [
              "\n",
              "<style>\n",
              "    /* Turns off some styling */\n",
              "    progress {\n",
              "        /* gets rid of default border in Firefox and Opera. */\n",
              "        border: none;\n",
              "        /* Needs to be in here for Safari polyfill so background images work as expected. */\n",
              "        background-size: auto;\n",
              "    }\n",
              "    .progress-bar-interrupted, .progress-bar-interrupted::-webkit-progress-bar {\n",
              "        background: #F44336;\n",
              "    }\n",
              "</style>\n"
            ],
            "text/plain": [
              "<IPython.core.display.HTML object>"
            ]
          },
          "metadata": {}
        },
        {
          "output_type": "display_data",
          "data": {
            "text/html": [
              ""
            ],
            "text/plain": [
              "<IPython.core.display.HTML object>"
            ]
          },
          "metadata": {}
        },
        {
          "output_type": "display_data",
          "data": {
            "text/html": [
              "\n",
              "<style>\n",
              "    /* Turns off some styling */\n",
              "    progress {\n",
              "        /* gets rid of default border in Firefox and Opera. */\n",
              "        border: none;\n",
              "        /* Needs to be in here for Safari polyfill so background images work as expected. */\n",
              "        background-size: auto;\n",
              "    }\n",
              "    .progress-bar-interrupted, .progress-bar-interrupted::-webkit-progress-bar {\n",
              "        background: #F44336;\n",
              "    }\n",
              "</style>\n"
            ],
            "text/plain": [
              "<IPython.core.display.HTML object>"
            ]
          },
          "metadata": {}
        },
        {
          "output_type": "display_data",
          "data": {
            "text/html": [
              ""
            ],
            "text/plain": [
              "<IPython.core.display.HTML object>"
            ]
          },
          "metadata": {}
        },
        {
          "output_type": "display_data",
          "data": {
            "text/html": [
              "\n",
              "<style>\n",
              "    /* Turns off some styling */\n",
              "    progress {\n",
              "        /* gets rid of default border in Firefox and Opera. */\n",
              "        border: none;\n",
              "        /* Needs to be in here for Safari polyfill so background images work as expected. */\n",
              "        background-size: auto;\n",
              "    }\n",
              "    .progress-bar-interrupted, .progress-bar-interrupted::-webkit-progress-bar {\n",
              "        background: #F44336;\n",
              "    }\n",
              "</style>\n"
            ],
            "text/plain": [
              "<IPython.core.display.HTML object>"
            ]
          },
          "metadata": {}
        },
        {
          "output_type": "display_data",
          "data": {
            "text/html": [
              ""
            ],
            "text/plain": [
              "<IPython.core.display.HTML object>"
            ]
          },
          "metadata": {}
        },
        {
          "output_type": "display_data",
          "data": {
            "text/html": [
              "\n",
              "<style>\n",
              "    /* Turns off some styling */\n",
              "    progress {\n",
              "        /* gets rid of default border in Firefox and Opera. */\n",
              "        border: none;\n",
              "        /* Needs to be in here for Safari polyfill so background images work as expected. */\n",
              "        background-size: auto;\n",
              "    }\n",
              "    .progress-bar-interrupted, .progress-bar-interrupted::-webkit-progress-bar {\n",
              "        background: #F44336;\n",
              "    }\n",
              "</style>\n"
            ],
            "text/plain": [
              "<IPython.core.display.HTML object>"
            ]
          },
          "metadata": {}
        },
        {
          "output_type": "display_data",
          "data": {
            "text/html": [
              ""
            ],
            "text/plain": [
              "<IPython.core.display.HTML object>"
            ]
          },
          "metadata": {}
        },
        {
          "output_type": "display_data",
          "data": {
            "text/html": [
              "\n",
              "<style>\n",
              "    /* Turns off some styling */\n",
              "    progress {\n",
              "        /* gets rid of default border in Firefox and Opera. */\n",
              "        border: none;\n",
              "        /* Needs to be in here for Safari polyfill so background images work as expected. */\n",
              "        background-size: auto;\n",
              "    }\n",
              "    .progress-bar-interrupted, .progress-bar-interrupted::-webkit-progress-bar {\n",
              "        background: #F44336;\n",
              "    }\n",
              "</style>\n"
            ],
            "text/plain": [
              "<IPython.core.display.HTML object>"
            ]
          },
          "metadata": {}
        },
        {
          "output_type": "display_data",
          "data": {
            "text/html": [
              ""
            ],
            "text/plain": [
              "<IPython.core.display.HTML object>"
            ]
          },
          "metadata": {}
        },
        {
          "output_type": "display_data",
          "data": {
            "text/html": [
              "\n",
              "<style>\n",
              "    /* Turns off some styling */\n",
              "    progress {\n",
              "        /* gets rid of default border in Firefox and Opera. */\n",
              "        border: none;\n",
              "        /* Needs to be in here for Safari polyfill so background images work as expected. */\n",
              "        background-size: auto;\n",
              "    }\n",
              "    .progress-bar-interrupted, .progress-bar-interrupted::-webkit-progress-bar {\n",
              "        background: #F44336;\n",
              "    }\n",
              "</style>\n"
            ],
            "text/plain": [
              "<IPython.core.display.HTML object>"
            ]
          },
          "metadata": {}
        },
        {
          "output_type": "display_data",
          "data": {
            "text/html": [
              ""
            ],
            "text/plain": [
              "<IPython.core.display.HTML object>"
            ]
          },
          "metadata": {}
        },
        {
          "output_type": "display_data",
          "data": {
            "text/html": [
              "\n",
              "<style>\n",
              "    /* Turns off some styling */\n",
              "    progress {\n",
              "        /* gets rid of default border in Firefox and Opera. */\n",
              "        border: none;\n",
              "        /* Needs to be in here for Safari polyfill so background images work as expected. */\n",
              "        background-size: auto;\n",
              "    }\n",
              "    .progress-bar-interrupted, .progress-bar-interrupted::-webkit-progress-bar {\n",
              "        background: #F44336;\n",
              "    }\n",
              "</style>\n"
            ],
            "text/plain": [
              "<IPython.core.display.HTML object>"
            ]
          },
          "metadata": {}
        },
        {
          "output_type": "display_data",
          "data": {
            "text/html": [
              ""
            ],
            "text/plain": [
              "<IPython.core.display.HTML object>"
            ]
          },
          "metadata": {}
        },
        {
          "output_type": "display_data",
          "data": {
            "text/html": [
              "\n",
              "<style>\n",
              "    /* Turns off some styling */\n",
              "    progress {\n",
              "        /* gets rid of default border in Firefox and Opera. */\n",
              "        border: none;\n",
              "        /* Needs to be in here for Safari polyfill so background images work as expected. */\n",
              "        background-size: auto;\n",
              "    }\n",
              "    .progress-bar-interrupted, .progress-bar-interrupted::-webkit-progress-bar {\n",
              "        background: #F44336;\n",
              "    }\n",
              "</style>\n"
            ],
            "text/plain": [
              "<IPython.core.display.HTML object>"
            ]
          },
          "metadata": {}
        },
        {
          "output_type": "display_data",
          "data": {
            "text/html": [
              ""
            ],
            "text/plain": [
              "<IPython.core.display.HTML object>"
            ]
          },
          "metadata": {}
        },
        {
          "output_type": "display_data",
          "data": {
            "text/html": [
              "\n",
              "<style>\n",
              "    /* Turns off some styling */\n",
              "    progress {\n",
              "        /* gets rid of default border in Firefox and Opera. */\n",
              "        border: none;\n",
              "        /* Needs to be in here for Safari polyfill so background images work as expected. */\n",
              "        background-size: auto;\n",
              "    }\n",
              "    .progress-bar-interrupted, .progress-bar-interrupted::-webkit-progress-bar {\n",
              "        background: #F44336;\n",
              "    }\n",
              "</style>\n"
            ],
            "text/plain": [
              "<IPython.core.display.HTML object>"
            ]
          },
          "metadata": {}
        },
        {
          "output_type": "display_data",
          "data": {
            "text/html": [
              ""
            ],
            "text/plain": [
              "<IPython.core.display.HTML object>"
            ]
          },
          "metadata": {}
        },
        {
          "output_type": "display_data",
          "data": {
            "text/html": [
              "\n",
              "<style>\n",
              "    /* Turns off some styling */\n",
              "    progress {\n",
              "        /* gets rid of default border in Firefox and Opera. */\n",
              "        border: none;\n",
              "        /* Needs to be in here for Safari polyfill so background images work as expected. */\n",
              "        background-size: auto;\n",
              "    }\n",
              "    .progress-bar-interrupted, .progress-bar-interrupted::-webkit-progress-bar {\n",
              "        background: #F44336;\n",
              "    }\n",
              "</style>\n"
            ],
            "text/plain": [
              "<IPython.core.display.HTML object>"
            ]
          },
          "metadata": {}
        },
        {
          "output_type": "display_data",
          "data": {
            "text/html": [
              ""
            ],
            "text/plain": [
              "<IPython.core.display.HTML object>"
            ]
          },
          "metadata": {}
        },
        {
          "output_type": "display_data",
          "data": {
            "text/html": [
              "\n",
              "<style>\n",
              "    /* Turns off some styling */\n",
              "    progress {\n",
              "        /* gets rid of default border in Firefox and Opera. */\n",
              "        border: none;\n",
              "        /* Needs to be in here for Safari polyfill so background images work as expected. */\n",
              "        background-size: auto;\n",
              "    }\n",
              "    .progress-bar-interrupted, .progress-bar-interrupted::-webkit-progress-bar {\n",
              "        background: #F44336;\n",
              "    }\n",
              "</style>\n"
            ],
            "text/plain": [
              "<IPython.core.display.HTML object>"
            ]
          },
          "metadata": {}
        },
        {
          "output_type": "display_data",
          "data": {
            "text/html": [
              ""
            ],
            "text/plain": [
              "<IPython.core.display.HTML object>"
            ]
          },
          "metadata": {}
        },
        {
          "output_type": "display_data",
          "data": {
            "text/html": [
              "\n",
              "<style>\n",
              "    /* Turns off some styling */\n",
              "    progress {\n",
              "        /* gets rid of default border in Firefox and Opera. */\n",
              "        border: none;\n",
              "        /* Needs to be in here for Safari polyfill so background images work as expected. */\n",
              "        background-size: auto;\n",
              "    }\n",
              "    .progress-bar-interrupted, .progress-bar-interrupted::-webkit-progress-bar {\n",
              "        background: #F44336;\n",
              "    }\n",
              "</style>\n"
            ],
            "text/plain": [
              "<IPython.core.display.HTML object>"
            ]
          },
          "metadata": {}
        },
        {
          "output_type": "display_data",
          "data": {
            "text/html": [
              ""
            ],
            "text/plain": [
              "<IPython.core.display.HTML object>"
            ]
          },
          "metadata": {}
        },
        {
          "output_type": "display_data",
          "data": {
            "text/html": [
              "\n",
              "<style>\n",
              "    /* Turns off some styling */\n",
              "    progress {\n",
              "        /* gets rid of default border in Firefox and Opera. */\n",
              "        border: none;\n",
              "        /* Needs to be in here for Safari polyfill so background images work as expected. */\n",
              "        background-size: auto;\n",
              "    }\n",
              "    .progress-bar-interrupted, .progress-bar-interrupted::-webkit-progress-bar {\n",
              "        background: #F44336;\n",
              "    }\n",
              "</style>\n"
            ],
            "text/plain": [
              "<IPython.core.display.HTML object>"
            ]
          },
          "metadata": {}
        },
        {
          "output_type": "display_data",
          "data": {
            "text/html": [
              ""
            ],
            "text/plain": [
              "<IPython.core.display.HTML object>"
            ]
          },
          "metadata": {}
        },
        {
          "output_type": "display_data",
          "data": {
            "text/html": [
              "\n",
              "<style>\n",
              "    /* Turns off some styling */\n",
              "    progress {\n",
              "        /* gets rid of default border in Firefox and Opera. */\n",
              "        border: none;\n",
              "        /* Needs to be in here for Safari polyfill so background images work as expected. */\n",
              "        background-size: auto;\n",
              "    }\n",
              "    .progress-bar-interrupted, .progress-bar-interrupted::-webkit-progress-bar {\n",
              "        background: #F44336;\n",
              "    }\n",
              "</style>\n"
            ],
            "text/plain": [
              "<IPython.core.display.HTML object>"
            ]
          },
          "metadata": {}
        },
        {
          "output_type": "display_data",
          "data": {
            "text/html": [
              ""
            ],
            "text/plain": [
              "<IPython.core.display.HTML object>"
            ]
          },
          "metadata": {}
        },
        {
          "output_type": "display_data",
          "data": {
            "text/html": [
              "\n",
              "<style>\n",
              "    /* Turns off some styling */\n",
              "    progress {\n",
              "        /* gets rid of default border in Firefox and Opera. */\n",
              "        border: none;\n",
              "        /* Needs to be in here for Safari polyfill so background images work as expected. */\n",
              "        background-size: auto;\n",
              "    }\n",
              "    .progress-bar-interrupted, .progress-bar-interrupted::-webkit-progress-bar {\n",
              "        background: #F44336;\n",
              "    }\n",
              "</style>\n"
            ],
            "text/plain": [
              "<IPython.core.display.HTML object>"
            ]
          },
          "metadata": {}
        },
        {
          "output_type": "display_data",
          "data": {
            "text/html": [
              ""
            ],
            "text/plain": [
              "<IPython.core.display.HTML object>"
            ]
          },
          "metadata": {}
        },
        {
          "output_type": "display_data",
          "data": {
            "text/html": [
              "\n",
              "<style>\n",
              "    /* Turns off some styling */\n",
              "    progress {\n",
              "        /* gets rid of default border in Firefox and Opera. */\n",
              "        border: none;\n",
              "        /* Needs to be in here for Safari polyfill so background images work as expected. */\n",
              "        background-size: auto;\n",
              "    }\n",
              "    .progress-bar-interrupted, .progress-bar-interrupted::-webkit-progress-bar {\n",
              "        background: #F44336;\n",
              "    }\n",
              "</style>\n"
            ],
            "text/plain": [
              "<IPython.core.display.HTML object>"
            ]
          },
          "metadata": {}
        },
        {
          "output_type": "display_data",
          "data": {
            "text/html": [
              ""
            ],
            "text/plain": [
              "<IPython.core.display.HTML object>"
            ]
          },
          "metadata": {}
        },
        {
          "output_type": "display_data",
          "data": {
            "text/html": [
              "\n",
              "<style>\n",
              "    /* Turns off some styling */\n",
              "    progress {\n",
              "        /* gets rid of default border in Firefox and Opera. */\n",
              "        border: none;\n",
              "        /* Needs to be in here for Safari polyfill so background images work as expected. */\n",
              "        background-size: auto;\n",
              "    }\n",
              "    .progress-bar-interrupted, .progress-bar-interrupted::-webkit-progress-bar {\n",
              "        background: #F44336;\n",
              "    }\n",
              "</style>\n"
            ],
            "text/plain": [
              "<IPython.core.display.HTML object>"
            ]
          },
          "metadata": {}
        },
        {
          "output_type": "display_data",
          "data": {
            "text/html": [
              ""
            ],
            "text/plain": [
              "<IPython.core.display.HTML object>"
            ]
          },
          "metadata": {}
        },
        {
          "output_type": "display_data",
          "data": {
            "text/html": [
              "\n",
              "<style>\n",
              "    /* Turns off some styling */\n",
              "    progress {\n",
              "        /* gets rid of default border in Firefox and Opera. */\n",
              "        border: none;\n",
              "        /* Needs to be in here for Safari polyfill so background images work as expected. */\n",
              "        background-size: auto;\n",
              "    }\n",
              "    .progress-bar-interrupted, .progress-bar-interrupted::-webkit-progress-bar {\n",
              "        background: #F44336;\n",
              "    }\n",
              "</style>\n"
            ],
            "text/plain": [
              "<IPython.core.display.HTML object>"
            ]
          },
          "metadata": {}
        },
        {
          "output_type": "display_data",
          "data": {
            "text/html": [
              ""
            ],
            "text/plain": [
              "<IPython.core.display.HTML object>"
            ]
          },
          "metadata": {}
        },
        {
          "output_type": "display_data",
          "data": {
            "text/html": [
              "\n",
              "<style>\n",
              "    /* Turns off some styling */\n",
              "    progress {\n",
              "        /* gets rid of default border in Firefox and Opera. */\n",
              "        border: none;\n",
              "        /* Needs to be in here for Safari polyfill so background images work as expected. */\n",
              "        background-size: auto;\n",
              "    }\n",
              "    .progress-bar-interrupted, .progress-bar-interrupted::-webkit-progress-bar {\n",
              "        background: #F44336;\n",
              "    }\n",
              "</style>\n"
            ],
            "text/plain": [
              "<IPython.core.display.HTML object>"
            ]
          },
          "metadata": {}
        },
        {
          "output_type": "display_data",
          "data": {
            "text/html": [
              ""
            ],
            "text/plain": [
              "<IPython.core.display.HTML object>"
            ]
          },
          "metadata": {}
        },
        {
          "output_type": "display_data",
          "data": {
            "text/html": [
              "\n",
              "<style>\n",
              "    /* Turns off some styling */\n",
              "    progress {\n",
              "        /* gets rid of default border in Firefox and Opera. */\n",
              "        border: none;\n",
              "        /* Needs to be in here for Safari polyfill so background images work as expected. */\n",
              "        background-size: auto;\n",
              "    }\n",
              "    .progress-bar-interrupted, .progress-bar-interrupted::-webkit-progress-bar {\n",
              "        background: #F44336;\n",
              "    }\n",
              "</style>\n"
            ],
            "text/plain": [
              "<IPython.core.display.HTML object>"
            ]
          },
          "metadata": {}
        },
        {
          "output_type": "display_data",
          "data": {
            "text/html": [
              ""
            ],
            "text/plain": [
              "<IPython.core.display.HTML object>"
            ]
          },
          "metadata": {}
        },
        {
          "output_type": "display_data",
          "data": {
            "text/html": [
              "\n",
              "<style>\n",
              "    /* Turns off some styling */\n",
              "    progress {\n",
              "        /* gets rid of default border in Firefox and Opera. */\n",
              "        border: none;\n",
              "        /* Needs to be in here for Safari polyfill so background images work as expected. */\n",
              "        background-size: auto;\n",
              "    }\n",
              "    .progress-bar-interrupted, .progress-bar-interrupted::-webkit-progress-bar {\n",
              "        background: #F44336;\n",
              "    }\n",
              "</style>\n"
            ],
            "text/plain": [
              "<IPython.core.display.HTML object>"
            ]
          },
          "metadata": {}
        },
        {
          "output_type": "display_data",
          "data": {
            "text/html": [
              ""
            ],
            "text/plain": [
              "<IPython.core.display.HTML object>"
            ]
          },
          "metadata": {}
        },
        {
          "output_type": "display_data",
          "data": {
            "text/html": [
              "\n",
              "<style>\n",
              "    /* Turns off some styling */\n",
              "    progress {\n",
              "        /* gets rid of default border in Firefox and Opera. */\n",
              "        border: none;\n",
              "        /* Needs to be in here for Safari polyfill so background images work as expected. */\n",
              "        background-size: auto;\n",
              "    }\n",
              "    .progress-bar-interrupted, .progress-bar-interrupted::-webkit-progress-bar {\n",
              "        background: #F44336;\n",
              "    }\n",
              "</style>\n"
            ],
            "text/plain": [
              "<IPython.core.display.HTML object>"
            ]
          },
          "metadata": {}
        },
        {
          "output_type": "display_data",
          "data": {
            "text/html": [
              ""
            ],
            "text/plain": [
              "<IPython.core.display.HTML object>"
            ]
          },
          "metadata": {}
        },
        {
          "output_type": "display_data",
          "data": {
            "text/html": [
              "\n",
              "<style>\n",
              "    /* Turns off some styling */\n",
              "    progress {\n",
              "        /* gets rid of default border in Firefox and Opera. */\n",
              "        border: none;\n",
              "        /* Needs to be in here for Safari polyfill so background images work as expected. */\n",
              "        background-size: auto;\n",
              "    }\n",
              "    .progress-bar-interrupted, .progress-bar-interrupted::-webkit-progress-bar {\n",
              "        background: #F44336;\n",
              "    }\n",
              "</style>\n"
            ],
            "text/plain": [
              "<IPython.core.display.HTML object>"
            ]
          },
          "metadata": {}
        },
        {
          "output_type": "display_data",
          "data": {
            "text/html": [
              ""
            ],
            "text/plain": [
              "<IPython.core.display.HTML object>"
            ]
          },
          "metadata": {}
        },
        {
          "output_type": "display_data",
          "data": {
            "text/html": [
              "\n",
              "<style>\n",
              "    /* Turns off some styling */\n",
              "    progress {\n",
              "        /* gets rid of default border in Firefox and Opera. */\n",
              "        border: none;\n",
              "        /* Needs to be in here for Safari polyfill so background images work as expected. */\n",
              "        background-size: auto;\n",
              "    }\n",
              "    .progress-bar-interrupted, .progress-bar-interrupted::-webkit-progress-bar {\n",
              "        background: #F44336;\n",
              "    }\n",
              "</style>\n"
            ],
            "text/plain": [
              "<IPython.core.display.HTML object>"
            ]
          },
          "metadata": {}
        },
        {
          "output_type": "display_data",
          "data": {
            "text/html": [
              ""
            ],
            "text/plain": [
              "<IPython.core.display.HTML object>"
            ]
          },
          "metadata": {}
        },
        {
          "output_type": "display_data",
          "data": {
            "text/html": [
              "\n",
              "<style>\n",
              "    /* Turns off some styling */\n",
              "    progress {\n",
              "        /* gets rid of default border in Firefox and Opera. */\n",
              "        border: none;\n",
              "        /* Needs to be in here for Safari polyfill so background images work as expected. */\n",
              "        background-size: auto;\n",
              "    }\n",
              "    .progress-bar-interrupted, .progress-bar-interrupted::-webkit-progress-bar {\n",
              "        background: #F44336;\n",
              "    }\n",
              "</style>\n"
            ],
            "text/plain": [
              "<IPython.core.display.HTML object>"
            ]
          },
          "metadata": {}
        },
        {
          "output_type": "display_data",
          "data": {
            "text/html": [
              ""
            ],
            "text/plain": [
              "<IPython.core.display.HTML object>"
            ]
          },
          "metadata": {}
        },
        {
          "output_type": "display_data",
          "data": {
            "text/html": [
              "\n",
              "<style>\n",
              "    /* Turns off some styling */\n",
              "    progress {\n",
              "        /* gets rid of default border in Firefox and Opera. */\n",
              "        border: none;\n",
              "        /* Needs to be in here for Safari polyfill so background images work as expected. */\n",
              "        background-size: auto;\n",
              "    }\n",
              "    .progress-bar-interrupted, .progress-bar-interrupted::-webkit-progress-bar {\n",
              "        background: #F44336;\n",
              "    }\n",
              "</style>\n"
            ],
            "text/plain": [
              "<IPython.core.display.HTML object>"
            ]
          },
          "metadata": {}
        },
        {
          "output_type": "display_data",
          "data": {
            "text/html": [
              ""
            ],
            "text/plain": [
              "<IPython.core.display.HTML object>"
            ]
          },
          "metadata": {}
        },
        {
          "output_type": "display_data",
          "data": {
            "text/html": [
              "\n",
              "<style>\n",
              "    /* Turns off some styling */\n",
              "    progress {\n",
              "        /* gets rid of default border in Firefox and Opera. */\n",
              "        border: none;\n",
              "        /* Needs to be in here for Safari polyfill so background images work as expected. */\n",
              "        background-size: auto;\n",
              "    }\n",
              "    .progress-bar-interrupted, .progress-bar-interrupted::-webkit-progress-bar {\n",
              "        background: #F44336;\n",
              "    }\n",
              "</style>\n"
            ],
            "text/plain": [
              "<IPython.core.display.HTML object>"
            ]
          },
          "metadata": {}
        },
        {
          "output_type": "display_data",
          "data": {
            "text/html": [
              ""
            ],
            "text/plain": [
              "<IPython.core.display.HTML object>"
            ]
          },
          "metadata": {}
        },
        {
          "output_type": "display_data",
          "data": {
            "text/html": [
              "\n",
              "<style>\n",
              "    /* Turns off some styling */\n",
              "    progress {\n",
              "        /* gets rid of default border in Firefox and Opera. */\n",
              "        border: none;\n",
              "        /* Needs to be in here for Safari polyfill so background images work as expected. */\n",
              "        background-size: auto;\n",
              "    }\n",
              "    .progress-bar-interrupted, .progress-bar-interrupted::-webkit-progress-bar {\n",
              "        background: #F44336;\n",
              "    }\n",
              "</style>\n"
            ],
            "text/plain": [
              "<IPython.core.display.HTML object>"
            ]
          },
          "metadata": {}
        },
        {
          "output_type": "display_data",
          "data": {
            "text/html": [
              ""
            ],
            "text/plain": [
              "<IPython.core.display.HTML object>"
            ]
          },
          "metadata": {}
        },
        {
          "output_type": "display_data",
          "data": {
            "text/html": [
              "\n",
              "<style>\n",
              "    /* Turns off some styling */\n",
              "    progress {\n",
              "        /* gets rid of default border in Firefox and Opera. */\n",
              "        border: none;\n",
              "        /* Needs to be in here for Safari polyfill so background images work as expected. */\n",
              "        background-size: auto;\n",
              "    }\n",
              "    .progress-bar-interrupted, .progress-bar-interrupted::-webkit-progress-bar {\n",
              "        background: #F44336;\n",
              "    }\n",
              "</style>\n"
            ],
            "text/plain": [
              "<IPython.core.display.HTML object>"
            ]
          },
          "metadata": {}
        },
        {
          "output_type": "display_data",
          "data": {
            "text/html": [
              ""
            ],
            "text/plain": [
              "<IPython.core.display.HTML object>"
            ]
          },
          "metadata": {}
        },
        {
          "output_type": "display_data",
          "data": {
            "text/html": [
              "\n",
              "<style>\n",
              "    /* Turns off some styling */\n",
              "    progress {\n",
              "        /* gets rid of default border in Firefox and Opera. */\n",
              "        border: none;\n",
              "        /* Needs to be in here for Safari polyfill so background images work as expected. */\n",
              "        background-size: auto;\n",
              "    }\n",
              "    .progress-bar-interrupted, .progress-bar-interrupted::-webkit-progress-bar {\n",
              "        background: #F44336;\n",
              "    }\n",
              "</style>\n"
            ],
            "text/plain": [
              "<IPython.core.display.HTML object>"
            ]
          },
          "metadata": {}
        },
        {
          "output_type": "display_data",
          "data": {
            "text/html": [
              ""
            ],
            "text/plain": [
              "<IPython.core.display.HTML object>"
            ]
          },
          "metadata": {}
        },
        {
          "output_type": "display_data",
          "data": {
            "text/html": [
              "\n",
              "<style>\n",
              "    /* Turns off some styling */\n",
              "    progress {\n",
              "        /* gets rid of default border in Firefox and Opera. */\n",
              "        border: none;\n",
              "        /* Needs to be in here for Safari polyfill so background images work as expected. */\n",
              "        background-size: auto;\n",
              "    }\n",
              "    .progress-bar-interrupted, .progress-bar-interrupted::-webkit-progress-bar {\n",
              "        background: #F44336;\n",
              "    }\n",
              "</style>\n"
            ],
            "text/plain": [
              "<IPython.core.display.HTML object>"
            ]
          },
          "metadata": {}
        },
        {
          "output_type": "display_data",
          "data": {
            "text/html": [
              ""
            ],
            "text/plain": [
              "<IPython.core.display.HTML object>"
            ]
          },
          "metadata": {}
        },
        {
          "output_type": "display_data",
          "data": {
            "text/html": [
              "\n",
              "<style>\n",
              "    /* Turns off some styling */\n",
              "    progress {\n",
              "        /* gets rid of default border in Firefox and Opera. */\n",
              "        border: none;\n",
              "        /* Needs to be in here for Safari polyfill so background images work as expected. */\n",
              "        background-size: auto;\n",
              "    }\n",
              "    .progress-bar-interrupted, .progress-bar-interrupted::-webkit-progress-bar {\n",
              "        background: #F44336;\n",
              "    }\n",
              "</style>\n"
            ],
            "text/plain": [
              "<IPython.core.display.HTML object>"
            ]
          },
          "metadata": {}
        },
        {
          "output_type": "display_data",
          "data": {
            "text/html": [
              ""
            ],
            "text/plain": [
              "<IPython.core.display.HTML object>"
            ]
          },
          "metadata": {}
        },
        {
          "output_type": "display_data",
          "data": {
            "text/html": [
              "\n",
              "<style>\n",
              "    /* Turns off some styling */\n",
              "    progress {\n",
              "        /* gets rid of default border in Firefox and Opera. */\n",
              "        border: none;\n",
              "        /* Needs to be in here for Safari polyfill so background images work as expected. */\n",
              "        background-size: auto;\n",
              "    }\n",
              "    .progress-bar-interrupted, .progress-bar-interrupted::-webkit-progress-bar {\n",
              "        background: #F44336;\n",
              "    }\n",
              "</style>\n"
            ],
            "text/plain": [
              "<IPython.core.display.HTML object>"
            ]
          },
          "metadata": {}
        },
        {
          "output_type": "display_data",
          "data": {
            "text/html": [
              ""
            ],
            "text/plain": [
              "<IPython.core.display.HTML object>"
            ]
          },
          "metadata": {}
        },
        {
          "output_type": "display_data",
          "data": {
            "text/html": [
              "\n",
              "<style>\n",
              "    /* Turns off some styling */\n",
              "    progress {\n",
              "        /* gets rid of default border in Firefox and Opera. */\n",
              "        border: none;\n",
              "        /* Needs to be in here for Safari polyfill so background images work as expected. */\n",
              "        background-size: auto;\n",
              "    }\n",
              "    .progress-bar-interrupted, .progress-bar-interrupted::-webkit-progress-bar {\n",
              "        background: #F44336;\n",
              "    }\n",
              "</style>\n"
            ],
            "text/plain": [
              "<IPython.core.display.HTML object>"
            ]
          },
          "metadata": {}
        },
        {
          "output_type": "display_data",
          "data": {
            "text/html": [
              ""
            ],
            "text/plain": [
              "<IPython.core.display.HTML object>"
            ]
          },
          "metadata": {}
        },
        {
          "output_type": "display_data",
          "data": {
            "text/html": [
              "\n",
              "<style>\n",
              "    /* Turns off some styling */\n",
              "    progress {\n",
              "        /* gets rid of default border in Firefox and Opera. */\n",
              "        border: none;\n",
              "        /* Needs to be in here for Safari polyfill so background images work as expected. */\n",
              "        background-size: auto;\n",
              "    }\n",
              "    .progress-bar-interrupted, .progress-bar-interrupted::-webkit-progress-bar {\n",
              "        background: #F44336;\n",
              "    }\n",
              "</style>\n"
            ],
            "text/plain": [
              "<IPython.core.display.HTML object>"
            ]
          },
          "metadata": {}
        },
        {
          "output_type": "display_data",
          "data": {
            "text/html": [
              ""
            ],
            "text/plain": [
              "<IPython.core.display.HTML object>"
            ]
          },
          "metadata": {}
        },
        {
          "output_type": "stream",
          "name": "stdout",
          "text": [
            "Pearsons correlation: 0.876\n",
            "mse: 253.513\n"
          ]
        }
      ]
    },
    {
      "cell_type": "markdown",
      "source": [
        "The model predicts the data more or less correct, high values get most often high values and same for low values. There are only a few values which are far away from their actual value."
      ],
      "metadata": {
        "id": "WUNunXUpon73"
      }
    },
    {
      "cell_type": "code",
      "source": [
        "# plot target vs predicted temp.\n",
        "plt.plot(p_sort,t_sort)"
      ],
      "metadata": {
        "colab": {
          "base_uri": "https://localhost:8080/",
          "height": 283
        },
        "id": "xUHklNRWE8Wm",
        "outputId": "4d01d619-55a6-432d-cbd9-ea555141416c"
      },
      "execution_count": null,
      "outputs": [
        {
          "output_type": "execute_result",
          "data": {
            "text/plain": [
              "[<matplotlib.lines.Line2D at 0x7fc563c4f790>]"
            ]
          },
          "metadata": {},
          "execution_count": 13
        },
        {
          "output_type": "display_data",
          "data": {
            "image/png": "[encoded data removed]",
            "text/plain": [
              "<Figure size 432x288 with 1 Axes>"
            ]
          },
          "metadata": {
            "needs_background": "light"
          }
        }
      ]
    },
    {
      "cell_type": "code",
      "source": [
        "eval_df"
      ],
      "metadata": {
        "colab": {
          "base_uri": "https://localhost:8080/",
          "height": 424
        },
        "id": "qb1iC8tRJr4k",
        "outputId": "c681e4ad-86d5-4e12-dcf3-5c1d6369e31c"
      },
      "execution_count": null,
      "outputs": [
        {
          "output_type": "execute_result",
          "data": {
            "text/html": [
              "\n",
              "  <div id=\"df-73d6ae18-1ea7-4302-b04c-e5c0e0401f90\">\n",
              "    <div class=\"colab-df-container\">\n",
              "      <div>\n",
              "<style scoped>\n",
              "    .dataframe tbody tr th:only-of-type {\n",
              "        vertical-align: middle;\n",
              "    }\n",
              "\n",
              "    .dataframe tbody tr th {\n",
              "        vertical-align: top;\n",
              "    }\n",
              "\n",
              "    .dataframe thead th {\n",
              "        text-align: right;\n",
              "    }\n",
              "</style>\n",
              "<table border=\"1\" class=\"dataframe\">\n",
              "  <thead>\n",
              "    <tr style=\"text-align: right;\">\n",
              "      <th></th>\n",
              "      <th>critical_temp</th>\n",
              "      <th>critical_temp_pred</th>\n",
              "    </tr>\n",
              "  </thead>\n",
              "  <tbody>\n",
              "    <tr>\n",
              "      <th>0</th>\n",
              "      <td>9.40</td>\n",
              "      <td>17.657869</td>\n",
              "    </tr>\n",
              "    <tr>\n",
              "      <th>1</th>\n",
              "      <td>7.44</td>\n",
              "      <td>7.829316</td>\n",
              "    </tr>\n",
              "    <tr>\n",
              "      <th>2</th>\n",
              "      <td>10.30</td>\n",
              "      <td>10.018368</td>\n",
              "    </tr>\n",
              "    <tr>\n",
              "      <th>3</th>\n",
              "      <td>84.00</td>\n",
              "      <td>92.263596</td>\n",
              "    </tr>\n",
              "    <tr>\n",
              "      <th>4</th>\n",
              "      <td>1.60</td>\n",
              "      <td>21.225756</td>\n",
              "    </tr>\n",
              "    <tr>\n",
              "      <th>...</th>\n",
              "      <td>...</td>\n",
              "      <td>...</td>\n",
              "    </tr>\n",
              "    <tr>\n",
              "      <th>95</th>\n",
              "      <td>25.00</td>\n",
              "      <td>33.867752</td>\n",
              "    </tr>\n",
              "    <tr>\n",
              "      <th>96</th>\n",
              "      <td>2.10</td>\n",
              "      <td>14.618575</td>\n",
              "    </tr>\n",
              "    <tr>\n",
              "      <th>97</th>\n",
              "      <td>94.50</td>\n",
              "      <td>77.014816</td>\n",
              "    </tr>\n",
              "    <tr>\n",
              "      <th>98</th>\n",
              "      <td>17.50</td>\n",
              "      <td>28.235905</td>\n",
              "    </tr>\n",
              "    <tr>\n",
              "      <th>99</th>\n",
              "      <td>71.80</td>\n",
              "      <td>44.559036</td>\n",
              "    </tr>\n",
              "  </tbody>\n",
              "</table>\n",
              "<p>100 rows × 2 columns</p>\n",
              "</div>\n",
              "      <button class=\"colab-df-convert\" onclick=\"convertToInteractive('df-73d6ae18-1ea7-4302-b04c-e5c0e0401f90')\"\n",
              "              title=\"Convert this dataframe to an interactive table.\"\n",
              "              style=\"display:none;\">\n",
              "        \n",
              "  <svg xmlns=\"http://www.w3.org/2000/svg\" height=\"24px\"viewBox=\"0 0 24 24\"\n",
              "       width=\"24px\">\n",
              "    <path d=\"M0 0h24v24H0V0z\" fill=\"none\"/>\n",
              "    <path d=\"M18.56 5.44l.94 2.06.94-2.06 2.06-.94-2.06-.94-.94-2.06-.94 2.06-2.06.94zm-11 1L8.5 8.5l.94-2.06 2.06-.94-2.06-.94L8.5 2.5l-.94 2.06-2.06.94zm10 10l.94 2.06.94-2.06 2.06-.94-2.06-.94-.94-2.06-.94 2.06-2.06.94z\"/><path d=\"M17.41 7.96l-1.37-1.37c-.4-.4-.92-.59-1.43-.59-.52 0-1.04.2-1.43.59L10.3 9.45l-7.72 7.72c-.78.78-.78 2.05 0 2.83L4 21.41c.39.39.9.59 1.41.59.51 0 1.02-.2 1.41-.59l7.78-7.78 2.81-2.81c.8-.78.8-2.07 0-2.86zM5.41 20L4 18.59l7.72-7.72 1.47 1.35L5.41 20z\"/>\n",
              "  </svg>\n",
              "      </button>\n",
              "      \n",
              "  <style>\n",
              "    .colab-df-container {\n",
              "      display:flex;\n",
              "      flex-wrap:wrap;\n",
              "      gap: 12px;\n",
              "    }\n",
              "\n",
              "    .colab-df-convert {\n",
              "      background-color: #E8F0FE;\n",
              "      border: none;\n",
              "      border-radius: 50%;\n",
              "      cursor: pointer;\n",
              "      display: none;\n",
              "      fill: #1967D2;\n",
              "      height: 32px;\n",
              "      padding: 0 0 0 0;\n",
              "      width: 32px;\n",
              "    }\n",
              "\n",
              "    .colab-df-convert:hover {\n",
              "      background-color: #E2EBFA;\n",
              "      box-shadow: 0px 1px 2px rgba(60, 64, 67, 0.3), 0px 1px 3px 1px rgba(60, 64, 67, 0.15);\n",
              "      fill: #174EA6;\n",
              "    }\n",
              "\n",
              "    [theme=dark] .colab-df-convert {\n",
              "      background-color: #3B4455;\n",
              "      fill: #D2E3FC;\n",
              "    }\n",
              "\n",
              "    [theme=dark] .colab-df-convert:hover {\n",
              "      background-color: #434B5C;\n",
              "      box-shadow: 0px 1px 3px 1px rgba(0, 0, 0, 0.15);\n",
              "      filter: drop-shadow(0px 1px 2px rgba(0, 0, 0, 0.3));\n",
              "      fill: #FFFFFF;\n",
              "    }\n",
              "  </style>\n",
              "\n",
              "      <script>\n",
              "        const buttonEl =\n",
              "          document.querySelector('#df-73d6ae18-1ea7-4302-b04c-e5c0e0401f90 button.colab-df-convert');\n",
              "        buttonEl.style.display =\n",
              "          google.colab.kernel.accessAllowed ? 'block' : 'none';\n",
              "\n",
              "        async function convertToInteractive(key) {\n",
              "          const element = document.querySelector('#df-73d6ae18-1ea7-4302-b04c-e5c0e0401f90');\n",
              "          const dataTable =\n",
              "            await google.colab.kernel.invokeFunction('convertToInteractive',\n",
              "                                                     [key], {});\n",
              "          if (!dataTable) return;\n",
              "\n",
              "          const docLinkHtml = 'Like what you see? Visit the ' +\n",
              "            '<a target=\"_blank\" href=https://colab.research.google.com/notebooks/data_table.ipynb>data table notebook</a>'\n",
              "            + ' to learn more about interactive tables.';\n",
              "          element.innerHTML = '';\n",
              "          dataTable['output_type'] = 'display_data';\n",
              "          await google.colab.output.renderOutput(dataTable, element);\n",
              "          const docLink = document.createElement('div');\n",
              "          docLink.innerHTML = docLinkHtml;\n",
              "          element.appendChild(docLink);\n",
              "        }\n",
              "      </script>\n",
              "    </div>\n",
              "  </div>\n",
              "  "
            ],
            "text/plain": [
              "    critical_temp  critical_temp_pred\n",
              "0            9.40           17.657869\n",
              "1            7.44            7.829316\n",
              "2           10.30           10.018368\n",
              "3           84.00           92.263596\n",
              "4            1.60           21.225756\n",
              "..            ...                 ...\n",
              "95          25.00           33.867752\n",
              "96           2.10           14.618575\n",
              "97          94.50           77.014816\n",
              "98          17.50           28.235905\n",
              "99          71.80           44.559036\n",
              "\n",
              "[100 rows x 2 columns]"
            ]
          },
          "metadata": {},
          "execution_count": 14
        }
      ]
    },
    {
      "cell_type": "code",
      "source": [
        ""
      ],
      "metadata": {
        "id": "tHBG7UrSJs6I"
      },
      "execution_count": null,
      "outputs": []
    },
    {
      "cell_type": "markdown",
      "source": [
        "# II. Dataset with just number of elements"
      ],
      "metadata": {
        "id": "aLZ-kDta647S"
      }
    },
    {
      "cell_type": "markdown",
      "source": [
        "Later when we want to predict the temp. for new elements we maybe don't have all the information we have right now, but just how many elements we use from each element and therefore we repeat the same task, but with a different underlying data frame."
      ],
      "metadata": {
        "id": "SCO2UYWzo_K3"
      }
    },
    {
      "cell_type": "markdown",
      "source": [
        "## Preprocessing "
      ],
      "metadata": {
        "id": "Dp9LGCiSxXlg"
      }
    },
    {
      "cell_type": "code",
      "source": [
        "train_a, test_a = train_test_split(df_atoms, test_size=0.06)\n",
        "procs_a = [FillMissing]\n",
        "cont_names_a = train_a.columns[:-2].tolist()\n",
        "splits_a = RandomSplitter(valid_pct=0.04)(range_of(train_a))\n",
        "\n",
        "dls_a = TabularDataLoaders.from_df(train_a, procs=procs_a, path='.', cat_names=[], cont_names=cont_names_a, y_names=\"critical_temp\", splits=splits_a, bs=64)\n"
      ],
      "metadata": {
        "id": "oV6u1_Kaci6M"
      },
      "execution_count": null,
      "outputs": []
    },
    {
      "cell_type": "markdown",
      "source": [
        "## Training \n"
      ],
      "metadata": {
        "id": "o68w8HJI-MvT"
      }
    },
    {
      "cell_type": "code",
      "source": [
        "load = False\n",
        "if load:\n",
        "  learn_a = load_learner('drive/MyDrive/developer/superconduct/models/model.pkl')\n",
        "else:\n",
        "  #Initializing the network\n",
        "  learn_a = tabular_learner(dls_a, layers=[86, 172, 86], metrics= [rmse])\n",
        "  learn_a.lr_find(start_lr = 1e-06,end_lr = 1e+05, num_it = 100)\n",
        "  #Fitting data and training the network\n",
        "  learn_a.fit_one_cycle(20)\n",
        "  # export model\n",
        "  learn_a.export('drive/MyDrive/developer/superconduct/models/model.pkl')\n",
        "  #Display Predictions On Training Data\n",
        "  learn_a.show_results(ds_type=\"Train\")\n",
        "  #Display Predictions On Validation Data\n",
        "  learn_a.show_results(ds_type=\"Valid\")"
      ],
      "metadata": {
        "id": "PM78LUPJKNKE"
      },
      "execution_count": null,
      "outputs": []
    },
    {
      "cell_type": "code",
      "source": [
        ""
      ],
      "metadata": {
        "id": "JDkIWSw2-mkT"
      },
      "execution_count": null,
      "outputs": []
    },
    {
      "cell_type": "code",
      "source": [
        ""
      ],
      "metadata": {
        "id": "8pLHD6UlUTO2"
      },
      "execution_count": null,
      "outputs": []
    },
    {
      "cell_type": "markdown",
      "source": [
        "## Evaluation "
      ],
      "metadata": {
        "id": "5qKJknab-9s6"
      }
    },
    {
      "cell_type": "code",
      "source": [
        "# same eval as before\n",
        "\"\"\"\n",
        "targets_a  = []\n",
        "predictions_a = []\n",
        "#test = test.reset_index()  # make sure indexes pair with number of rows\n",
        "for index, sample in test_a[:50].iterrows():\n",
        "  target = sample[-2]\n",
        "  targets_a.append(target)\n",
        "  #print(sample)\n",
        "  #print(sample[:-1])\n",
        "  _, clas, _ = learn_a.predict(sample[:-2])\n",
        "  #row.show()\n",
        "  predictions_a.append(clas)\n",
        "\n",
        "#eval\n",
        "predictions_a = [float(x) for x in predictions_a]\n",
        "mse_a = mean_squared_error(predictions_a, targets_a)\n",
        "p_sort_a,t_sort_a = zip( *sorted( zip(predictions_a, targets_a)))\n",
        "eval_df_a = pd.DataFrame({'critical_temp': targets_a, 'critical_temp_pred': predictions_a })\n",
        "\n",
        "\n",
        "corr_a, _ = pearsonr(targets_a, predictions_a)\n",
        "print('Pearsons correlation: %.3f' % corr_a)\n",
        "print('Mean squared error: %.3f' % mse_a)\n",
        "\"\"\""
      ],
      "metadata": {
        "id": "Ko0B5moX_C3k",
        "colab": {
          "base_uri": "https://localhost:8080/",
          "height": 90
        },
        "outputId": "caf53352-ed51-454f-b6de-f02ba9960e25"
      },
      "execution_count": null,
      "outputs": [
        {
          "output_type": "execute_result",
          "data": {
            "application/vnd.google.colaboratory.intrinsic+json": {
              "type": "string"
            },
            "text/plain": [
              "\"\\ntargets_a  = []\\npredictions_a = []\\n#test = test.reset_index()  # make sure indexes pair with number of rows\\nfor index, sample in test_a[:50].iterrows():\\n  target = sample[-2]\\n  targets_a.append(target)\\n  #print(sample)\\n  #print(sample[:-1])\\n  _, clas, _ = learn_a.predict(sample[:-2])\\n  #row.show()\\n  predictions_a.append(clas)\\n\\n#eval\\npredictions_a = [float(x) for x in predictions_a]\\nmse_a = mean_squared_error(predictions_a, targets_a)\\np_sort_a,t_sort_a = zip( *sorted( zip(predictions_a, targets_a)))\\neval_df_a = pd.DataFrame({'critical_temp': targets_a, 'critical_temp_pred': predictions_a })\\n\\n\\ncorr_a, _ = pearsonr(targets_a, predictions_a)\\nprint('Pearsons correlation: %.3f' % corr_a)\\nprint('Mean squared error: %.3f' % mse_a)\\n\""
            ]
          },
          "metadata": {},
          "execution_count": 12
        }
      ]
    },
    {
      "cell_type": "code",
      "source": [
        "# create predictions, more efficient than the previous approach\n",
        "test_dl = learn_a.dls.test_dl(test_a)\n",
        "predictions_a, _ = learn_a.get_preds(dl=test_dl)\n",
        "\n",
        "predictions_a = pd.Series(predictions_a.numpy().flatten()).values\n",
        "targets_a = test_a['critical_temp']"
      ],
      "metadata": {
        "id": "sw9-qrZdDazi",
        "colab": {
          "base_uri": "https://localhost:8080/",
          "height": 17
        },
        "outputId": "76b09a8a-76a2-4cc8-8abe-723fbda572ba"
      },
      "execution_count": null,
      "outputs": [
        {
          "output_type": "display_data",
          "data": {
            "text/html": [
              "\n",
              "<style>\n",
              "    /* Turns off some styling */\n",
              "    progress {\n",
              "        /* gets rid of default border in Firefox and Opera. */\n",
              "        border: none;\n",
              "        /* Needs to be in here for Safari polyfill so background images work as expected. */\n",
              "        background-size: auto;\n",
              "    }\n",
              "    .progress-bar-interrupted, .progress-bar-interrupted::-webkit-progress-bar {\n",
              "        background: #F44336;\n",
              "    }\n",
              "</style>\n"
            ],
            "text/plain": [
              "<IPython.core.display.HTML object>"
            ]
          },
          "metadata": {}
        },
        {
          "output_type": "display_data",
          "data": {
            "text/html": [
              ""
            ],
            "text/plain": [
              "<IPython.core.display.HTML object>"
            ]
          },
          "metadata": {}
        }
      ]
    },
    {
      "cell_type": "code",
      "source": [
        "mse_a = mean_squared_error(predictions_a, targets_a)\n",
        "p_sort_a,t_sort_a = zip( *sorted( zip(predictions_a, targets_a)))\n",
        "eval_df_a = pd.DataFrame({'critical_temp': targets_a, 'critical_temp_pred': predictions_a })\n",
        "\n",
        "\n",
        "corr_a, _ = pearsonr(targets_a, predictions_a)\n",
        "print('Pearsons correlation: %.3f' % corr_a)\n",
        "print('Mean squared error: %.3f' % mse_a)"
      ],
      "metadata": {
        "colab": {
          "base_uri": "https://localhost:8080/"
        },
        "id": "C-EFZo4y8mAU",
        "outputId": "1046cba2-94e7-44dc-aba7-a5effda1baf9"
      },
      "execution_count": null,
      "outputs": [
        {
          "output_type": "stream",
          "name": "stdout",
          "text": [
            "Pearsons correlation: 0.884\n",
            "Mean squared error: 276.031\n"
          ]
        }
      ]
    },
    {
      "cell_type": "code",
      "source": [
        "plt.plot(p_sort_a,t_sort_a, 'bo')\n",
        "plt.ylabel(\"actual temperature\")\n",
        "plt.xlabel(\"predicted temperature\")\n",
        "plt.xlim(0, max(predictions_a))\n",
        "plt.ylim(0, max(targets_a))\n",
        "#fig.subplots_adjust(top=0.8)\n",
        "#ax1 = fig.add_subplot(211)\n",
        "#ax1.set_ylabel('actual temperature')\n",
        "#ax1.set_title('Predictions from just atomos')"
      ],
      "metadata": {
        "colab": {
          "base_uri": "https://localhost:8080/",
          "height": 297
        },
        "id": "eX107NPu_IEh",
        "outputId": "8252fd11-a8b6-4661-fb6b-ef2fdc24b003"
      },
      "execution_count": null,
      "outputs": [
        {
          "output_type": "execute_result",
          "data": {
            "text/plain": [
              "(0.0, 135.0)"
            ]
          },
          "metadata": {},
          "execution_count": 15
        },
        {
          "output_type": "display_data",
          "data": {
            "image/png": "[encoded data removed]",
            "text/plain": [
              "<Figure size 432x288 with 1 Axes>"
            ]
          },
          "metadata": {
            "needs_background": "light"
          }
        }
      ]
    },
    {
      "cell_type": "markdown",
      "source": [
        "There is still a high correlation between the predictions and the targets, so the model did a good job. Now we can move on and try to find new materials."
      ],
      "metadata": {
        "id": "AZz2fI7BqAo2"
      }
    },
    {
      "cell_type": "markdown",
      "source": [
        "# III. Artificial Dataset to make predictictions for new materials"
      ],
      "metadata": {
        "id": "83mYleqlHK-z"
      }
    },
    {
      "cell_type": "markdown",
      "source": [
        "## Create random new compounds by sampling elements from existing Dataframe "
      ],
      "metadata": {
        "id": "fO-UOLPjx6Qa"
      }
    },
    {
      "cell_type": "code",
      "source": [
        "col = train_a.columns[:-2]\n",
        "n_values = int(1e6) # amount of new elements\n",
        "fake_data = pd.DataFrame(data=np.zeros((n_values,len(col))), columns=col)"
      ],
      "metadata": {
        "id": "_NleXfxkHS-r"
      },
      "execution_count": null,
      "outputs": []
    },
    {
      "cell_type": "code",
      "source": [
        "for (columnName, columnData) in (train_a[col].iteritems()):\n",
        "  values = np.array(columnData.values) \n",
        "  \n",
        "  # more varriation\n",
        "  #normal = abs(np.random.randn(*values.shape) * .5 + 1.5)\n",
        "  \n",
        "  # special case O, Ca, Cu\n",
        "  # replace 0 with samples\n",
        "  if columnName in ['O','Ca','Cu']:\n",
        "    # these elements should be used more often\n",
        "    #mask = values == 0\n",
        "    non_zero_values = values[values != 0]\n",
        "    values = np.random.choice(non_zero_values, values.shape)\n",
        "  # create a weight vector to variate the inital previous elements\n",
        "  # change this vector for more/less variation\n",
        "  weight = (np.random.choice([0.5,1,1.5,2], values.shape, p=[0.1,0.7,0.1,0.1])) \n",
        "  fake_data[columnName] = np.random.choice(values * weight, n_values)"
      ],
      "metadata": {
        "id": "itf5dZ6SKsTo"
      },
      "execution_count": null,
      "outputs": []
    },
    {
      "cell_type": "code",
      "source": [
        "# drop out all null rows\n",
        "fake_data = fake_data.loc[~(fake_data==0).all(axis=1)]\n",
        "#fake_data.describe()"
      ],
      "metadata": {
        "id": "1GUSAqZMOM1i"
      },
      "execution_count": null,
      "outputs": []
    },
    {
      "cell_type": "code",
      "source": [
        "#train_a.describe()"
      ],
      "metadata": {
        "id": "dwNCkDBgKBCq"
      },
      "execution_count": null,
      "outputs": []
    },
    {
      "cell_type": "markdown",
      "source": [
        "## Predict with fake data"
      ],
      "metadata": {
        "id": "85laEtivOeTa"
      }
    },
    {
      "cell_type": "code",
      "source": [
        "# previous evaluation\n",
        "\"\"\"\n",
        "def find_new_materials(data, learner, n):\n",
        "  #targets = []\n",
        "  predictions = []\n",
        "  n = min(n, len(data))\n",
        "  data = data.sample(n)\n",
        "  #test = test.reset_index()  # make sure indexes pair with number of rows\n",
        "  for i,(_, sample) in enumerate(data.iterrows()):\n",
        "    if i % (n//10) == 0: print('sample %.f'%i)\n",
        "    #target = sample[-2]\n",
        "\n",
        "    #print(sample)\n",
        "    #print(sample[:-1])\n",
        "    _, clas, _ = learner.predict(sample)\n",
        "    #row.show()\n",
        "    predictions.append(clas)\n",
        "    #pdb.set_trace()\n",
        "    #break\n",
        "\n",
        "  #eval\n",
        "  predictions = np.array([float(x) for x in predictions])\n",
        "  #mse_a = mean_squared_error(predictions_a, targets_a)\n",
        "  #p_sort_a,t_sort_a = zip( *sorted( zip(predictions_a, targets_a)))\n",
        "  #print(pd.Series(predictions, index=data.index))\n",
        "  #data['predictions'] = pd.Series(predictions, index=data.index)\n",
        "  data = data.assign(predictions=pd.Series(predictions).values)\n",
        "  return data\n",
        "  \n",
        "\n",
        "  #corr_a, _ = pearsonr(targets_a, predictions_a)\n",
        "  #print('Pearsons correlation: %.3f' % corr_a)\n",
        "  #print('Mean squared error: %.3f' % mse_a)\n",
        "result = find_new_materials(fake_data, learn_a, n=200)\n",
        "\"\"\""
      ],
      "metadata": {
        "id": "h2QUWLK5Of3u",
        "colab": {
          "base_uri": "https://localhost:8080/",
          "height": 108
        },
        "outputId": "545983ce-58a8-4ab5-8b77-af0cf05704d2"
      },
      "execution_count": null,
      "outputs": [
        {
          "output_type": "execute_result",
          "data": {
            "application/vnd.google.colaboratory.intrinsic+json": {
              "type": "string"
            },
            "text/plain": [
              "\"\\ndef find_new_materials(data, learner, n):\\n  #targets = []\\n  predictions = []\\n  n = min(n, len(data))\\n  data = data.sample(n)\\n  #test = test.reset_index()  # make sure indexes pair with number of rows\\n  for i,(_, sample) in enumerate(data.iterrows()):\\n    if i % (n//10) == 0: print('sample %.f'%i)\\n    #target = sample[-2]\\n\\n    #print(sample)\\n    #print(sample[:-1])\\n    _, clas, _ = learner.predict(sample)\\n    #row.show()\\n    predictions.append(clas)\\n    #pdb.set_trace()\\n    #break\\n\\n  #eval\\n  predictions = np.array([float(x) for x in predictions])\\n  #mse_a = mean_squared_error(predictions_a, targets_a)\\n  #p_sort_a,t_sort_a = zip( *sorted( zip(predictions_a, targets_a)))\\n  #print(pd.Series(predictions, index=data.index))\\n  #data['predictions'] = pd.Series(predictions, index=data.index)\\n  data = data.assign(predictions=pd.Series(predictions).values)\\n  return data\\n  \\n\\n  #corr_a, _ = pearsonr(targets_a, predictions_a)\\n  #print('Pearsons correlation: %.3f' % corr_a)\\n  #print('Mean squared error: %.3f' % mse_a)\\nresult = find_new_materials(fake_data, learn_a, n=200)\\n\""
            ]
          },
          "metadata": {},
          "execution_count": 70
        }
      ]
    },
    {
      "cell_type": "code",
      "source": [
        "# create predictions\n",
        "test_dl = learn_a.dls.test_dl(fake_data)\n",
        "predictions, _ = learn_a.get_preds(dl=test_dl)\n",
        "\n",
        "predictions = pd.Series(predictions.numpy().flatten()).values\n",
        "\n",
        "fake_data = fake_data.assign(predictions= predictions)\n",
        "print(fake_data['predictions'].describe())\n",
        "print()\n",
        "fake_data = fake_data.sort_values(by='predictions', ascending=False)\n",
        "# print max tempreture\n",
        "#result['predictions'].idxmax()\n",
        "highest_temp = fake_data.loc[fake_data['predictions'].idxmax()]\n",
        "highest_temp[highest_temp>0]"
      ],
      "metadata": {
        "id": "427JRGcc3k8x",
        "colab": {
          "base_uri": "https://localhost:8080/",
          "height": 379
        },
        "outputId": "18b7ed67-2d48-4ae8-c31f-144741544c4d"
      },
      "execution_count": null,
      "outputs": [
        {
          "output_type": "display_data",
          "data": {
            "text/html": [
              "\n",
              "<style>\n",
              "    /* Turns off some styling */\n",
              "    progress {\n",
              "        /* gets rid of default border in Firefox and Opera. */\n",
              "        border: none;\n",
              "        /* Needs to be in here for Safari polyfill so background images work as expected. */\n",
              "        background-size: auto;\n",
              "    }\n",
              "    .progress-bar-interrupted, .progress-bar-interrupted::-webkit-progress-bar {\n",
              "        background: #F44336;\n",
              "    }\n",
              "</style>\n"
            ],
            "text/plain": [
              "<IPython.core.display.HTML object>"
            ]
          },
          "metadata": {}
        },
        {
          "output_type": "display_data",
          "data": {
            "text/html": [
              ""
            ],
            "text/plain": [
              "<IPython.core.display.HTML object>"
            ]
          },
          "metadata": {}
        },
        {
          "output_type": "stream",
          "name": "stdout",
          "text": [
            "count    1000000.000000\n",
            "mean          40.134357\n",
            "std           23.952740\n",
            "min         -721.353943\n",
            "25%           24.779832\n",
            "50%           36.364189\n",
            "75%           55.193825\n",
            "max          142.553452\n",
            "Name: predictions, dtype: float64\n",
            "\n"
          ]
        },
        {
          "output_type": "execute_result",
          "data": {
            "text/plain": [
              "O                2.000000\n",
              "Ca               3.000000\n",
              "Cu               3.920000\n",
              "Ga               0.150000\n",
              "Ag               5.000000\n",
              "Ba               3.600000\n",
              "Hg               1.200000\n",
              "Pb               0.400000\n",
              "predictions    142.553452\n",
              "Name: 793359, dtype: float64"
            ]
          },
          "metadata": {},
          "execution_count": 20
        }
      ]
    },
    {
      "cell_type": "code",
      "source": [
        "fake_data.head()"
      ],
      "metadata": {
        "id": "ECBdt6pESWxS",
        "colab": {
          "base_uri": "https://localhost:8080/",
          "height": 300
        },
        "outputId": "36dc583f-c281-46c0-bfc8-7bf0c3108a0e"
      },
      "execution_count": null,
      "outputs": [
        {
          "output_type": "execute_result",
          "data": {
            "text/html": [
              "\n",
              "  <div id=\"df-e29ecc66-39ac-491f-9cf4-139fe967b0a1\">\n",
              "    <div class=\"colab-df-container\">\n",
              "      <div>\n",
              "<style scoped>\n",
              "    .dataframe tbody tr th:only-of-type {\n",
              "        vertical-align: middle;\n",
              "    }\n",
              "\n",
              "    .dataframe tbody tr th {\n",
              "        vertical-align: top;\n",
              "    }\n",
              "\n",
              "    .dataframe thead th {\n",
              "        text-align: right;\n",
              "    }\n",
              "</style>\n",
              "<table border=\"1\" class=\"dataframe\">\n",
              "  <thead>\n",
              "    <tr style=\"text-align: right;\">\n",
              "      <th></th>\n",
              "      <th>index</th>\n",
              "      <th>H</th>\n",
              "      <th>He</th>\n",
              "      <th>Li</th>\n",
              "      <th>Be</th>\n",
              "      <th>B</th>\n",
              "      <th>C</th>\n",
              "      <th>N</th>\n",
              "      <th>O</th>\n",
              "      <th>F</th>\n",
              "      <th>Ne</th>\n",
              "      <th>Na</th>\n",
              "      <th>Mg</th>\n",
              "      <th>Al</th>\n",
              "      <th>Si</th>\n",
              "      <th>P</th>\n",
              "      <th>S</th>\n",
              "      <th>Cl</th>\n",
              "      <th>Ar</th>\n",
              "      <th>K</th>\n",
              "      <th>Ca</th>\n",
              "      <th>Sc</th>\n",
              "      <th>Ti</th>\n",
              "      <th>V</th>\n",
              "      <th>Cr</th>\n",
              "      <th>Mn</th>\n",
              "      <th>Fe</th>\n",
              "      <th>Co</th>\n",
              "      <th>Ni</th>\n",
              "      <th>Cu</th>\n",
              "      <th>Zn</th>\n",
              "      <th>Ga</th>\n",
              "      <th>Ge</th>\n",
              "      <th>As</th>\n",
              "      <th>Se</th>\n",
              "      <th>Br</th>\n",
              "      <th>Kr</th>\n",
              "      <th>Rb</th>\n",
              "      <th>Sr</th>\n",
              "      <th>Y</th>\n",
              "      <th>...</th>\n",
              "      <th>Cd</th>\n",
              "      <th>In</th>\n",
              "      <th>Sn</th>\n",
              "      <th>Sb</th>\n",
              "      <th>Te</th>\n",
              "      <th>I</th>\n",
              "      <th>Xe</th>\n",
              "      <th>Cs</th>\n",
              "      <th>Ba</th>\n",
              "      <th>La</th>\n",
              "      <th>Ce</th>\n",
              "      <th>Pr</th>\n",
              "      <th>Nd</th>\n",
              "      <th>Pm</th>\n",
              "      <th>Sm</th>\n",
              "      <th>Eu</th>\n",
              "      <th>Gd</th>\n",
              "      <th>Tb</th>\n",
              "      <th>Dy</th>\n",
              "      <th>Ho</th>\n",
              "      <th>Er</th>\n",
              "      <th>Tm</th>\n",
              "      <th>Yb</th>\n",
              "      <th>Lu</th>\n",
              "      <th>Hf</th>\n",
              "      <th>Ta</th>\n",
              "      <th>W</th>\n",
              "      <th>Re</th>\n",
              "      <th>Os</th>\n",
              "      <th>Ir</th>\n",
              "      <th>Pt</th>\n",
              "      <th>Au</th>\n",
              "      <th>Hg</th>\n",
              "      <th>Tl</th>\n",
              "      <th>Pb</th>\n",
              "      <th>Bi</th>\n",
              "      <th>Po</th>\n",
              "      <th>At</th>\n",
              "      <th>Rn</th>\n",
              "      <th>predictions</th>\n",
              "    </tr>\n",
              "  </thead>\n",
              "  <tbody>\n",
              "    <tr>\n",
              "      <th>0</th>\n",
              "      <td>793359</td>\n",
              "      <td>0.0</td>\n",
              "      <td>0.0</td>\n",
              "      <td>0.0</td>\n",
              "      <td>0.0</td>\n",
              "      <td>0.0</td>\n",
              "      <td>0.0</td>\n",
              "      <td>0.0</td>\n",
              "      <td>2.000</td>\n",
              "      <td>0.0</td>\n",
              "      <td>0.0</td>\n",
              "      <td>0.0</td>\n",
              "      <td>0.0</td>\n",
              "      <td>0.0</td>\n",
              "      <td>0.0</td>\n",
              "      <td>0.0</td>\n",
              "      <td>0.0</td>\n",
              "      <td>0.0</td>\n",
              "      <td>0.0</td>\n",
              "      <td>0.0</td>\n",
              "      <td>3.00</td>\n",
              "      <td>0.0</td>\n",
              "      <td>0.0</td>\n",
              "      <td>0.0</td>\n",
              "      <td>0.0</td>\n",
              "      <td>0.0</td>\n",
              "      <td>0.0</td>\n",
              "      <td>0.0</td>\n",
              "      <td>0.0</td>\n",
              "      <td>3.92</td>\n",
              "      <td>0.0</td>\n",
              "      <td>0.15</td>\n",
              "      <td>0.0</td>\n",
              "      <td>0.0</td>\n",
              "      <td>0.0</td>\n",
              "      <td>0.0</td>\n",
              "      <td>0.0</td>\n",
              "      <td>0.0</td>\n",
              "      <td>0.0</td>\n",
              "      <td>0.0</td>\n",
              "      <td>...</td>\n",
              "      <td>0.0</td>\n",
              "      <td>0.0</td>\n",
              "      <td>0.0</td>\n",
              "      <td>0.0</td>\n",
              "      <td>0.0</td>\n",
              "      <td>0.0</td>\n",
              "      <td>0.0</td>\n",
              "      <td>0.0</td>\n",
              "      <td>3.6</td>\n",
              "      <td>0.0</td>\n",
              "      <td>0.0</td>\n",
              "      <td>0.0</td>\n",
              "      <td>0.0</td>\n",
              "      <td>0.0</td>\n",
              "      <td>0.0</td>\n",
              "      <td>0.0</td>\n",
              "      <td>0.0</td>\n",
              "      <td>0.0</td>\n",
              "      <td>0.0</td>\n",
              "      <td>0.0</td>\n",
              "      <td>0.0</td>\n",
              "      <td>0.0</td>\n",
              "      <td>0.0</td>\n",
              "      <td>0.0</td>\n",
              "      <td>0.0</td>\n",
              "      <td>0.0</td>\n",
              "      <td>0.0</td>\n",
              "      <td>0.0</td>\n",
              "      <td>0.0000</td>\n",
              "      <td>0.0</td>\n",
              "      <td>0.00</td>\n",
              "      <td>0.0</td>\n",
              "      <td>1.2</td>\n",
              "      <td>0.0</td>\n",
              "      <td>0.4</td>\n",
              "      <td>0.0</td>\n",
              "      <td>0.0</td>\n",
              "      <td>0.0</td>\n",
              "      <td>0.0</td>\n",
              "      <td>142.553452</td>\n",
              "    </tr>\n",
              "    <tr>\n",
              "      <th>1</th>\n",
              "      <td>133840</td>\n",
              "      <td>0.0</td>\n",
              "      <td>0.0</td>\n",
              "      <td>0.0</td>\n",
              "      <td>0.0</td>\n",
              "      <td>0.0</td>\n",
              "      <td>0.0</td>\n",
              "      <td>0.0</td>\n",
              "      <td>4.000</td>\n",
              "      <td>0.0</td>\n",
              "      <td>0.0</td>\n",
              "      <td>0.0</td>\n",
              "      <td>0.0</td>\n",
              "      <td>0.0</td>\n",
              "      <td>0.0</td>\n",
              "      <td>0.0</td>\n",
              "      <td>0.0</td>\n",
              "      <td>0.0</td>\n",
              "      <td>0.0</td>\n",
              "      <td>0.0</td>\n",
              "      <td>1.50</td>\n",
              "      <td>0.0</td>\n",
              "      <td>0.0</td>\n",
              "      <td>0.0</td>\n",
              "      <td>0.0</td>\n",
              "      <td>2.0</td>\n",
              "      <td>0.0</td>\n",
              "      <td>0.0</td>\n",
              "      <td>0.0</td>\n",
              "      <td>1.50</td>\n",
              "      <td>0.0</td>\n",
              "      <td>0.00</td>\n",
              "      <td>0.0</td>\n",
              "      <td>0.0</td>\n",
              "      <td>0.0</td>\n",
              "      <td>0.0</td>\n",
              "      <td>0.0</td>\n",
              "      <td>0.0</td>\n",
              "      <td>0.0</td>\n",
              "      <td>0.0</td>\n",
              "      <td>...</td>\n",
              "      <td>0.0</td>\n",
              "      <td>0.0</td>\n",
              "      <td>0.0</td>\n",
              "      <td>0.0</td>\n",
              "      <td>0.0</td>\n",
              "      <td>0.0</td>\n",
              "      <td>0.0</td>\n",
              "      <td>0.0</td>\n",
              "      <td>8.0</td>\n",
              "      <td>0.0</td>\n",
              "      <td>0.0</td>\n",
              "      <td>0.0</td>\n",
              "      <td>0.0</td>\n",
              "      <td>0.0</td>\n",
              "      <td>0.0</td>\n",
              "      <td>0.0</td>\n",
              "      <td>0.0</td>\n",
              "      <td>0.0</td>\n",
              "      <td>0.0</td>\n",
              "      <td>0.0</td>\n",
              "      <td>0.0</td>\n",
              "      <td>0.0</td>\n",
              "      <td>0.0</td>\n",
              "      <td>0.0</td>\n",
              "      <td>0.0</td>\n",
              "      <td>0.0</td>\n",
              "      <td>0.0</td>\n",
              "      <td>0.0</td>\n",
              "      <td>0.0000</td>\n",
              "      <td>0.0</td>\n",
              "      <td>0.15</td>\n",
              "      <td>0.0</td>\n",
              "      <td>2.0</td>\n",
              "      <td>0.0</td>\n",
              "      <td>0.0</td>\n",
              "      <td>2.0</td>\n",
              "      <td>0.0</td>\n",
              "      <td>0.0</td>\n",
              "      <td>0.0</td>\n",
              "      <td>137.442490</td>\n",
              "    </tr>\n",
              "    <tr>\n",
              "      <th>2</th>\n",
              "      <td>204140</td>\n",
              "      <td>0.0</td>\n",
              "      <td>0.0</td>\n",
              "      <td>0.0</td>\n",
              "      <td>0.0</td>\n",
              "      <td>0.0</td>\n",
              "      <td>0.0</td>\n",
              "      <td>0.0</td>\n",
              "      <td>4.500</td>\n",
              "      <td>0.0</td>\n",
              "      <td>0.0</td>\n",
              "      <td>0.0</td>\n",
              "      <td>0.0</td>\n",
              "      <td>0.0</td>\n",
              "      <td>0.0</td>\n",
              "      <td>0.0</td>\n",
              "      <td>0.0</td>\n",
              "      <td>0.0</td>\n",
              "      <td>0.0</td>\n",
              "      <td>0.0</td>\n",
              "      <td>3.94</td>\n",
              "      <td>0.0</td>\n",
              "      <td>0.0</td>\n",
              "      <td>0.0</td>\n",
              "      <td>0.0</td>\n",
              "      <td>0.0</td>\n",
              "      <td>0.0</td>\n",
              "      <td>0.0</td>\n",
              "      <td>0.0</td>\n",
              "      <td>3.00</td>\n",
              "      <td>0.0</td>\n",
              "      <td>0.00</td>\n",
              "      <td>0.0</td>\n",
              "      <td>0.0</td>\n",
              "      <td>0.0</td>\n",
              "      <td>0.0</td>\n",
              "      <td>0.0</td>\n",
              "      <td>0.0</td>\n",
              "      <td>0.0</td>\n",
              "      <td>0.0</td>\n",
              "      <td>...</td>\n",
              "      <td>0.0</td>\n",
              "      <td>0.0</td>\n",
              "      <td>0.0</td>\n",
              "      <td>0.0</td>\n",
              "      <td>0.0</td>\n",
              "      <td>0.0</td>\n",
              "      <td>0.0</td>\n",
              "      <td>0.0</td>\n",
              "      <td>4.0</td>\n",
              "      <td>0.0</td>\n",
              "      <td>0.0</td>\n",
              "      <td>0.0</td>\n",
              "      <td>0.0</td>\n",
              "      <td>0.0</td>\n",
              "      <td>0.0</td>\n",
              "      <td>0.0</td>\n",
              "      <td>0.0</td>\n",
              "      <td>0.0</td>\n",
              "      <td>0.0</td>\n",
              "      <td>0.0</td>\n",
              "      <td>0.0</td>\n",
              "      <td>0.0</td>\n",
              "      <td>0.0</td>\n",
              "      <td>0.0</td>\n",
              "      <td>0.0</td>\n",
              "      <td>0.0</td>\n",
              "      <td>0.0</td>\n",
              "      <td>0.0</td>\n",
              "      <td>0.0000</td>\n",
              "      <td>0.0</td>\n",
              "      <td>0.00</td>\n",
              "      <td>0.0</td>\n",
              "      <td>1.0</td>\n",
              "      <td>0.0</td>\n",
              "      <td>0.0</td>\n",
              "      <td>0.0</td>\n",
              "      <td>0.0</td>\n",
              "      <td>0.0</td>\n",
              "      <td>0.0</td>\n",
              "      <td>136.861954</td>\n",
              "    </tr>\n",
              "    <tr>\n",
              "      <th>3</th>\n",
              "      <td>271286</td>\n",
              "      <td>0.0</td>\n",
              "      <td>0.0</td>\n",
              "      <td>0.0</td>\n",
              "      <td>0.0</td>\n",
              "      <td>0.0</td>\n",
              "      <td>0.0</td>\n",
              "      <td>0.0</td>\n",
              "      <td>12.000</td>\n",
              "      <td>0.0</td>\n",
              "      <td>0.0</td>\n",
              "      <td>0.0</td>\n",
              "      <td>0.0</td>\n",
              "      <td>0.0</td>\n",
              "      <td>0.0</td>\n",
              "      <td>0.0</td>\n",
              "      <td>0.0</td>\n",
              "      <td>0.0</td>\n",
              "      <td>0.0</td>\n",
              "      <td>0.0</td>\n",
              "      <td>4.00</td>\n",
              "      <td>0.0</td>\n",
              "      <td>0.0</td>\n",
              "      <td>0.0</td>\n",
              "      <td>0.0</td>\n",
              "      <td>0.0</td>\n",
              "      <td>0.0</td>\n",
              "      <td>0.0</td>\n",
              "      <td>0.0</td>\n",
              "      <td>1.00</td>\n",
              "      <td>0.0</td>\n",
              "      <td>0.00</td>\n",
              "      <td>0.0</td>\n",
              "      <td>0.0</td>\n",
              "      <td>0.0</td>\n",
              "      <td>0.0</td>\n",
              "      <td>0.0</td>\n",
              "      <td>0.0</td>\n",
              "      <td>0.0</td>\n",
              "      <td>0.0</td>\n",
              "      <td>...</td>\n",
              "      <td>0.0</td>\n",
              "      <td>0.0</td>\n",
              "      <td>0.0</td>\n",
              "      <td>12.0</td>\n",
              "      <td>0.0</td>\n",
              "      <td>0.0</td>\n",
              "      <td>0.0</td>\n",
              "      <td>0.0</td>\n",
              "      <td>2.0</td>\n",
              "      <td>0.0</td>\n",
              "      <td>0.0</td>\n",
              "      <td>0.0</td>\n",
              "      <td>0.0</td>\n",
              "      <td>0.0</td>\n",
              "      <td>0.0</td>\n",
              "      <td>0.0</td>\n",
              "      <td>0.0</td>\n",
              "      <td>0.0</td>\n",
              "      <td>0.0</td>\n",
              "      <td>0.0</td>\n",
              "      <td>0.0</td>\n",
              "      <td>0.0</td>\n",
              "      <td>0.0</td>\n",
              "      <td>0.0</td>\n",
              "      <td>0.0</td>\n",
              "      <td>0.0</td>\n",
              "      <td>0.0</td>\n",
              "      <td>0.0</td>\n",
              "      <td>0.0375</td>\n",
              "      <td>0.0</td>\n",
              "      <td>0.00</td>\n",
              "      <td>0.0</td>\n",
              "      <td>1.5</td>\n",
              "      <td>0.0</td>\n",
              "      <td>0.0</td>\n",
              "      <td>0.0</td>\n",
              "      <td>0.0</td>\n",
              "      <td>0.0</td>\n",
              "      <td>0.0</td>\n",
              "      <td>136.795578</td>\n",
              "    </tr>\n",
              "    <tr>\n",
              "      <th>4</th>\n",
              "      <td>869118</td>\n",
              "      <td>0.0</td>\n",
              "      <td>0.0</td>\n",
              "      <td>0.0</td>\n",
              "      <td>0.0</td>\n",
              "      <td>3.0</td>\n",
              "      <td>0.0</td>\n",
              "      <td>0.0</td>\n",
              "      <td>5.929</td>\n",
              "      <td>0.0</td>\n",
              "      <td>0.0</td>\n",
              "      <td>0.0</td>\n",
              "      <td>0.0</td>\n",
              "      <td>0.0</td>\n",
              "      <td>0.0</td>\n",
              "      <td>0.0</td>\n",
              "      <td>0.0</td>\n",
              "      <td>0.0</td>\n",
              "      <td>0.0</td>\n",
              "      <td>0.0</td>\n",
              "      <td>10.00</td>\n",
              "      <td>0.0</td>\n",
              "      <td>0.0</td>\n",
              "      <td>0.0</td>\n",
              "      <td>0.0</td>\n",
              "      <td>0.0</td>\n",
              "      <td>0.0</td>\n",
              "      <td>0.0</td>\n",
              "      <td>0.0</td>\n",
              "      <td>12.00</td>\n",
              "      <td>0.0</td>\n",
              "      <td>0.00</td>\n",
              "      <td>0.0</td>\n",
              "      <td>0.0</td>\n",
              "      <td>0.0</td>\n",
              "      <td>0.0</td>\n",
              "      <td>0.0</td>\n",
              "      <td>0.0</td>\n",
              "      <td>0.0</td>\n",
              "      <td>1.0</td>\n",
              "      <td>...</td>\n",
              "      <td>0.0</td>\n",
              "      <td>0.0</td>\n",
              "      <td>0.0</td>\n",
              "      <td>0.0</td>\n",
              "      <td>0.0</td>\n",
              "      <td>0.0</td>\n",
              "      <td>0.0</td>\n",
              "      <td>0.0</td>\n",
              "      <td>4.0</td>\n",
              "      <td>0.0</td>\n",
              "      <td>0.0</td>\n",
              "      <td>0.0</td>\n",
              "      <td>0.0</td>\n",
              "      <td>0.0</td>\n",
              "      <td>0.0</td>\n",
              "      <td>0.0</td>\n",
              "      <td>0.0</td>\n",
              "      <td>0.0</td>\n",
              "      <td>0.0</td>\n",
              "      <td>0.0</td>\n",
              "      <td>0.0</td>\n",
              "      <td>0.0</td>\n",
              "      <td>0.0</td>\n",
              "      <td>0.5</td>\n",
              "      <td>0.0</td>\n",
              "      <td>0.0</td>\n",
              "      <td>0.0</td>\n",
              "      <td>0.0</td>\n",
              "      <td>0.0000</td>\n",
              "      <td>0.0</td>\n",
              "      <td>0.00</td>\n",
              "      <td>0.0</td>\n",
              "      <td>0.0</td>\n",
              "      <td>2.0</td>\n",
              "      <td>0.0</td>\n",
              "      <td>0.0</td>\n",
              "      <td>0.0</td>\n",
              "      <td>0.0</td>\n",
              "      <td>0.0</td>\n",
              "      <td>134.683609</td>\n",
              "    </tr>\n",
              "  </tbody>\n",
              "</table>\n",
              "<p>5 rows × 88 columns</p>\n",
              "</div>\n",
              "      <button class=\"colab-df-convert\" onclick=\"convertToInteractive('df-e29ecc66-39ac-491f-9cf4-139fe967b0a1')\"\n",
              "              title=\"Convert this dataframe to an interactive table.\"\n",
              "              style=\"display:none;\">\n",
              "        \n",
              "  <svg xmlns=\"http://www.w3.org/2000/svg\" height=\"24px\"viewBox=\"0 0 24 24\"\n",
              "       width=\"24px\">\n",
              "    <path d=\"M0 0h24v24H0V0z\" fill=\"none\"/>\n",
              "    <path d=\"M18.56 5.44l.94 2.06.94-2.06 2.06-.94-2.06-.94-.94-2.06-.94 2.06-2.06.94zm-11 1L8.5 8.5l.94-2.06 2.06-.94-2.06-.94L8.5 2.5l-.94 2.06-2.06.94zm10 10l.94 2.06.94-2.06 2.06-.94-2.06-.94-.94-2.06-.94 2.06-2.06.94z\"/><path d=\"M17.41 7.96l-1.37-1.37c-.4-.4-.92-.59-1.43-.59-.52 0-1.04.2-1.43.59L10.3 9.45l-7.72 7.72c-.78.78-.78 2.05 0 2.83L4 21.41c.39.39.9.59 1.41.59.51 0 1.02-.2 1.41-.59l7.78-7.78 2.81-2.81c.8-.78.8-2.07 0-2.86zM5.41 20L4 18.59l7.72-7.72 1.47 1.35L5.41 20z\"/>\n",
              "  </svg>\n",
              "      </button>\n",
              "      \n",
              "  <style>\n",
              "    .colab-df-container {\n",
              "      display:flex;\n",
              "      flex-wrap:wrap;\n",
              "      gap: 12px;\n",
              "    }\n",
              "\n",
              "    .colab-df-convert {\n",
              "      background-color: #E8F0FE;\n",
              "      border: none;\n",
              "      border-radius: 50%;\n",
              "      cursor: pointer;\n",
              "      display: none;\n",
              "      fill: #1967D2;\n",
              "      height: 32px;\n",
              "      padding: 0 0 0 0;\n",
              "      width: 32px;\n",
              "    }\n",
              "\n",
              "    .colab-df-convert:hover {\n",
              "      background-color: #E2EBFA;\n",
              "      box-shadow: 0px 1px 2px rgba(60, 64, 67, 0.3), 0px 1px 3px 1px rgba(60, 64, 67, 0.15);\n",
              "      fill: #174EA6;\n",
              "    }\n",
              "\n",
              "    [theme=dark] .colab-df-convert {\n",
              "      background-color: #3B4455;\n",
              "      fill: #D2E3FC;\n",
              "    }\n",
              "\n",
              "    [theme=dark] .colab-df-convert:hover {\n",
              "      background-color: #434B5C;\n",
              "      box-shadow: 0px 1px 3px 1px rgba(0, 0, 0, 0.15);\n",
              "      filter: drop-shadow(0px 1px 2px rgba(0, 0, 0, 0.3));\n",
              "      fill: #FFFFFF;\n",
              "    }\n",
              "  </style>\n",
              "\n",
              "      <script>\n",
              "        const buttonEl =\n",
              "          document.querySelector('#df-e29ecc66-39ac-491f-9cf4-139fe967b0a1 button.colab-df-convert');\n",
              "        buttonEl.style.display =\n",
              "          google.colab.kernel.accessAllowed ? 'block' : 'none';\n",
              "\n",
              "        async function convertToInteractive(key) {\n",
              "          const element = document.querySelector('#df-e29ecc66-39ac-491f-9cf4-139fe967b0a1');\n",
              "          const dataTable =\n",
              "            await google.colab.kernel.invokeFunction('convertToInteractive',\n",
              "                                                     [key], {});\n",
              "          if (!dataTable) return;\n",
              "\n",
              "          const docLinkHtml = 'Like what you see? Visit the ' +\n",
              "            '<a target=\"_blank\" href=https://colab.research.google.com/notebooks/data_table.ipynb>data table notebook</a>'\n",
              "            + ' to learn more about interactive tables.';\n",
              "          element.innerHTML = '';\n",
              "          dataTable['output_type'] = 'display_data';\n",
              "          await google.colab.output.renderOutput(dataTable, element);\n",
              "          const docLink = document.createElement('div');\n",
              "          docLink.innerHTML = docLinkHtml;\n",
              "          element.appendChild(docLink);\n",
              "        }\n",
              "      </script>\n",
              "    </div>\n",
              "  </div>\n",
              "  "
            ],
            "text/plain": [
              "    index    H   He   Li   Be    B  ...   Pb   Bi   Po   At   Rn  predictions\n",
              "0  793359  0.0  0.0  0.0  0.0  0.0  ...  0.4  0.0  0.0  0.0  0.0   142.553452\n",
              "1  133840  0.0  0.0  0.0  0.0  0.0  ...  0.0  2.0  0.0  0.0  0.0   137.442490\n",
              "2  204140  0.0  0.0  0.0  0.0  0.0  ...  0.0  0.0  0.0  0.0  0.0   136.861954\n",
              "3  271286  0.0  0.0  0.0  0.0  0.0  ...  0.0  0.0  0.0  0.0  0.0   136.795578\n",
              "4  869118  0.0  0.0  0.0  0.0  3.0  ...  0.0  0.0  0.0  0.0  0.0   134.683609\n",
              "\n",
              "[5 rows x 88 columns]"
            ]
          },
          "metadata": {},
          "execution_count": 36
        }
      ]
    },
    {
      "cell_type": "code",
      "source": [
        "range(len(fake_data['predictions']))"
      ],
      "metadata": {
        "colab": {
          "base_uri": "https://localhost:8080/"
        },
        "id": "-fwKAyxiNWOA",
        "outputId": "4bfa31e4-944e-4a8e-a7e2-44f6fa880075"
      },
      "execution_count": null,
      "outputs": [
        {
          "output_type": "execute_result",
          "data": {
            "text/plain": [
              "range(0, 1000000)"
            ]
          },
          "metadata": {},
          "execution_count": 28
        }
      ]
    },
    {
      "cell_type": "code",
      "source": [
        "#fake_data=fake_data.reset_index()"
      ],
      "metadata": {
        "id": "iZ3aWUN3S62d"
      },
      "execution_count": null,
      "outputs": []
    },
    {
      "cell_type": "code",
      "source": [
        "# plot the best material combinations\n",
        "plt.plot( fake_data['predictions'], 'bo')\n",
        "plt.ylabel(\"predicted temperature\")\n",
        "plt.xlabel(\"index\")\n",
        "#plt.xlim(0, max(predictions_a))\n",
        "plt.ylim(120, max(fake_data['predictions']))"
      ],
      "metadata": {
        "colab": {
          "base_uri": "https://localhost:8080/",
          "height": 297
        },
        "id": "eyORpeS0M4lG",
        "outputId": "a1d1778f-9943-49ad-d8ac-d4a5c25cd7fe"
      },
      "execution_count": null,
      "outputs": [
        {
          "output_type": "execute_result",
          "data": {
            "text/plain": [
              "(120.0, 142.55345153808594)"
            ]
          },
          "metadata": {},
          "execution_count": 33
        },
        {
          "output_type": "display_data",
          "data": {
            "image/png": "[encoded data removed]",
            "text/plain": [
              "<Figure size 432x288 with 1 Axes>"
            ]
          },
          "metadata": {
            "needs_background": "light"
          }
        }
      ]
    },
    {
      "cell_type": "code",
      "source": [
        "# save csv\n",
        "fake_data.head(100).to_csv('drive/MyDrive/developer/superconduct/out2.csv')"
      ],
      "metadata": {
        "id": "XdTC8Hqt-PFR"
      },
      "execution_count": null,
      "outputs": []
    },
    {
      "cell_type": "markdown",
      "source": [
        "These are the best combinations, which deserve further observation. Because they are created randomly, many of them will not be realizable in the lab."
      ],
      "metadata": {
        "id": "u3QQDZ5XrsfP"
      }
    },
    {
      "cell_type": "markdown",
      "source": [
        "## Predict existing single compounds"
      ],
      "metadata": {
        "id": "HvKqtGzP_VSY"
      }
    },
    {
      "cell_type": "markdown",
      "source": [
        "Here we want to test the model on some new high tempreture superconductors, if it also predicts a high value for them."
      ],
      "metadata": {
        "id": "AAmCkhdX_vbS"
      }
    },
    {
      "cell_type": "code",
      "source": [
        ""
      ],
      "metadata": {
        "id": "AeQi50RF_mDV"
      },
      "execution_count": null,
      "outputs": []
    },
    {
      "cell_type": "code",
      "source": [
        "\n",
        "def predict_single(formular, real_temp):\n",
        "  col = train_a.columns[:-2]\n",
        "  n_values = 1\n",
        "  test_single_superconductors = pd.DataFrame(data=np.zeros((n_values,len(col))), columns=col)\n",
        "\n",
        "  for k, v in formular.items():\n",
        "    print('{} {}'.format(k,v))\n",
        "    test_single_superconductors[k] = v\n",
        "  _,prediction_single,_ = learn_a.predict(test_single_superconductors.iloc[0])\n",
        "  print(f'prediction: {int(prediction_single)} Kelvin\\nreal value: {real_temp} Kelvin\\n\\n')\n"
      ],
      "metadata": {
        "id": "1aerNqZ6AD4M"
      },
      "execution_count": null,
      "outputs": []
    },
    {
      "cell_type": "code",
      "source": [
        "# frome wikipeia: 'Hg12T3Ba30Ca30Cu45O127'\n",
        "formular = {'Hg':12,\n",
        "            'Tl': 3,\n",
        "            'Ba':30,\n",
        "            'Ca':30,\n",
        "            'Cu':45,\n",
        "            'O':127}\n",
        "real_temp = 138\n",
        "predict_single(formular, real_temp)  \n",
        "\n",
        "# frome wikipeia: 'Bi2Sr2Ca2Cu3O10'\n",
        "formular = {'Bi':2,\n",
        "            'Sr': 2,\n",
        "            'Ca':2,\n",
        "            'Cu':3,\n",
        "            'O':10}\n",
        "real_temp = 110\n",
        "predict_single(formular, real_temp)  \n",
        "\n"
      ],
      "metadata": {
        "colab": {
          "base_uri": "https://localhost:8080/",
          "height": 361
        },
        "id": "ZMbYgIaWEcYW",
        "outputId": "f58212d2-2b4d-4ed6-9940-2e839841655e"
      },
      "execution_count": null,
      "outputs": [
        {
          "output_type": "stream",
          "name": "stdout",
          "text": [
            "Hg 12\n",
            "Tl 3\n",
            "Ba 30\n",
            "Ca 30\n",
            "Cu 45\n",
            "O 127\n"
          ]
        },
        {
          "output_type": "display_data",
          "data": {
            "text/html": [
              "\n",
              "<style>\n",
              "    /* Turns off some styling */\n",
              "    progress {\n",
              "        /* gets rid of default border in Firefox and Opera. */\n",
              "        border: none;\n",
              "        /* Needs to be in here for Safari polyfill so background images work as expected. */\n",
              "        background-size: auto;\n",
              "    }\n",
              "    .progress-bar-interrupted, .progress-bar-interrupted::-webkit-progress-bar {\n",
              "        background: #F44336;\n",
              "    }\n",
              "</style>\n"
            ],
            "text/plain": [
              "<IPython.core.display.HTML object>"
            ]
          },
          "metadata": {}
        },
        {
          "output_type": "display_data",
          "data": {
            "text/html": [
              ""
            ],
            "text/plain": [
              "<IPython.core.display.HTML object>"
            ]
          },
          "metadata": {}
        },
        {
          "output_type": "stream",
          "name": "stdout",
          "text": [
            "prediction: 169 Kelvin\n",
            "real value: 138 Kelvin\n",
            "\n",
            "\n",
            "Bi 2\n",
            "Sr 2\n",
            "Ca 2\n",
            "Cu 3\n",
            "O 10\n"
          ]
        },
        {
          "output_type": "display_data",
          "data": {
            "text/html": [
              "\n",
              "<style>\n",
              "    /* Turns off some styling */\n",
              "    progress {\n",
              "        /* gets rid of default border in Firefox and Opera. */\n",
              "        border: none;\n",
              "        /* Needs to be in here for Safari polyfill so background images work as expected. */\n",
              "        background-size: auto;\n",
              "    }\n",
              "    .progress-bar-interrupted, .progress-bar-interrupted::-webkit-progress-bar {\n",
              "        background: #F44336;\n",
              "    }\n",
              "</style>\n"
            ],
            "text/plain": [
              "<IPython.core.display.HTML object>"
            ]
          },
          "metadata": {}
        },
        {
          "output_type": "display_data",
          "data": {
            "text/html": [
              ""
            ],
            "text/plain": [
              "<IPython.core.display.HTML object>"
            ]
          },
          "metadata": {}
        },
        {
          "output_type": "stream",
          "name": "stdout",
          "text": [
            "prediction: 71 Kelvin\n",
            "real value: 110 Kelvin\n",
            "\n",
            "\n"
          ]
        }
      ]
    },
    {
      "cell_type": "markdown",
      "source": [
        "It really recognizes them as high-temp. superconductors, but there is still a high variance."
      ],
      "metadata": {
        "id": "VkO7M5rnFn4F"
      }
    },
    {
      "cell_type": "code",
      "source": [
        ""
      ],
      "metadata": {
        "colab": {
          "base_uri": "https://localhost:8080/",
          "height": 17
        },
        "id": "1ADJRRM-CLwb",
        "outputId": "5afb884e-1a1d-4003-ff15-30f724d8316e"
      },
      "execution_count": null,
      "outputs": [
        {
          "output_type": "display_data",
          "data": {
            "text/html": [
              "\n",
              "<style>\n",
              "    /* Turns off some styling */\n",
              "    progress {\n",
              "        /* gets rid of default border in Firefox and Opera. */\n",
              "        border: none;\n",
              "        /* Needs to be in here for Safari polyfill so background images work as expected. */\n",
              "        background-size: auto;\n",
              "    }\n",
              "    .progress-bar-interrupted, .progress-bar-interrupted::-webkit-progress-bar {\n",
              "        background: #F44336;\n",
              "    }\n",
              "</style>\n"
            ],
            "text/plain": [
              "<IPython.core.display.HTML object>"
            ]
          },
          "metadata": {}
        },
        {
          "output_type": "display_data",
          "data": {
            "text/html": [
              ""
            ],
            "text/plain": [
              "<IPython.core.display.HTML object>"
            ]
          },
          "metadata": {}
        }
      ]
    },
    {
      "cell_type": "markdown",
      "source": [
        "## Future investigations\n",
        "- observe the material predictions in the lab\n",
        "- combine both data sets\n",
        "- add iteratively more data with higher values to the data set and do new predictions until you reach room temperature\n",
        "\n",
        "- use different models \n",
        "  - for example reinforcement learning, for the predictions. A approach where your input is a temprutuer and the output is a combination could also be really helpful, because in the end you can just ask for a combination for a critical room temp.\n",
        "  - the combination generator can also be exchanged. From a random model to a model which includes more chemical properties to avoid combinations which are not feasible\n",
        "  - GAN architecture can work. There you have one model which tries to create new combinations and another one who tries to predict if a combination is real or not. Little by little, they try to fool each other and get better and better at it. "
      ],
      "metadata": {
        "id": "QFzflXVcsdNT"
      }
    },
    {
      "cell_type": "markdown",
      "source": [
        "# IV. additional Dataset\n"
      ],
      "metadata": {
        "id": "fobxGZ9_hrGX"
      }
    },
    {
      "cell_type": "markdown",
      "source": [
        "of course you can also combine more data for training."
      ],
      "metadata": {
        "id": "eri8eQRbu0Bw"
      }
    },
    {
      "cell_type": "code",
      "source": [
        "df2 = pd.read_csv(\"drive/MyDrive/developer/superconduct/Supercon_data.csv\")"
      ],
      "metadata": {
        "id": "tipBxKThhthX"
      },
      "execution_count": null,
      "outputs": []
    },
    {
      "cell_type": "code",
      "source": [
        "df2.describe()"
      ],
      "metadata": {
        "id": "teOtzUPmiBD2"
      },
      "execution_count": null,
      "outputs": []
    },
    {
      "cell_type": "code",
      "source": [
        ""
      ],
      "metadata": {
        "id": "syL5vL1XiJs5"
      },
      "execution_count": null,
      "outputs": []
    }
  ]
}